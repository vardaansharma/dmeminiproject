{
 "cells": [
  {
   "cell_type": "code",
   "execution_count": 1,
   "metadata": {},
   "outputs": [],
   "source": [
    "import pandas as pd\n",
    "import numpy as np\n",
    "import matplotlib.pyplot as plt"
   ]
  },
  {
   "cell_type": "code",
   "execution_count": 2,
   "metadata": {},
   "outputs": [],
   "source": [
    "labels = pd.read_csv('targetlabels.txt',sep=\"\\t\",header=0,index_col=0)\n",
    "    \n",
    "data = pd.read_csv('data.csv',header=0,index_col=0)\n",
    "\n",
    "labels['class'] = pd.Series(0,dtype=int)\n",
    "labels['class'] = 0"
   ]
  },
  {
   "cell_type": "markdown",
   "metadata": {},
   "source": [
    "## Generate labels data\n",
    "\n",
    "### Note: there are three sample have both TCA and Resp, so maked as NaN"
   ]
  },
  {
   "cell_type": "code",
   "execution_count": 3,
   "metadata": {},
   "outputs": [],
   "source": [
    "# Generate class for each gene.\n",
    "\n",
    "for i in range(len(labels)):\n",
    "    if labels.iloc[i].sum()!=-2:\n",
    "        if labels.iloc[i]['TCA'] == 1:\n",
    "            labels['class'].iloc[i] = 1\n",
    "        elif labels.iloc[i]['Resp'] == 1:\n",
    "            labels['class'].iloc[i] = 2\n",
    "        elif labels.iloc[i]['Ribo'] == 1:\n",
    "            labels['class'].iloc[i] = 3\n",
    "        elif labels.iloc[i]['Proteas'] == 1:\n",
    "            labels['class'].iloc[i] = 4\n",
    "        elif labels.iloc[i]['Hist'] == 1:\n",
    "            labels['class'].iloc[i] = 5\n",
    "        elif labels.iloc[i]['HTH'] == 1:\n",
    "            labels['class'].iloc[i] = 6\n",
    "    elif labels.iloc[i].sum()==-6:\n",
    "        labels['class'].iloc[i] = 0\n",
    "    else: \n",
    "        labels['class'].iloc[i] = -2\n",
    "    "
   ]
  },
  {
   "cell_type": "code",
   "execution_count": 4,
   "metadata": {},
   "outputs": [
    {
     "data": {
      "text/html": [
       "<div>\n",
       "<style scoped>\n",
       "    .dataframe tbody tr th:only-of-type {\n",
       "        vertical-align: middle;\n",
       "    }\n",
       "\n",
       "    .dataframe tbody tr th {\n",
       "        vertical-align: top;\n",
       "    }\n",
       "\n",
       "    .dataframe thead th {\n",
       "        text-align: right;\n",
       "    }\n",
       "</style>\n",
       "<table border=\"1\" class=\"dataframe\">\n",
       "  <thead>\n",
       "    <tr style=\"text-align: right;\">\n",
       "      <th></th>\n",
       "      <th>TCA</th>\n",
       "      <th>Resp</th>\n",
       "      <th>Ribo</th>\n",
       "      <th>Proteas</th>\n",
       "      <th>Hist</th>\n",
       "      <th>HTH</th>\n",
       "      <th>class</th>\n",
       "    </tr>\n",
       "    <tr>\n",
       "      <th>gene</th>\n",
       "      <th></th>\n",
       "      <th></th>\n",
       "      <th></th>\n",
       "      <th></th>\n",
       "      <th></th>\n",
       "      <th></th>\n",
       "      <th></th>\n",
       "    </tr>\n",
       "  </thead>\n",
       "  <tbody>\n",
       "    <tr>\n",
       "      <th>YDR178W</th>\n",
       "      <td>1</td>\n",
       "      <td>1</td>\n",
       "      <td>-1</td>\n",
       "      <td>-1</td>\n",
       "      <td>-1</td>\n",
       "      <td>-1</td>\n",
       "      <td>-2</td>\n",
       "    </tr>\n",
       "    <tr>\n",
       "      <th>YKL148C</th>\n",
       "      <td>1</td>\n",
       "      <td>1</td>\n",
       "      <td>-1</td>\n",
       "      <td>-1</td>\n",
       "      <td>-1</td>\n",
       "      <td>-1</td>\n",
       "      <td>-2</td>\n",
       "    </tr>\n",
       "    <tr>\n",
       "      <th>YLL041C</th>\n",
       "      <td>1</td>\n",
       "      <td>1</td>\n",
       "      <td>-1</td>\n",
       "      <td>-1</td>\n",
       "      <td>-1</td>\n",
       "      <td>-1</td>\n",
       "      <td>-2</td>\n",
       "    </tr>\n",
       "  </tbody>\n",
       "</table>\n",
       "</div>"
      ],
      "text/plain": [
       "         TCA  Resp  Ribo  Proteas  Hist  HTH  class\n",
       "gene                                               \n",
       "YDR178W    1     1    -1       -1    -1   -1     -2\n",
       "YKL148C    1     1    -1       -1    -1   -1     -2\n",
       "YLL041C    1     1    -1       -1    -1   -1     -2"
      ]
     },
     "execution_count": 4,
     "metadata": {},
     "output_type": "execute_result"
    }
   ],
   "source": [
    "# Three abnormal data\n",
    "\n",
    "labels[(labels['TCA']==1)&(labels['Resp']==1)]"
   ]
  },
  {
   "cell_type": "code",
   "execution_count": 5,
   "metadata": {},
   "outputs": [],
   "source": [
    "# combine the label with the experiment data to a big dataframe\n",
    "comb = pd.merge(data, labels['class'], left_index=True, right_index=True, how='outer')"
   ]
  },
  {
   "cell_type": "code",
   "execution_count": 6,
   "metadata": {},
   "outputs": [],
   "source": [
    "comb.to_csv(\"combinedrawdata.csv\")"
   ]
  },
  {
   "cell_type": "code",
   "execution_count": 164,
   "metadata": {},
   "outputs": [
    {
     "data": {
      "text/html": [
       "<div>\n",
       "<style scoped>\n",
       "    .dataframe tbody tr th:only-of-type {\n",
       "        vertical-align: middle;\n",
       "    }\n",
       "\n",
       "    .dataframe tbody tr th {\n",
       "        vertical-align: top;\n",
       "    }\n",
       "\n",
       "    .dataframe thead th {\n",
       "        text-align: right;\n",
       "    }\n",
       "</style>\n",
       "<table border=\"1\" class=\"dataframe\">\n",
       "  <thead>\n",
       "    <tr style=\"text-align: right;\">\n",
       "      <th></th>\n",
       "      <th>TCA</th>\n",
       "      <th>Resp</th>\n",
       "      <th>Ribo</th>\n",
       "      <th>Proteas</th>\n",
       "      <th>Hist</th>\n",
       "      <th>HTH</th>\n",
       "    </tr>\n",
       "    <tr>\n",
       "      <th>class</th>\n",
       "      <th></th>\n",
       "      <th></th>\n",
       "      <th></th>\n",
       "      <th></th>\n",
       "      <th></th>\n",
       "      <th></th>\n",
       "    </tr>\n",
       "  </thead>\n",
       "  <tbody>\n",
       "    <tr>\n",
       "      <th>-2</th>\n",
       "      <td>3</td>\n",
       "      <td>3</td>\n",
       "      <td>3</td>\n",
       "      <td>3</td>\n",
       "      <td>3</td>\n",
       "      <td>3</td>\n",
       "    </tr>\n",
       "    <tr>\n",
       "      <th>0</th>\n",
       "      <td>2240</td>\n",
       "      <td>2240</td>\n",
       "      <td>2240</td>\n",
       "      <td>2240</td>\n",
       "      <td>2240</td>\n",
       "      <td>2240</td>\n",
       "    </tr>\n",
       "    <tr>\n",
       "      <th>1</th>\n",
       "      <td>14</td>\n",
       "      <td>14</td>\n",
       "      <td>14</td>\n",
       "      <td>14</td>\n",
       "      <td>14</td>\n",
       "      <td>14</td>\n",
       "    </tr>\n",
       "    <tr>\n",
       "      <th>2</th>\n",
       "      <td>27</td>\n",
       "      <td>27</td>\n",
       "      <td>27</td>\n",
       "      <td>27</td>\n",
       "      <td>27</td>\n",
       "      <td>27</td>\n",
       "    </tr>\n",
       "    <tr>\n",
       "      <th>3</th>\n",
       "      <td>121</td>\n",
       "      <td>121</td>\n",
       "      <td>121</td>\n",
       "      <td>121</td>\n",
       "      <td>121</td>\n",
       "      <td>121</td>\n",
       "    </tr>\n",
       "    <tr>\n",
       "      <th>4</th>\n",
       "      <td>35</td>\n",
       "      <td>35</td>\n",
       "      <td>35</td>\n",
       "      <td>35</td>\n",
       "      <td>35</td>\n",
       "      <td>35</td>\n",
       "    </tr>\n",
       "    <tr>\n",
       "      <th>5</th>\n",
       "      <td>11</td>\n",
       "      <td>11</td>\n",
       "      <td>11</td>\n",
       "      <td>11</td>\n",
       "      <td>11</td>\n",
       "      <td>11</td>\n",
       "    </tr>\n",
       "    <tr>\n",
       "      <th>6</th>\n",
       "      <td>16</td>\n",
       "      <td>16</td>\n",
       "      <td>16</td>\n",
       "      <td>16</td>\n",
       "      <td>16</td>\n",
       "      <td>16</td>\n",
       "    </tr>\n",
       "  </tbody>\n",
       "</table>\n",
       "</div>"
      ],
      "text/plain": [
       "        TCA  Resp  Ribo  Proteas  Hist   HTH\n",
       "class                                       \n",
       "-2        3     3     3        3     3     3\n",
       " 0     2240  2240  2240     2240  2240  2240\n",
       " 1       14    14    14       14    14    14\n",
       " 2       27    27    27       27    27    27\n",
       " 3      121   121   121      121   121   121\n",
       " 4       35    35    35       35    35    35\n",
       " 5       11    11    11       11    11    11\n",
       " 6       16    16    16       16    16    16"
      ]
     },
     "execution_count": 164,
     "metadata": {},
     "output_type": "execute_result"
    }
   ],
   "source": [
    "# label distribution\n",
    "labels.groupby('class').count()"
   ]
  },
  {
   "cell_type": "markdown",
   "metadata": {},
   "source": [
    "### class\n",
    "From TCA to HTH, 1 to 6 \n",
    "\n",
    "unlabel is 0\n",
    "\n",
    "-2 is the three strange data"
   ]
  },
  {
   "cell_type": "markdown",
   "metadata": {},
   "source": [
    "### imputer for missing data, using mean"
   ]
  },
  {
   "cell_type": "code",
   "execution_count": 169,
   "metadata": {},
   "outputs": [],
   "source": [
    "\n",
    "X = comb[comb['class']!=-2].iloc[:,1:-1]\n",
    "y = comb[comb['class']!=-2].iloc[:,-1]"
   ]
  },
  {
   "cell_type": "code",
   "execution_count": 171,
   "metadata": {},
   "outputs": [
    {
     "name": "stderr",
     "output_type": "stream",
     "text": [
      "/Users/shawn/miniconda3/envs/pyml/lib/python3.6/site-packages/sklearn/utils/deprecation.py:58: DeprecationWarning: Class Imputer is deprecated; Imputer was deprecated in version 0.20 and will be removed in 0.22. Import impute.SimpleImputer from sklearn instead.\n",
      "  warnings.warn(msg, category=DeprecationWarning)\n"
     ]
    }
   ],
   "source": [
    "from sklearn.preprocessing import Imputer\n",
    "\n",
    "imputer = Imputer(missing_values = np.nan, strategy = 'mean', axis=0)\n",
    "imputer = imputer.fit(X)\n",
    "X_imputered=imputer.transform(X)"
   ]
  },
  {
   "cell_type": "markdown",
   "metadata": {},
   "source": [
    "### dealing imbalance\n",
    "`over` and `under` are dictionary for how many sample we want for each class"
   ]
  },
  {
   "cell_type": "code",
   "execution_count": 177,
   "metadata": {},
   "outputs": [
    {
     "name": "stdout",
     "output_type": "stream",
     "text": [
      "Original:\n",
      "[(0, 2240), (1, 14), (2, 27), (3, 121), (4, 35), (5, 11), (6, 16)]\n",
      "after over sampling:\n",
      "[(0, 2240), (1, 300), (2, 300), (3, 300), (4, 300), (5, 300), (6, 300)]\n",
      "after Under sampling:\n",
      "[(0, 800), (1, 300), (2, 300), (3, 300), (4, 300), (5, 300), (6, 300)]\n"
     ]
    }
   ],
   "source": [
    "from collections import Counter\n",
    "print(\"Original:\")\n",
    "print(sorted(Counter(y).items()))\n",
    "\n",
    "from imblearn.over_sampling import SMOTE\n",
    "over = {1:300,2:300,3:300,4:300,5:300,6:300} #change here to set over sampling goal for those class\n",
    "X_over, y_over = SMOTE(sampling_strategy = over).fit_resample(X_imputered, y)\n",
    "print(\"after over sampling:\")\n",
    "print(sorted(Counter(y_over).items()))\n",
    "\n",
    "under = {0:800} # change here for under sampling goal\n",
    "from imblearn.under_sampling import RandomUnderSampler\n",
    "X_under, y_under = RandomUnderSampler(sampling_strategy = under ).fit_resample(X_over, y_over)\n",
    "print(\"after Under sampling:\")\n",
    "print(sorted(Counter(y_under).items()))\n",
    "\n",
    "\n",
    "# from imblearn.combine import SMOTEENN\n",
    "# smote_enn = SMOTEENN(sampling_strategy='all',smote=SMOTE(sampling_strategy = c))\n",
    "# X_resampled, y_resampled = smote_enn.fit_resample(X_imputered, y)\n",
    "# print(sorted(Counter(y_resampled).items()))\n",
    "\n"
   ]
  },
  {
   "cell_type": "code",
   "execution_count": null,
   "metadata": {},
   "outputs": [],
   "source": []
  }
 ],
 "metadata": {
  "kernelspec": {
   "display_name": "Python 3",
   "language": "python",
   "name": "python3"
  },
  "language_info": {
   "codemirror_mode": {
    "name": "ipython",
    "version": 3
   },
   "file_extension": ".py",
   "mimetype": "text/x-python",
   "name": "python",
   "nbconvert_exporter": "python",
   "pygments_lexer": "ipython3",
   "version": "3.6.8"
  }
 },
 "nbformat": 4,
 "nbformat_minor": 2
}
