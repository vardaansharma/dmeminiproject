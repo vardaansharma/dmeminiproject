{
 "cells": [
  {
   "cell_type": "code",
   "execution_count": 128,
   "metadata": {},
   "outputs": [],
   "source": [
    "import pandas as pd\n",
    "import numpy as np\n",
    "import matplotlib.pyplot as plt\n",
    "from sklearn.decomposition import PCA\n",
    "from gensim.models import doc2vec\n",
    "from gensim import models\n",
    "from gensim.models.doc2vec import TaggedDocument"
   ]
  },
  {
   "cell_type": "code",
   "execution_count": 129,
   "metadata": {},
   "outputs": [],
   "source": [
    "labels = pd.read_csv('targetlabels.txt',sep=\"\\t\",header=0,index_col=0)\n",
    "    \n",
    "data = pd.read_csv('data.csv',header=0,index_col=0)\n",
    "\n",
    "labels['class'] = pd.Series(0,dtype=int)\n",
    "labels['class'] = 0"
   ]
  },
  {
   "cell_type": "markdown",
   "metadata": {},
   "source": [
    "## Generate labels data\n",
    "\n",
    "### Note: there are three sample have both TCA and Resp, so maked as NaN"
   ]
  },
  {
   "cell_type": "code",
   "execution_count": 130,
   "metadata": {},
   "outputs": [],
   "source": [
    "# Generate class for each gene.\n",
    "\n",
    "for i in range(len(labels)):\n",
    "    if labels.iloc[i].sum()!=-2:\n",
    "        if labels.iloc[i]['TCA'] == 1:\n",
    "            labels['class'].iloc[i] = 1\n",
    "        elif labels.iloc[i]['Resp'] == 1:\n",
    "            labels['class'].iloc[i] = 2\n",
    "        elif labels.iloc[i]['Ribo'] == 1:\n",
    "            labels['class'].iloc[i] = 3\n",
    "        elif labels.iloc[i]['Proteas'] == 1:\n",
    "            labels['class'].iloc[i] = 4\n",
    "        elif labels.iloc[i]['Hist'] == 1:\n",
    "            labels['class'].iloc[i] = 5\n",
    "        elif labels.iloc[i]['HTH'] == 1:\n",
    "            labels['class'].iloc[i] = 6\n",
    "    elif labels.iloc[i].sum()==-6:\n",
    "        labels['class'].iloc[i] = 0\n",
    "    else: \n",
    "        labels['class'].iloc[i] = 7\n",
    "    "
   ]
  },
  {
   "cell_type": "code",
   "execution_count": 131,
   "metadata": {},
   "outputs": [
    {
     "data": {
      "text/html": [
       "<div>\n",
       "<style scoped>\n",
       "    .dataframe tbody tr th:only-of-type {\n",
       "        vertical-align: middle;\n",
       "    }\n",
       "\n",
       "    .dataframe tbody tr th {\n",
       "        vertical-align: top;\n",
       "    }\n",
       "\n",
       "    .dataframe thead th {\n",
       "        text-align: right;\n",
       "    }\n",
       "</style>\n",
       "<table border=\"1\" class=\"dataframe\">\n",
       "  <thead>\n",
       "    <tr style=\"text-align: right;\">\n",
       "      <th></th>\n",
       "      <th>TCA</th>\n",
       "      <th>Resp</th>\n",
       "      <th>Ribo</th>\n",
       "      <th>Proteas</th>\n",
       "      <th>Hist</th>\n",
       "      <th>HTH</th>\n",
       "      <th>class</th>\n",
       "    </tr>\n",
       "    <tr>\n",
       "      <th>gene</th>\n",
       "      <th></th>\n",
       "      <th></th>\n",
       "      <th></th>\n",
       "      <th></th>\n",
       "      <th></th>\n",
       "      <th></th>\n",
       "      <th></th>\n",
       "    </tr>\n",
       "  </thead>\n",
       "  <tbody>\n",
       "    <tr>\n",
       "      <th>YDR178W</th>\n",
       "      <td>1</td>\n",
       "      <td>1</td>\n",
       "      <td>-1</td>\n",
       "      <td>-1</td>\n",
       "      <td>-1</td>\n",
       "      <td>-1</td>\n",
       "      <td>7</td>\n",
       "    </tr>\n",
       "    <tr>\n",
       "      <th>YKL148C</th>\n",
       "      <td>1</td>\n",
       "      <td>1</td>\n",
       "      <td>-1</td>\n",
       "      <td>-1</td>\n",
       "      <td>-1</td>\n",
       "      <td>-1</td>\n",
       "      <td>7</td>\n",
       "    </tr>\n",
       "    <tr>\n",
       "      <th>YLL041C</th>\n",
       "      <td>1</td>\n",
       "      <td>1</td>\n",
       "      <td>-1</td>\n",
       "      <td>-1</td>\n",
       "      <td>-1</td>\n",
       "      <td>-1</td>\n",
       "      <td>7</td>\n",
       "    </tr>\n",
       "  </tbody>\n",
       "</table>\n",
       "</div>"
      ],
      "text/plain": [
       "         TCA  Resp  Ribo  Proteas  Hist  HTH  class\n",
       "gene                                               \n",
       "YDR178W    1     1    -1       -1    -1   -1      7\n",
       "YKL148C    1     1    -1       -1    -1   -1      7\n",
       "YLL041C    1     1    -1       -1    -1   -1      7"
      ]
     },
     "execution_count": 131,
     "metadata": {},
     "output_type": "execute_result"
    }
   ],
   "source": [
    "# Three abnormal data\n",
    "\n",
    "labels[(labels['TCA']==1)&(labels['Resp']==1)]"
   ]
  },
  {
   "cell_type": "code",
   "execution_count": 132,
   "metadata": {},
   "outputs": [],
   "source": [
    "# combine the label with the experiment data to a big dataframe\n",
    "comb = pd.merge(data, labels['class'], left_index=True, right_index=True, how='outer')"
   ]
  },
  {
   "cell_type": "code",
   "execution_count": 133,
   "metadata": {},
   "outputs": [
    {
     "data": {
      "text/html": [
       "<div>\n",
       "<style scoped>\n",
       "    .dataframe tbody tr th:only-of-type {\n",
       "        vertical-align: middle;\n",
       "    }\n",
       "\n",
       "    .dataframe tbody tr th {\n",
       "        vertical-align: top;\n",
       "    }\n",
       "\n",
       "    .dataframe thead th {\n",
       "        text-align: right;\n",
       "    }\n",
       "</style>\n",
       "<table border=\"1\" class=\"dataframe\">\n",
       "  <thead>\n",
       "    <tr style=\"text-align: right;\">\n",
       "      <th></th>\n",
       "      <th>NAME</th>\n",
       "      <th>alpha 0</th>\n",
       "      <th>alpha 7</th>\n",
       "      <th>alpha 14</th>\n",
       "      <th>alpha 21</th>\n",
       "      <th>alpha 28</th>\n",
       "      <th>alpha 35</th>\n",
       "      <th>alpha 42</th>\n",
       "      <th>alpha 49</th>\n",
       "      <th>alpha 56</th>\n",
       "      <th>...</th>\n",
       "      <th>cold 40</th>\n",
       "      <th>cold 160</th>\n",
       "      <th>diau a</th>\n",
       "      <th>diau b</th>\n",
       "      <th>diau c</th>\n",
       "      <th>diau d</th>\n",
       "      <th>diau e</th>\n",
       "      <th>diau f</th>\n",
       "      <th>diau g</th>\n",
       "      <th>class</th>\n",
       "    </tr>\n",
       "  </thead>\n",
       "  <tbody>\n",
       "    <tr>\n",
       "      <th>YAL001C</th>\n",
       "      <td>TFC3   TRANSCRIPTION            TFIIIC 138 KD ...</td>\n",
       "      <td>-0.38</td>\n",
       "      <td>-0.38</td>\n",
       "      <td>-0.43</td>\n",
       "      <td>-0.06</td>\n",
       "      <td>-0.64</td>\n",
       "      <td>-0.67</td>\n",
       "      <td>-0.38</td>\n",
       "      <td>0.12</td>\n",
       "      <td>-0.32</td>\n",
       "      <td>...</td>\n",
       "      <td>0.93</td>\n",
       "      <td>0.29</td>\n",
       "      <td>-0.06</td>\n",
       "      <td>0.08</td>\n",
       "      <td>0.42</td>\n",
       "      <td>0.48</td>\n",
       "      <td>0.21</td>\n",
       "      <td>0.77</td>\n",
       "      <td>0.34</td>\n",
       "      <td>0</td>\n",
       "    </tr>\n",
       "    <tr>\n",
       "      <th>YAL002W</th>\n",
       "      <td>VPS8   VACUOLAR PROTEIN TARGETI UNKNOWN</td>\n",
       "      <td>-0.30</td>\n",
       "      <td>-0.09</td>\n",
       "      <td>-0.18</td>\n",
       "      <td>-0.14</td>\n",
       "      <td>-0.15</td>\n",
       "      <td>-0.45</td>\n",
       "      <td>-0.15</td>\n",
       "      <td>0.61</td>\n",
       "      <td>-0.42</td>\n",
       "      <td>...</td>\n",
       "      <td>-0.25</td>\n",
       "      <td>-0.04</td>\n",
       "      <td>-0.01</td>\n",
       "      <td>0.51</td>\n",
       "      <td>-0.04</td>\n",
       "      <td>-0.04</td>\n",
       "      <td>-0.23</td>\n",
       "      <td>0.06</td>\n",
       "      <td>0.90</td>\n",
       "      <td>0</td>\n",
       "    </tr>\n",
       "    <tr>\n",
       "      <th>YAL003W</th>\n",
       "      <td>EFB1   PROTEINSYNTHESIS         ELONGATION FAC...</td>\n",
       "      <td>0.01</td>\n",
       "      <td>-0.56</td>\n",
       "      <td>0.25</td>\n",
       "      <td>-0.17</td>\n",
       "      <td>-0.25</td>\n",
       "      <td>-0.43</td>\n",
       "      <td>0.26</td>\n",
       "      <td>0.31</td>\n",
       "      <td>0.24</td>\n",
       "      <td>...</td>\n",
       "      <td>-1.15</td>\n",
       "      <td>-1.29</td>\n",
       "      <td>0.24</td>\n",
       "      <td>NaN</td>\n",
       "      <td>-0.04</td>\n",
       "      <td>-0.64</td>\n",
       "      <td>-0.94</td>\n",
       "      <td>-1.56</td>\n",
       "      <td>-2.32</td>\n",
       "      <td>0</td>\n",
       "    </tr>\n",
       "    <tr>\n",
       "      <th>YAL005C</th>\n",
       "      <td>SSA1   ER AND MITOCHONDRIAL TRA CYTOSOLIC HSP70</td>\n",
       "      <td>0.08</td>\n",
       "      <td>-0.40</td>\n",
       "      <td>-0.34</td>\n",
       "      <td>0.07</td>\n",
       "      <td>0.24</td>\n",
       "      <td>0.06</td>\n",
       "      <td>0.38</td>\n",
       "      <td>0.32</td>\n",
       "      <td>0.25</td>\n",
       "      <td>...</td>\n",
       "      <td>-0.18</td>\n",
       "      <td>0.30</td>\n",
       "      <td>0.12</td>\n",
       "      <td>0.06</td>\n",
       "      <td>0.04</td>\n",
       "      <td>-0.01</td>\n",
       "      <td>-0.12</td>\n",
       "      <td>0.01</td>\n",
       "      <td>-0.15</td>\n",
       "      <td>0</td>\n",
       "    </tr>\n",
       "    <tr>\n",
       "      <th>YAL010C</th>\n",
       "      <td>MDM10  MITOCHONDRIAL BIOGENESIS (PUTATIVE) COM...</td>\n",
       "      <td>-0.20</td>\n",
       "      <td>-0.01</td>\n",
       "      <td>-0.01</td>\n",
       "      <td>-0.36</td>\n",
       "      <td>-0.60</td>\n",
       "      <td>-0.36</td>\n",
       "      <td>-0.09</td>\n",
       "      <td>-0.29</td>\n",
       "      <td>-0.15</td>\n",
       "      <td>...</td>\n",
       "      <td>-0.34</td>\n",
       "      <td>-0.01</td>\n",
       "      <td>-1.18</td>\n",
       "      <td>-0.10</td>\n",
       "      <td>0.04</td>\n",
       "      <td>-0.89</td>\n",
       "      <td>-0.92</td>\n",
       "      <td>0.37</td>\n",
       "      <td>-0.18</td>\n",
       "      <td>0</td>\n",
       "    </tr>\n",
       "  </tbody>\n",
       "</table>\n",
       "<p>5 rows × 81 columns</p>\n",
       "</div>"
      ],
      "text/plain": [
       "                                                      NAME  alpha 0  alpha 7  \\\n",
       "YAL001C  TFC3   TRANSCRIPTION            TFIIIC 138 KD ...    -0.38    -0.38   \n",
       "YAL002W            VPS8   VACUOLAR PROTEIN TARGETI UNKNOWN    -0.30    -0.09   \n",
       "YAL003W  EFB1   PROTEINSYNTHESIS         ELONGATION FAC...     0.01    -0.56   \n",
       "YAL005C    SSA1   ER AND MITOCHONDRIAL TRA CYTOSOLIC HSP70     0.08    -0.40   \n",
       "YAL010C  MDM10  MITOCHONDRIAL BIOGENESIS (PUTATIVE) COM...    -0.20    -0.01   \n",
       "\n",
       "         alpha 14  alpha 21  alpha 28  alpha 35  alpha 42  alpha 49  alpha 56  \\\n",
       "YAL001C     -0.43     -0.06     -0.64     -0.67     -0.38      0.12     -0.32   \n",
       "YAL002W     -0.18     -0.14     -0.15     -0.45     -0.15      0.61     -0.42   \n",
       "YAL003W      0.25     -0.17     -0.25     -0.43      0.26      0.31      0.24   \n",
       "YAL005C     -0.34      0.07      0.24      0.06      0.38      0.32      0.25   \n",
       "YAL010C     -0.01     -0.36     -0.60     -0.36     -0.09     -0.29     -0.15   \n",
       "\n",
       "         ...  cold 40  cold 160  diau a  diau b  diau c  diau d  diau e  \\\n",
       "YAL001C  ...     0.93      0.29   -0.06    0.08    0.42    0.48    0.21   \n",
       "YAL002W  ...    -0.25     -0.04   -0.01    0.51   -0.04   -0.04   -0.23   \n",
       "YAL003W  ...    -1.15     -1.29    0.24     NaN   -0.04   -0.64   -0.94   \n",
       "YAL005C  ...    -0.18      0.30    0.12    0.06    0.04   -0.01   -0.12   \n",
       "YAL010C  ...    -0.34     -0.01   -1.18   -0.10    0.04   -0.89   -0.92   \n",
       "\n",
       "         diau f  diau g  class  \n",
       "YAL001C    0.77    0.34      0  \n",
       "YAL002W    0.06    0.90      0  \n",
       "YAL003W   -1.56   -2.32      0  \n",
       "YAL005C    0.01   -0.15      0  \n",
       "YAL010C    0.37   -0.18      0  \n",
       "\n",
       "[5 rows x 81 columns]"
      ]
     },
     "execution_count": 133,
     "metadata": {},
     "output_type": "execute_result"
    }
   ],
   "source": [
    "comb.head(5)"
   ]
  },
  {
   "cell_type": "code",
   "execution_count": 134,
   "metadata": {},
   "outputs": [
    {
     "data": {
      "text/html": [
       "<div>\n",
       "<style scoped>\n",
       "    .dataframe tbody tr th:only-of-type {\n",
       "        vertical-align: middle;\n",
       "    }\n",
       "\n",
       "    .dataframe tbody tr th {\n",
       "        vertical-align: top;\n",
       "    }\n",
       "\n",
       "    .dataframe thead th {\n",
       "        text-align: right;\n",
       "    }\n",
       "</style>\n",
       "<table border=\"1\" class=\"dataframe\">\n",
       "  <thead>\n",
       "    <tr style=\"text-align: right;\">\n",
       "      <th></th>\n",
       "      <th>TCA</th>\n",
       "      <th>Resp</th>\n",
       "      <th>Ribo</th>\n",
       "      <th>Proteas</th>\n",
       "      <th>Hist</th>\n",
       "      <th>HTH</th>\n",
       "    </tr>\n",
       "    <tr>\n",
       "      <th>class</th>\n",
       "      <th></th>\n",
       "      <th></th>\n",
       "      <th></th>\n",
       "      <th></th>\n",
       "      <th></th>\n",
       "      <th></th>\n",
       "    </tr>\n",
       "  </thead>\n",
       "  <tbody>\n",
       "    <tr>\n",
       "      <th>0</th>\n",
       "      <td>2240</td>\n",
       "      <td>2240</td>\n",
       "      <td>2240</td>\n",
       "      <td>2240</td>\n",
       "      <td>2240</td>\n",
       "      <td>2240</td>\n",
       "    </tr>\n",
       "    <tr>\n",
       "      <th>1</th>\n",
       "      <td>14</td>\n",
       "      <td>14</td>\n",
       "      <td>14</td>\n",
       "      <td>14</td>\n",
       "      <td>14</td>\n",
       "      <td>14</td>\n",
       "    </tr>\n",
       "    <tr>\n",
       "      <th>2</th>\n",
       "      <td>27</td>\n",
       "      <td>27</td>\n",
       "      <td>27</td>\n",
       "      <td>27</td>\n",
       "      <td>27</td>\n",
       "      <td>27</td>\n",
       "    </tr>\n",
       "    <tr>\n",
       "      <th>3</th>\n",
       "      <td>121</td>\n",
       "      <td>121</td>\n",
       "      <td>121</td>\n",
       "      <td>121</td>\n",
       "      <td>121</td>\n",
       "      <td>121</td>\n",
       "    </tr>\n",
       "    <tr>\n",
       "      <th>4</th>\n",
       "      <td>35</td>\n",
       "      <td>35</td>\n",
       "      <td>35</td>\n",
       "      <td>35</td>\n",
       "      <td>35</td>\n",
       "      <td>35</td>\n",
       "    </tr>\n",
       "    <tr>\n",
       "      <th>5</th>\n",
       "      <td>11</td>\n",
       "      <td>11</td>\n",
       "      <td>11</td>\n",
       "      <td>11</td>\n",
       "      <td>11</td>\n",
       "      <td>11</td>\n",
       "    </tr>\n",
       "    <tr>\n",
       "      <th>6</th>\n",
       "      <td>16</td>\n",
       "      <td>16</td>\n",
       "      <td>16</td>\n",
       "      <td>16</td>\n",
       "      <td>16</td>\n",
       "      <td>16</td>\n",
       "    </tr>\n",
       "    <tr>\n",
       "      <th>7</th>\n",
       "      <td>3</td>\n",
       "      <td>3</td>\n",
       "      <td>3</td>\n",
       "      <td>3</td>\n",
       "      <td>3</td>\n",
       "      <td>3</td>\n",
       "    </tr>\n",
       "  </tbody>\n",
       "</table>\n",
       "</div>"
      ],
      "text/plain": [
       "        TCA  Resp  Ribo  Proteas  Hist   HTH\n",
       "class                                       \n",
       "0      2240  2240  2240     2240  2240  2240\n",
       "1        14    14    14       14    14    14\n",
       "2        27    27    27       27    27    27\n",
       "3       121   121   121      121   121   121\n",
       "4        35    35    35       35    35    35\n",
       "5        11    11    11       11    11    11\n",
       "6        16    16    16       16    16    16\n",
       "7         3     3     3        3     3     3"
      ]
     },
     "execution_count": 134,
     "metadata": {},
     "output_type": "execute_result"
    }
   ],
   "source": [
    "# label distribution\n",
    "labels.groupby('class').count()"
   ]
  },
  {
   "cell_type": "markdown",
   "metadata": {},
   "source": [
    "### class\n",
    "From TCA to HTH, 1 to 6 \n",
    "\n",
    "unlabel is 0\n",
    "\n",
    "-2 is the three strange data"
   ]
  },
  {
   "cell_type": "markdown",
   "metadata": {},
   "source": [
    "### imputer for missing data, using mean"
   ]
  },
  {
   "cell_type": "code",
   "execution_count": 135,
   "metadata": {},
   "outputs": [
    {
     "name": "stdout",
     "output_type": "stream",
     "text": [
      "['alpha 0', 'alpha 7', 'alpha 14', 'alpha 21', 'alpha 28', 'alpha 35', 'alpha 42', 'alpha 49', 'alpha 56', 'alpha 63', 'alpha 70', 'alpha 77', 'alpha 84', 'alpha 91', 'alpha 98', 'alpha 105', 'alpha 112', 'alpha 119', 'Elu 0', 'Elu 30', 'Elu 60', 'Elu 90', 'Elu 120', 'Elu 150', 'Elu 180', 'Elu 210', 'Elu 240', 'Elu 270', 'Elu 300', 'Elu 330', 'Elu 360', 'Elu 390', 'cdc15 10', 'cdc15 30', 'cdc15 50', 'cdc15 70', 'cdc15 90', 'cdc15 110', 'cdc15 130', 'cdc15 150', 'cdc15 170', 'cdc15 190', 'cdc15 210', 'cdc15 230', 'cdc15 250', 'cdc15 270', 'cdc15 290', 'spo 0', 'spo 2', 'spo 5', 'spo 7', 'spo 9', 'spo 11', 'spo5 2', 'spo5 7', 'spo5 11', 'spo- early', 'spo- mid', 'heat 0', 'heat 10', 'heat 20', 'heat 40', 'heat 80', 'heat 160', 'dtt 15', 'dtt 30', 'dtt 60', 'dtt 120', 'cold 0', 'cold 20', 'cold 40', 'cold 160', 'diau a', 'diau b', 'diau c', 'diau d', 'diau e', 'diau f', 'diau g']\n",
      "['alpha 0', 'alpha 7', 'alpha 14', 'alpha 21', 'alpha 28', 'alpha 35', 'alpha 42', 'alpha 49', 'alpha 56', 'alpha 63', 'alpha 70', 'alpha 77', 'alpha 84', 'alpha 91', 'alpha 98', 'alpha 105', 'alpha 112', 'alpha 119']\n",
      "['Elu 0', 'Elu 30', 'Elu 60', 'Elu 90', 'Elu 120', 'Elu 150', 'Elu 180', 'Elu 210', 'Elu 240', 'Elu 270', 'Elu 300', 'Elu 330', 'Elu 360', 'Elu 390']\n",
      "['cdc15 10', 'cdc15 30', 'cdc15 50', 'cdc15 70', 'cdc15 90', 'cdc15 110', 'cdc15 130', 'cdc15 150', 'cdc15 170', 'cdc15 190', 'cdc15 210', 'cdc15 230', 'cdc15 250', 'cdc15 270', 'cdc15 290']\n",
      "['spo 0', 'spo 2', 'spo 5', 'spo 7', 'spo 9', 'spo 11', 'spo5 2', 'spo5 7', 'spo5 11']\n",
      "['spo- early', 'spo- mid']\n",
      "['heat 0', 'heat 10', 'heat 20', 'heat 40', 'heat 80', 'heat 160']\n",
      "['dtt 15', 'dtt 30', 'dtt 60', 'dtt 120']\n",
      "['cold 0', 'cold 20', 'cold 40', 'cold 160']\n",
      "['diau a', 'diau b', 'diau c', 'diau d', 'diau e', 'diau f', 'diau g']\n"
     ]
    }
   ],
   "source": [
    "\n",
    "X = comb[comb['class']!=7].iloc[:,1:-1]\n",
    "y = comb[comb['class']!=7].iloc[:,-1]\n",
    "alphaX= comb[comb['class']!=7].iloc[:,1:19]\n",
    "eluX= comb[comb['class']!=7].iloc[:,19:33]\n",
    "edcX= comb[comb['class']!=7].iloc[:,33:48]\n",
    "spotX= comb[comb['class']!=7].iloc[:,48:57]\n",
    "spoX= comb[comb['class']!=7].iloc[:,57:59]\n",
    "heatX= comb[comb['class']!=7].iloc[:,59:65]\n",
    "dttX= comb[comb['class']!=7].iloc[:,65:69]\n",
    "coldX= comb[comb['class']!=7].iloc[:,69:73]\n",
    "diauX= comb[comb['class']!=7].iloc[:,73:80]\n",
    "print(list(X.columns.values))\n",
    "print(list(alphaX.columns.values))\n",
    "print(list(eluX.columns.values))\n",
    "print(list(edcX.columns.values))\n",
    "print(list(spotX.columns.values))\n",
    "print(list(spoX.columns.values))\n",
    "print(list(heatX.columns.values))\n",
    "print(list(dttX.columns.values))\n",
    "print(list(coldX.columns.values))\n",
    "print(list(diauX.columns.values))"
   ]
  },
  {
   "cell_type": "code",
   "execution_count": 137,
   "metadata": {},
   "outputs": [],
   "source": [
    "X = comb[comb['class']!=7].iloc[:,1:-1]\n",
    "y = comb[comb['class']!=7].iloc[:,-1]"
   ]
  },
  {
   "cell_type": "code",
   "execution_count": 138,
   "metadata": {},
   "outputs": [],
   "source": [
    "newX= comb[comb['class']!=7].iloc[:,:-1] #getting name"
   ]
  },
  {
   "cell_type": "code",
   "execution_count": 139,
   "metadata": {},
   "outputs": [
    {
     "name": "stdout",
     "output_type": "stream",
     "text": [
      "(2464, 80)\n"
     ]
    }
   ],
   "source": [
    "newX.head(5)\n",
    "print(newX.shape)"
   ]
  },
  {
   "cell_type": "code",
   "execution_count": 140,
   "metadata": {},
   "outputs": [],
   "source": [
    "tag_values=[]\n",
    "docs=[]\n",
    "i=0\n",
    "for index, row in newX.iterrows():\n",
    " w=row[\"NAME\"].split()\n",
    " t1=[i]\n",
    " docs.append(TaggedDocument(words=w, tags=t1))\n",
    " i+=1"
   ]
  },
  {
   "cell_type": "code",
   "execution_count": 141,
   "metadata": {},
   "outputs": [],
   "source": [
    "size=15\n",
    "model = models.Doc2Vec(vector_size=size, window=3, min_count=2, workers=4, epochs=20)\n",
    "model.build_vocab(docs)"
   ]
  },
  {
   "cell_type": "code",
   "execution_count": 142,
   "metadata": {},
   "outputs": [
    {
     "name": "stderr",
     "output_type": "stream",
     "text": [
      "/Library/Frameworks/Python.framework/Versions/3.7/lib/python3.7/site-packages/ipykernel_launcher.py:1: DeprecationWarning: Call to deprecated `iter` (Attribute will be removed in 4.0.0, use self.epochs instead).\n",
      "  \"\"\"Entry point for launching an IPython kernel.\n"
     ]
    }
   ],
   "source": [
    "model.train(docs, total_examples=model.corpus_count, epochs=model.iter)"
   ]
  },
  {
   "cell_type": "code",
   "execution_count": 143,
   "metadata": {},
   "outputs": [],
   "source": [
    "namex=np.zeros((newX.shape[0], size))\n",
    "for i in range(newX.shape[0]):\n",
    "    namex[i]=model[i]"
   ]
  },
  {
   "cell_type": "code",
   "execution_count": 144,
   "metadata": {},
   "outputs": [
    {
     "name": "stdout",
     "output_type": "stream",
     "text": [
      "(2464, 15)\n"
     ]
    }
   ],
   "source": [
    "print(namex.shape)"
   ]
  },
  {
   "cell_type": "code",
   "execution_count": 145,
   "metadata": {},
   "outputs": [
    {
     "name": "stderr",
     "output_type": "stream",
     "text": [
      "/Library/Frameworks/Python.framework/Versions/3.7/lib/python3.7/site-packages/sklearn/utils/deprecation.py:58: DeprecationWarning: Class Imputer is deprecated; Imputer was deprecated in version 0.20 and will be removed in 0.22. Import impute.SimpleImputer from sklearn instead.\n",
      "  warnings.warn(msg, category=DeprecationWarning)\n"
     ]
    }
   ],
   "source": [
    "from sklearn.preprocessing import Imputer\n",
    "\n",
    "imputer = Imputer(missing_values = np.nan, strategy = 'mean', axis=0)\n",
    "imputer = imputer.fit(X)\n",
    "X_imputered=imputer.transform(X)"
   ]
  },
  {
   "cell_type": "code",
   "execution_count": 146,
   "metadata": {},
   "outputs": [
    {
     "name": "stdout",
     "output_type": "stream",
     "text": [
      "(2464, 79)\n",
      "(2464, 15)\n"
     ]
    }
   ],
   "source": [
    "print(X_imputered.shape)\n",
    "print(namex.shape)"
   ]
  },
  {
   "cell_type": "code",
   "execution_count": 147,
   "metadata": {},
   "outputs": [],
   "source": [
    "X_imputered=np.concatenate((namex,X_imputered), axis=1)"
   ]
  },
  {
   "cell_type": "code",
   "execution_count": 148,
   "metadata": {},
   "outputs": [
    {
     "name": "stdout",
     "output_type": "stream",
     "text": [
      "(2464, 94)\n",
      "(2464,)\n"
     ]
    }
   ],
   "source": [
    "print(X_imputered.shape)\n",
    "print(y.shape)"
   ]
  },
  {
   "cell_type": "code",
   "execution_count": 149,
   "metadata": {},
   "outputs": [],
   "source": [
    "#saving data before sampling it, and after imputing it.\n",
    "np.savetxt(\"newdata.txt\", X_imputered, delimiter=\" \")\n",
    "np.savetxt(\"newlabels.txt\", y, delimiter=\" \")"
   ]
  },
  {
   "cell_type": "markdown",
   "metadata": {},
   "source": [
    "### dealing imbalance\n",
    "`over` and `under` are dictionary for how many sample we want for each class"
   ]
  },
  {
   "cell_type": "code",
   "execution_count": 8,
   "metadata": {},
   "outputs": [
    {
     "name": "stdout",
     "output_type": "stream",
     "text": [
      "Original:\n",
      "[(0, 2240), (1, 14), (2, 27), (3, 121), (4, 35), (5, 11), (6, 16)]\n",
      "after over sampling:\n",
      "[(0, 2240), (1, 300), (2, 300), (3, 300), (4, 300), (5, 300), (6, 300)]\n",
      "after Under sampling:\n",
      "[(0, 800), (1, 300), (2, 300), (3, 300), (4, 300), (5, 300), (6, 300)]\n"
     ]
    }
   ],
   "source": [
    "from collections import Counter\n",
    "print(\"Original:\")\n",
    "print(sorted(Counter(y).items()))\n",
    "\n",
    "from imblearn.over_sampling import SMOTE\n",
    "over = {1:300,2:300,3:300,4:300,5:300,6:300} #change here to set over sampling goal for those class\n",
    "X_over, y_over = SMOTE(sampling_strategy = over).fit_resample(X_imputered, y)\n",
    "print(\"after over sampling:\")\n",
    "print(sorted(Counter(y_over).items()))\n",
    "\n",
    "under = {0:800} # change here for under sampling goal\n",
    "from imblearn.under_sampling import RandomUnderSampler\n",
    "X_under, y_under = RandomUnderSampler(sampling_strategy = under ).fit_resample(X_over, y_over)\n",
    "print(\"after Under sampling:\")\n",
    "print(sorted(Counter(y_under).items()))\n",
    "\n",
    "\n",
    "# from imblearn.combine import SMOTEENN\n",
    "# smote_enn = SMOTEENN(sampling_strategy='all',smote=SMOTE(sampling_strategy = c))\n",
    "# X_resampled, y_resampled = smote_enn.fit_resample(X_imputered, y)\n",
    "# print(sorted(Counter(y_resampled).items()))\n",
    "\n"
   ]
  }
 ],
 "metadata": {
  "kernelspec": {
   "display_name": "Python 3",
   "language": "python",
   "name": "python3"
  },
  "language_info": {
   "codemirror_mode": {
    "name": "ipython",
    "version": 3
   },
   "file_extension": ".py",
   "mimetype": "text/x-python",
   "name": "python",
   "nbconvert_exporter": "python",
   "pygments_lexer": "ipython3",
   "version": "3.7.0"
  }
 },
 "nbformat": 4,
 "nbformat_minor": 2
}
