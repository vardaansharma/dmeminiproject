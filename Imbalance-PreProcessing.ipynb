{
 "cells": [
  {
   "cell_type": "code",
   "execution_count": 1,
   "metadata": {},
   "outputs": [],
   "source": [
    "import csv\n",
    "import pandas as pd\n",
    "import numpy as np"
   ]
  },
  {
   "cell_type": "code",
   "execution_count": 45,
   "metadata": {},
   "outputs": [],
   "source": [
    "import matplotlib.pyplot as plt\n",
    "y=pd.read_csv('labels.csv')\n",
    "y1=pd.read_csv('labels.csv')\n",
    "y1 = y1.dropna()"
   ]
  },
  {
   "cell_type": "code",
   "execution_count": 3,
   "metadata": {},
   "outputs": [],
   "source": [
    "with open('data.txt', 'r') as in_file:\n",
    "    stripped = (line.strip() for line in in_file)\n",
    "    lines = (line.split(\"\\t\") for line in stripped if line)\n",
    "    with open('data1.csv', 'w') as out_file:\n",
    "        writer = csv.writer(out_file)\n",
    "        #writer.writerow(('title', 'intro'))\n",
    "        writer.writerows(lines)"
   ]
  },
  {
   "cell_type": "code",
   "execution_count": 4,
   "metadata": {},
   "outputs": [],
   "source": [
    "labels = y1.select_dtypes(include=['float64']).copy()\n",
    "labels['class'] = pd.Series(0,dtype=int)\n",
    "labels['class'] = 0"
   ]
  },
  {
   "cell_type": "code",
   "execution_count": 5,
   "metadata": {},
   "outputs": [
    {
     "name": "stderr",
     "output_type": "stream",
     "text": [
      "C:\\Users\\user\\Miniconda3\\lib\\site-packages\\pandas\\core\\indexing.py:190: SettingWithCopyWarning: \n",
      "A value is trying to be set on a copy of a slice from a DataFrame\n",
      "\n",
      "See the caveats in the documentation: http://pandas.pydata.org/pandas-docs/stable/indexing.html#indexing-view-versus-copy\n",
      "  self._setitem_with_indexer(indexer, value)\n"
     ]
    }
   ],
   "source": [
    "from sklearn.model_selection import train_test_split\n",
    "x=pd.read_csv('data1.csv', delimiter = ',')\n",
    "for i in range(len(labels)):\n",
    "    if labels.iloc[i].sum()!=-2:\n",
    "        if labels.iloc[i]['TCA'] == 1:\n",
    "            labels['class'].iloc[i] = 1\n",
    "        elif labels.iloc[i]['Resp'] == 1:\n",
    "            labels['class'].iloc[i] = 2\n",
    "        elif labels.iloc[i]['Ribo'] == 1:\n",
    "            labels['class'].iloc[i] = 3\n",
    "        elif labels.iloc[i]['Proteas'] == 1:\n",
    "            labels['class'].iloc[i] = 4\n",
    "        elif labels.iloc[i]['Hist'] == 1:\n",
    "            labels['class'].iloc[i] = 5\n",
    "        elif labels.iloc[i]['HTH'] == 1:\n",
    "            labels['class'].iloc[i] = 6\n",
    "    elif labels.iloc[i].sum()==-6:\n",
    "        labels['class'].iloc[i] = 0\n",
    "    else: \n",
    "        labels['class'].iloc[i] = -2"
   ]
  },
  {
   "cell_type": "code",
   "execution_count": 11,
   "metadata": {},
   "outputs": [
    {
     "name": "stdout",
     "output_type": "stream",
     "text": [
      "['ORF', 'NAME', 'alpha 0', 'alpha 7', 'alpha 14', 'alpha 21', 'alpha 28', 'alpha 35', 'alpha 42', 'alpha 49', 'alpha 56', 'alpha 63', 'alpha 70', 'alpha 77', 'alpha 84', 'alpha 91', 'alpha 98', 'alpha 105', 'alpha 112', 'alpha 119', 'Elu 0', 'Elu 30', 'Elu 60', 'Elu 90', 'Elu 120', 'Elu 150', 'Elu 180', 'Elu 210', 'Elu 240', 'Elu 270', 'Elu 300', 'Elu 330', 'Elu 360', 'Elu 390', 'cdc15 10', 'cdc15 30', 'cdc15 50', 'cdc15 70', 'cdc15 90', 'cdc15 110', 'cdc15 130', 'cdc15 150', 'cdc15 170', 'cdc15 190', 'cdc15 210', 'cdc15 230', 'cdc15 250', 'cdc15 270', 'cdc15 290', 'spo 0', 'spo 2', 'spo 5', 'spo 7', 'spo 9', 'spo 11', 'spo5 2', 'spo5 7', 'spo5 11', 'spo- early', 'spo- mid', 'heat 0', 'heat 10', 'heat 20', 'heat 40', 'heat 80', 'heat 160', 'dtt 15', 'dtt 30', 'dtt 60', 'dtt 120', 'cold 0', 'cold 20', 'cold 40', 'cold 160', 'diau a', 'diau b', 'diau c', 'diau d', 'diau e', 'diau f', 'diau g']\n",
      "['TCA', 'Resp', 'Ribo', 'Proteas', 'Hist', 'HTH', 'class']\n"
     ]
    }
   ],
   "source": [
    "features = list(x.columns.values)\n",
    "print(features)\n",
    "classes = list(labels.columns.values)\n",
    "print(classes)\n",
    "a1=labels.iloc[:,6].values\n",
    "a=y1.iloc[:,0].values\n",
    "Y=pd.DataFrame({'ORF': a,'Class': a1})"
   ]
  },
  {
   "cell_type": "code",
   "execution_count": 14,
   "metadata": {},
   "outputs": [],
   "source": [
    "comb = pd.merge(x,Y,on='ORF')\n"
   ]
  },
  {
   "cell_type": "code",
   "execution_count": 8,
   "metadata": {},
   "outputs": [],
   "source": [
    "x1 = comb[comb['Class']!=-2].iloc[:,:2]\n",
    "x_data = comb[comb['Class']!=-2].iloc[:,2:-1]\n",
    "y_data = comb[comb['Class']!=-2].iloc[:,-1]"
   ]
  },
  {
   "cell_type": "markdown",
   "metadata": {},
   "source": [
    "Imputation Procedures : Mean Imputation"
   ]
  },
  {
   "cell_type": "code",
   "execution_count": 15,
   "metadata": {},
   "outputs": [
    {
     "name": "stdout",
     "output_type": "stream",
     "text": [
      "(2464, 2)\n",
      "(2464, 79)\n"
     ]
    },
    {
     "name": "stderr",
     "output_type": "stream",
     "text": [
      "C:\\Users\\user\\Miniconda3\\lib\\site-packages\\sklearn\\utils\\deprecation.py:58: DeprecationWarning: Class Imputer is deprecated; Imputer was deprecated in version 0.20 and will be removed in 0.22. Import impute.SimpleImputer from sklearn instead.\n",
      "  warnings.warn(msg, category=DeprecationWarning)\n"
     ]
    }
   ],
   "source": [
    "from sklearn.preprocessing import Imputer\n",
    "\n",
    "imputer = Imputer(missing_values = np.nan, strategy = 'mean', axis=0)\n",
    "imputer = imputer.fit(x_data)\n",
    "X_imputered=imputer.transform(x_data)\n",
    "print(x1.shape)\n",
    "print(X_imputered.shape)"
   ]
  },
  {
   "cell_type": "code",
   "execution_count": 20,
   "metadata": {},
   "outputs": [],
   "source": [
    "arr=np.concatenate((x1,X_imputered),axis=1)\n",
    "features=np.array(features)\n",
    "X=pd.DataFrame(arr,columns=features)"
   ]
  },
  {
   "cell_type": "code",
   "execution_count": 22,
   "metadata": {},
   "outputs": [],
   "source": [
    "from sklearn import tree\n",
    "clf = tree.DecisionTreeClassifier()\n",
    "clf = clf.fit(X_imputered,y_data)"
   ]
  },
  {
   "cell_type": "code",
   "execution_count": 23,
   "metadata": {},
   "outputs": [
    {
     "data": {
      "text/plain": [
       "'Gene-Data.pdf'"
      ]
     },
     "execution_count": 23,
     "metadata": {},
     "output_type": "execute_result"
    }
   ],
   "source": [
    "import graphviz \n",
    "dot_data = tree.export_graphviz(clf, out_file=None) \n",
    "graph = graphviz.Source(dot_data) \n",
    "graph.render(\"Gene-Data\") \n"
   ]
  },
  {
   "cell_type": "code",
   "execution_count": 25,
   "metadata": {
    "scrolled": false
   },
   "outputs": [
    {
     "data": {
      "text/plain": [
       "'Gene-color.pdf'"
      ]
     },
     "execution_count": 25,
     "metadata": {},
     "output_type": "execute_result"
    }
   ],
   "source": [
    "dot_data = tree.export_graphviz(clf, out_file=None, \n",
    "                      feature_names=features[2:],  \n",
    "                      class_names=classes,  \n",
    "                     filled=True, rounded=True, special_characters=True)  \n",
    "graph = graphviz.Source(dot_data)  \n",
    "graph.render(\"Gene-color\")"
   ]
  },
  {
   "cell_type": "code",
   "execution_count": 27,
   "metadata": {},
   "outputs": [
    {
     "name": "stdout",
     "output_type": "stream",
     "text": [
      "DecisionTreeClassifier(class_weight=None, criterion='gini', max_depth=None,\n",
      "            max_features=None, max_leaf_nodes=None,\n",
      "            min_impurity_decrease=0.0, min_impurity_split=None,\n",
      "            min_samples_leaf=1, min_samples_split=2,\n",
      "            min_weight_fraction_leaf=0.0, presort=False, random_state=None,\n",
      "            splitter='best')\n",
      "              precision    recall  f1-score   support\n",
      "\n",
      "           0       1.00      1.00      1.00      2240\n",
      "           1       1.00      1.00      1.00        14\n",
      "           2       1.00      1.00      1.00        27\n",
      "           3       1.00      1.00      1.00       121\n",
      "           4       1.00      1.00      1.00        35\n",
      "           5       1.00      1.00      1.00        11\n",
      "           6       1.00      1.00      1.00        16\n",
      "\n",
      "   micro avg       1.00      1.00      1.00      2464\n",
      "   macro avg       1.00      1.00      1.00      2464\n",
      "weighted avg       1.00      1.00      1.00      2464\n",
      "\n",
      "[[2240    0    0    0    0    0    0]\n",
      " [   0   14    0    0    0    0    0]\n",
      " [   0    0   27    0    0    0    0]\n",
      " [   0    0    0  121    0    0    0]\n",
      " [   0    0    0    0   35    0    0]\n",
      " [   0    0    0    0    0   11    0]\n",
      " [   0    0    0    0    0    0   16]]\n"
     ]
    }
   ],
   "source": [
    "# Decision Tree Classifier\n",
    "from sklearn import metrics\n",
    "from sklearn.tree import DecisionTreeClassifier\n",
    "model = DecisionTreeClassifier()\n",
    "model.fit(X_imputered, y_data)\n",
    "print(model)\n",
    "# make predictions\n",
    "expected = y_data\n",
    "predicted = model.predict(X_imputered)\n",
    "# summarize the fit of the model\n",
    "print(metrics.classification_report(expected, predicted))\n",
    "print(metrics.confusion_matrix(expected, predicted))"
   ]
  },
  {
   "cell_type": "markdown",
   "metadata": {},
   "source": [
    "Dimension Reduction: PCA"
   ]
  },
  {
   "cell_type": "code",
   "execution_count": 30,
   "metadata": {},
   "outputs": [
    {
     "name": "stdout",
     "output_type": "stream",
     "text": [
      "<class 'pandas.core.frame.DataFrame'>\n",
      "Int64Index: 2467 entries, 0 to 2466\n",
      "Data columns (total 8 columns):\n",
      "A1       2464 non-null float64\n",
      "A2       2464 non-null float64\n",
      "A3       2464 non-null float64\n",
      "A4       2464 non-null float64\n",
      "A5       2464 non-null float64\n",
      "A6       2464 non-null float64\n",
      "A7       2464 non-null float64\n",
      "Class    2464 non-null float64\n",
      "dtypes: float64(8)\n",
      "memory usage: 173.5 KB\n"
     ]
    }
   ],
   "source": [
    "from sklearn.preprocessing import StandardScaler\n",
    "xnew = StandardScaler().fit_transform(X_imputered)\n",
    "from sklearn.decomposition import PCA\n",
    "pca = PCA(n_components=7)\n",
    "principalComponents = pca.fit_transform(xnew)\n",
    "principalDf = pd.DataFrame(data = principalComponents\n",
    "             , columns = ['A1', 'A2','A3','A4','A5','A6','A7'])\n",
    "ydf=pd.DataFrame(y_data)\n",
    "finalDf = pd.concat([principalDf,ydf], axis = 1)\n",
    "finalDf.info()\n"
   ]
  },
  {
   "cell_type": "code",
   "execution_count": 51,
   "metadata": {},
   "outputs": [
    {
     "name": "stderr",
     "output_type": "stream",
     "text": [
      "C:\\Users\\user\\Miniconda3\\lib\\site-packages\\ipykernel_launcher.py:1: DeprecationWarning: \n",
      ".ix is deprecated. Please use\n",
      ".loc for label based indexing or\n",
      ".iloc for positional indexing\n",
      "\n",
      "See the documentation here:\n",
      "http://pandas.pydata.org/pandas-docs/stable/indexing.html#ix-indexer-is-deprecated\n",
      "  \"\"\"Entry point for launching an IPython kernel.\n"
     ]
    }
   ],
   "source": [
    "XD1 = finalDf.ix[:,'A1':'A7']\n",
    "YD1 = finalDf['Class']"
   ]
  },
  {
   "cell_type": "code",
   "execution_count": 54,
   "metadata": {},
   "outputs": [
    {
     "data": {
      "image/png": "[encoded data removed]",
      "text/plain": [
       "<Figure size 432x288 with 1 Axes>"
      ]
     },
     "metadata": {
      "needs_background": "light"
     },
     "output_type": "display_data"
    }
   ],
   "source": [
    "plt.scatter(XD1[YD1==0]['A1'], XD1[YD1==0]['A2'], label='Unclassified', c='black')\n",
    "plt.scatter(XD1[YD1==1]['A1'], XD1[YD1==1]['A2'], label='TCA', c='red')\n",
    "plt.scatter(XD1[YD1==2]['A1'], XD1[YD1==2]['A2'], label='Resp', c='blue')\n",
    "plt.scatter(XD1[YD1==3]['A1'], XD1[YD1==3]['A2'], label='Ribo', c='lightgreen')\n",
    "plt.scatter(XD1[YD1==4]['A1'], XD1[YD1==4]['A2'], label='Proteas', c='yellow')\n",
    "plt.scatter(XD1[YD1==5]['A1'], XD1[YD1==5]['A2'], label='Hist', c='pink')\n",
    "plt.scatter(XD1[YD1==6]['A1'], XD1[YD1==6]['A2'], label='HTH', c='purple')\n",
    "plt.legend()\n",
    "plt.xlabel('A1')\n",
    "plt.ylabel('A2')\n",
    "plt.savefig('Visual_before_sampling.png')"
   ]
  },
  {
   "cell_type": "markdown",
   "metadata": {},
   "source": [
    "Over-and-Under Sampling"
   ]
  },
  {
   "cell_type": "code",
   "execution_count": 32,
   "metadata": {},
   "outputs": [
    {
     "name": "stdout",
     "output_type": "stream",
     "text": [
      "Original:\n",
      "[(0, 2240), (1, 14), (2, 27), (3, 121), (4, 35), (5, 11), (6, 16)]\n",
      "after over sampling:\n",
      "[(0, 2240), (1, 300), (2, 300), (3, 300), (4, 300), (5, 300), (6, 300)]\n",
      "after Under sampling:\n",
      "[(0, 800), (1, 300), (2, 300), (3, 300), (4, 300), (5, 300), (6, 300)]\n"
     ]
    }
   ],
   "source": [
    "from imblearn import under_sampling,over_sampling\n",
    "from collections import Counter\n",
    "print(\"Original:\")\n",
    "print(sorted(Counter(y_data).items()))\n",
    "\n",
    "from imblearn.over_sampling import SMOTE\n",
    "over = {1:300,2:300,3:300,4:300,5:300,6:300} #change here to set over sampling goal for those class\n",
    "x_over, y_over = SMOTE(sampling_strategy = over).fit_resample(X_imputered, y_data)\n",
    "print(\"after over sampling:\")\n",
    "print(sorted(Counter(y_over).items()))\n",
    "\n",
    "under = {0:800} # change here for under sampling goal\n",
    "from imblearn.under_sampling import RandomUnderSampler\n",
    "x_under, y_under = RandomUnderSampler(sampling_strategy = under ).fit_resample(x_over, y_over)\n",
    "print(\"after Under sampling:\")\n",
    "print(sorted(Counter(y_under).items()))"
   ]
  },
  {
   "cell_type": "code",
   "execution_count": 33,
   "metadata": {},
   "outputs": [
    {
     "name": "stdout",
     "output_type": "stream",
     "text": [
      "DecisionTreeClassifier(class_weight=None, criterion='gini', max_depth=None,\n",
      "            max_features=None, max_leaf_nodes=None,\n",
      "            min_impurity_decrease=0.0, min_impurity_split=None,\n",
      "            min_samples_leaf=1, min_samples_split=2,\n",
      "            min_weight_fraction_leaf=0.0, presort=False, random_state=None,\n",
      "            splitter='best')\n",
      "              precision    recall  f1-score   support\n",
      "\n",
      "           0       1.00      1.00      1.00       800\n",
      "           1       1.00      1.00      1.00       300\n",
      "           2       1.00      1.00      1.00       300\n",
      "           3       1.00      1.00      1.00       300\n",
      "           4       1.00      1.00      1.00       300\n",
      "           5       1.00      1.00      1.00       300\n",
      "           6       1.00      1.00      1.00       300\n",
      "\n",
      "   micro avg       1.00      1.00      1.00      2600\n",
      "   macro avg       1.00      1.00      1.00      2600\n",
      "weighted avg       1.00      1.00      1.00      2600\n",
      "\n",
      "[[800   0   0   0   0   0   0]\n",
      " [  0 300   0   0   0   0   0]\n",
      " [  0   0 300   0   0   0   0]\n",
      " [  0   0   0 300   0   0   0]\n",
      " [  0   0   0   0 300   0   0]\n",
      " [  0   0   0   0   0 300   0]\n",
      " [  0   0   0   0   0   0 300]]\n"
     ]
    }
   ],
   "source": [
    "# Decision Tree Classifier\n",
    "from sklearn import metrics\n",
    "from sklearn.tree import DecisionTreeClassifier\n",
    "model = DecisionTreeClassifier()\n",
    "model.fit(x_under, y_under)\n",
    "print(model)\n",
    "# make predictions\n",
    "expected = y_under\n",
    "predicted = model.predict(x_under)\n",
    "# summarize the fit of the model\n",
    "print(metrics.classification_report(expected, predicted))\n",
    "print(metrics.confusion_matrix(expected, predicted))"
   ]
  },
  {
   "cell_type": "code",
   "execution_count": 36,
   "metadata": {},
   "outputs": [
    {
     "name": "stdout",
     "output_type": "stream",
     "text": [
      "<class 'pandas.core.frame.DataFrame'>\n",
      "RangeIndex: 2600 entries, 0 to 2599\n",
      "Data columns (total 8 columns):\n",
      "A1       2600 non-null float64\n",
      "A2       2600 non-null float64\n",
      "A3       2600 non-null float64\n",
      "A4       2600 non-null float64\n",
      "A5       2600 non-null float64\n",
      "A6       2600 non-null float64\n",
      "A7       2600 non-null float64\n",
      "Label    2600 non-null int64\n",
      "dtypes: float64(7), int64(1)\n",
      "memory usage: 162.6 KB\n"
     ]
    }
   ],
   "source": [
    "from sklearn.preprocessing import StandardScaler\n",
    "xnew = StandardScaler().fit_transform(X_imputered)\n",
    "from sklearn.decomposition import PCA\n",
    "pca1 = PCA(n_components=7)\n",
    "principalComponents1 = pca1.fit_transform(x_under)\n",
    "principalDf1 = pd.DataFrame(data = principalComponents1\n",
    "             , columns = ['A1', 'A2','A3','A4','A5','A6','A7'])\n",
    "ydf1=pd.DataFrame({'Label': y_under})\n",
    "finalDf1 = pd.concat([principalDf1,ydf1], axis = 1)\n",
    "finalDf1.info()\n"
   ]
  },
  {
   "cell_type": "code",
   "execution_count": 42,
   "metadata": {},
   "outputs": [
    {
     "name": "stderr",
     "output_type": "stream",
     "text": [
      "C:\\Users\\user\\Miniconda3\\lib\\site-packages\\ipykernel_launcher.py:1: DeprecationWarning: \n",
      ".ix is deprecated. Please use\n",
      ".loc for label based indexing or\n",
      ".iloc for positional indexing\n",
      "\n",
      "See the documentation here:\n",
      "http://pandas.pydata.org/pandas-docs/stable/indexing.html#ix-indexer-is-deprecated\n",
      "  \"\"\"Entry point for launching an IPython kernel.\n"
     ]
    }
   ],
   "source": [
    "XD = finalDf1.ix[:,'A1':'A7']\n",
    "YD = finalDf1['Label']"
   ]
  },
  {
   "cell_type": "code",
   "execution_count": 49,
   "metadata": {},
   "outputs": [
    {
     "data": {
      "image/png": "[encoded data removed]",
      "text/plain": [
       "<Figure size 432x288 with 1 Axes>"
      ]
     },
     "metadata": {
      "needs_background": "light"
     },
     "output_type": "display_data"
    }
   ],
   "source": [
    "plt.scatter(XD[YD==1]['A1'], XD[YD==1]['A2'], label='TCA', c='red')\n",
    "plt.scatter(XD[YD==2]['A1'], XD[YD==2]['A2'], label='Resp', c='blue')\n",
    "plt.scatter(XD[YD==3]['A1'], XD[YD==3]['A2'], label='Ribo', c='lightgreen')\n",
    "plt.scatter(XD[YD==4]['A1'], XD[YD==4]['A2'], label='Proteas', c='yellow')\n",
    "plt.scatter(XD[YD==5]['A1'], XD[YD==5]['A2'], label='Hist', c='pink')\n",
    "plt.scatter(XD[YD==6]['A1'], XD[YD==6]['A2'], label='HTH', c='purple')\n",
    "plt.legend()\n",
    "plt.xlabel('A1')\n",
    "plt.ylabel('A2')\n",
    "plt.savefig('Visual.png')"
   ]
  },
  {
   "cell_type": "code",
   "execution_count": null,
   "metadata": {},
   "outputs": [],
   "source": []
  }
 ],
 "metadata": {
  "kernelspec": {
   "display_name": "Python 3",
   "language": "python",
   "name": "python3"
  },
  "language_info": {
   "codemirror_mode": {
    "name": "ipython",
    "version": 3
   },
   "file_extension": ".py",
   "mimetype": "text/x-python",
   "name": "python",
   "nbconvert_exporter": "python",
   "pygments_lexer": "ipython3",
   "version": "3.7.0"
  }
 },
 "nbformat": 4,
 "nbformat_minor": 2
}
