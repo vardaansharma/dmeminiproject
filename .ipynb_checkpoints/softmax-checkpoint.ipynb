{
 "cells": [
  {
   "cell_type": "code",
   "execution_count": 157,
   "metadata": {},
   "outputs": [],
   "source": [
    "import pandas as pd\n",
    "import numpy as np"
   ]
  },
  {
   "cell_type": "code",
   "execution_count": 158,
   "metadata": {},
   "outputs": [
    {
     "name": "stdout",
     "output_type": "stream",
     "text": [
      "['gene', 'TCA', 'Resp', 'Ribo', 'Proteas', 'Hist', 'HTH']\n",
      "\n",
      "\n",
      "['ORF', 'NAME', 'alpha 0', 'alpha 7', 'alpha 14', 'alpha 21', 'alpha 28', 'alpha 35', 'alpha 42', 'alpha 49', 'alpha 56', 'alpha 63', 'alpha 70', 'alpha 77', 'alpha 84', 'alpha 91', 'alpha 98', 'alpha 105', 'alpha 112', 'alpha 119', 'Elu 0', 'Elu 30', 'Elu 60', 'Elu 90', 'Elu 120', 'Elu 150', 'Elu 180', 'Elu 210', 'Elu 240', 'Elu 270', 'Elu 300', 'Elu 330', 'Elu 360', 'Elu 390', 'cdc15 10', 'cdc15 30', 'cdc15 50', 'cdc15 70', 'cdc15 90', 'cdc15 110', 'cdc15 130', 'cdc15 150', 'cdc15 170', 'cdc15 190', 'cdc15 210', 'cdc15 230', 'cdc15 250', 'cdc15 270', 'cdc15 290', 'spo 0', 'spo 2', 'spo 5', 'spo 7', 'spo 9', 'spo 11', 'spo5 2', 'spo5 7', 'spo5 11', 'spo- early', 'spo- mid', 'heat 0', 'heat 10', 'heat 20', 'heat 40', 'heat 80', 'heat 160', 'dtt 15', 'dtt 30', 'dtt 60', 'dtt 120', 'cold 0', 'cold 20', 'cold 40', 'cold 160', 'diau a', 'diau b', 'diau c', 'diau d', 'diau e', 'diau f', 'diau g']\n"
     ]
    }
   ],
   "source": [
    "labels = pd.read_csv('labels.csv',header=0)\n",
    "print(list(labels.columns.values))\n",
    "print(\"\\n\")\n",
    "labels= labels[pd.notnull(labels['gene'])]\n",
    "# df.value_counts()\n",
    "\n",
    "    \n",
    "    \n",
    "data=pd.read_csv('data.csv',header=0)\n",
    "print(list(data.columns.values))\n",
    "data = data[pd.notnull(data['ORF'])]"
   ]
  },
  {
   "cell_type": "code",
   "execution_count": 159,
   "metadata": {},
   "outputs": [
    {
     "data": {
      "text/html": [
       "<div>\n",
       "<style scoped>\n",
       "    .dataframe tbody tr th:only-of-type {\n",
       "        vertical-align: middle;\n",
       "    }\n",
       "\n",
       "    .dataframe tbody tr th {\n",
       "        vertical-align: top;\n",
       "    }\n",
       "\n",
       "    .dataframe thead th {\n",
       "        text-align: right;\n",
       "    }\n",
       "</style>\n",
       "<table border=\"1\" class=\"dataframe\">\n",
       "  <thead>\n",
       "    <tr style=\"text-align: right;\">\n",
       "      <th></th>\n",
       "      <th>ORF</th>\n",
       "      <th>NAME</th>\n",
       "      <th>alpha 0</th>\n",
       "      <th>alpha 7</th>\n",
       "      <th>alpha 14</th>\n",
       "      <th>alpha 21</th>\n",
       "      <th>alpha 28</th>\n",
       "      <th>alpha 35</th>\n",
       "      <th>alpha 42</th>\n",
       "      <th>alpha 49</th>\n",
       "      <th>...</th>\n",
       "      <th>cold 20</th>\n",
       "      <th>cold 40</th>\n",
       "      <th>cold 160</th>\n",
       "      <th>diau a</th>\n",
       "      <th>diau b</th>\n",
       "      <th>diau c</th>\n",
       "      <th>diau d</th>\n",
       "      <th>diau e</th>\n",
       "      <th>diau f</th>\n",
       "      <th>diau g</th>\n",
       "    </tr>\n",
       "  </thead>\n",
       "  <tbody>\n",
       "    <tr>\n",
       "      <th>1</th>\n",
       "      <td>YBR166C</td>\n",
       "      <td>TYR1   TYROSINE BIOSYNTHESIS    PREPHENATE DEH...</td>\n",
       "      <td>0.33</td>\n",
       "      <td>-0.17</td>\n",
       "      <td>0.04</td>\n",
       "      <td>-0.07</td>\n",
       "      <td>-0.09</td>\n",
       "      <td>-0.12</td>\n",
       "      <td>-0.03</td>\n",
       "      <td>-0.20</td>\n",
       "      <td>...</td>\n",
       "      <td>0.08</td>\n",
       "      <td>0.39</td>\n",
       "      <td>-0.17</td>\n",
       "      <td>0.23</td>\n",
       "      <td>0.20</td>\n",
       "      <td>0.20</td>\n",
       "      <td>-0.17</td>\n",
       "      <td>-0.69</td>\n",
       "      <td>0.14</td>\n",
       "      <td>-0.27</td>\n",
       "    </tr>\n",
       "    <tr>\n",
       "      <th>3</th>\n",
       "      <td>YOR357C</td>\n",
       "      <td>GRD19  SECRETION                GOLGI PROTEIN ...</td>\n",
       "      <td>-0.64</td>\n",
       "      <td>-0.38</td>\n",
       "      <td>-0.32</td>\n",
       "      <td>-0.29</td>\n",
       "      <td>-0.22</td>\n",
       "      <td>-0.01</td>\n",
       "      <td>-0.32</td>\n",
       "      <td>-0.27</td>\n",
       "      <td>...</td>\n",
       "      <td>0.36</td>\n",
       "      <td>-0.20</td>\n",
       "      <td>-0.34</td>\n",
       "      <td>-0.14</td>\n",
       "      <td>-0.09</td>\n",
       "      <td>0.06</td>\n",
       "      <td>-0.17</td>\n",
       "      <td>0.04</td>\n",
       "      <td>-0.97</td>\n",
       "      <td>-1.79</td>\n",
       "    </tr>\n",
       "    <tr>\n",
       "      <th>5</th>\n",
       "      <td>YLR292C</td>\n",
       "      <td>SEC72  SECRETION                ER PROTEIN TRA...</td>\n",
       "      <td>-0.23</td>\n",
       "      <td>0.19</td>\n",
       "      <td>-0.36</td>\n",
       "      <td>0.14</td>\n",
       "      <td>-0.40</td>\n",
       "      <td>0.16</td>\n",
       "      <td>-0.09</td>\n",
       "      <td>-0.12</td>\n",
       "      <td>...</td>\n",
       "      <td>0.21</td>\n",
       "      <td>-0.29</td>\n",
       "      <td>-0.36</td>\n",
       "      <td>-0.10</td>\n",
       "      <td>-0.29</td>\n",
       "      <td>-0.18</td>\n",
       "      <td>-0.34</td>\n",
       "      <td>-0.47</td>\n",
       "      <td>-0.43</td>\n",
       "      <td>-1.06</td>\n",
       "    </tr>\n",
       "    <tr>\n",
       "      <th>7</th>\n",
       "      <td>YGL112C</td>\n",
       "      <td>TAF60  TRANSCRIPTION            TFIID 60 KD SU...</td>\n",
       "      <td>-0.69</td>\n",
       "      <td>-0.89</td>\n",
       "      <td>-0.74</td>\n",
       "      <td>-0.56</td>\n",
       "      <td>-0.64</td>\n",
       "      <td>-0.18</td>\n",
       "      <td>-0.42</td>\n",
       "      <td>-0.34</td>\n",
       "      <td>...</td>\n",
       "      <td>-0.01</td>\n",
       "      <td>-0.29</td>\n",
       "      <td>0.31</td>\n",
       "      <td>0.21</td>\n",
       "      <td>0.07</td>\n",
       "      <td>0.18</td>\n",
       "      <td>-0.14</td>\n",
       "      <td>-0.20</td>\n",
       "      <td>-0.43</td>\n",
       "      <td>-1.51</td>\n",
       "    </tr>\n",
       "    <tr>\n",
       "      <th>9</th>\n",
       "      <td>YIL118W</td>\n",
       "      <td>RHO3   CYTOSKELETON             GTP-BINDING PR...</td>\n",
       "      <td>0.04</td>\n",
       "      <td>0.01</td>\n",
       "      <td>-0.81</td>\n",
       "      <td>NaN</td>\n",
       "      <td>-0.30</td>\n",
       "      <td>0.49</td>\n",
       "      <td>0.08</td>\n",
       "      <td>0.19</td>\n",
       "      <td>...</td>\n",
       "      <td>0.28</td>\n",
       "      <td>-0.17</td>\n",
       "      <td>0.26</td>\n",
       "      <td>0.07</td>\n",
       "      <td>-0.17</td>\n",
       "      <td>NaN</td>\n",
       "      <td>-0.10</td>\n",
       "      <td>-0.23</td>\n",
       "      <td>-0.51</td>\n",
       "      <td>-1.40</td>\n",
       "    </tr>\n",
       "  </tbody>\n",
       "</table>\n",
       "<p>5 rows × 81 columns</p>\n",
       "</div>"
      ],
      "text/plain": [
       "       ORF                                               NAME  alpha 0  \\\n",
       "1  YBR166C  TYR1   TYROSINE BIOSYNTHESIS    PREPHENATE DEH...     0.33   \n",
       "3  YOR357C  GRD19  SECRETION                GOLGI PROTEIN ...    -0.64   \n",
       "5  YLR292C  SEC72  SECRETION                ER PROTEIN TRA...    -0.23   \n",
       "7  YGL112C  TAF60  TRANSCRIPTION            TFIID 60 KD SU...    -0.69   \n",
       "9  YIL118W  RHO3   CYTOSKELETON             GTP-BINDING PR...     0.04   \n",
       "\n",
       "   alpha 7  alpha 14  alpha 21  alpha 28  alpha 35  alpha 42  alpha 49  ...  \\\n",
       "1    -0.17      0.04     -0.07     -0.09     -0.12     -0.03     -0.20  ...   \n",
       "3    -0.38     -0.32     -0.29     -0.22     -0.01     -0.32     -0.27  ...   \n",
       "5     0.19     -0.36      0.14     -0.40      0.16     -0.09     -0.12  ...   \n",
       "7    -0.89     -0.74     -0.56     -0.64     -0.18     -0.42     -0.34  ...   \n",
       "9     0.01     -0.81       NaN     -0.30      0.49      0.08      0.19  ...   \n",
       "\n",
       "   cold 20  cold 40  cold 160  diau a  diau b  diau c  diau d  diau e  diau f  \\\n",
       "1     0.08     0.39     -0.17    0.23    0.20    0.20   -0.17   -0.69    0.14   \n",
       "3     0.36    -0.20     -0.34   -0.14   -0.09    0.06   -0.17    0.04   -0.97   \n",
       "5     0.21    -0.29     -0.36   -0.10   -0.29   -0.18   -0.34   -0.47   -0.43   \n",
       "7    -0.01    -0.29      0.31    0.21    0.07    0.18   -0.14   -0.20   -0.43   \n",
       "9     0.28    -0.17      0.26    0.07   -0.17     NaN   -0.10   -0.23   -0.51   \n",
       "\n",
       "   diau g  \n",
       "1   -0.27  \n",
       "3   -1.79  \n",
       "5   -1.06  \n",
       "7   -1.51  \n",
       "9   -1.40  \n",
       "\n",
       "[5 rows x 81 columns]"
      ]
     },
     "execution_count": 159,
     "metadata": {},
     "output_type": "execute_result"
    }
   ],
   "source": [
    "data.head(5)"
   ]
  },
  {
   "cell_type": "code",
   "execution_count": 160,
   "metadata": {},
   "outputs": [
    {
     "data": {
      "text/html": [
       "<div>\n",
       "<style scoped>\n",
       "    .dataframe tbody tr th:only-of-type {\n",
       "        vertical-align: middle;\n",
       "    }\n",
       "\n",
       "    .dataframe tbody tr th {\n",
       "        vertical-align: top;\n",
       "    }\n",
       "\n",
       "    .dataframe thead th {\n",
       "        text-align: right;\n",
       "    }\n",
       "</style>\n",
       "<table border=\"1\" class=\"dataframe\">\n",
       "  <thead>\n",
       "    <tr style=\"text-align: right;\">\n",
       "      <th></th>\n",
       "      <th>gene</th>\n",
       "      <th>TCA</th>\n",
       "      <th>Resp</th>\n",
       "      <th>Ribo</th>\n",
       "      <th>Proteas</th>\n",
       "      <th>Hist</th>\n",
       "      <th>HTH</th>\n",
       "    </tr>\n",
       "  </thead>\n",
       "  <tbody>\n",
       "    <tr>\n",
       "      <th>1</th>\n",
       "      <td>YAL001C</td>\n",
       "      <td>-1.0</td>\n",
       "      <td>-1.0</td>\n",
       "      <td>-1.0</td>\n",
       "      <td>-1.0</td>\n",
       "      <td>-1.0</td>\n",
       "      <td>-1.0</td>\n",
       "    </tr>\n",
       "    <tr>\n",
       "      <th>3</th>\n",
       "      <td>YAL002W</td>\n",
       "      <td>-1.0</td>\n",
       "      <td>-1.0</td>\n",
       "      <td>-1.0</td>\n",
       "      <td>-1.0</td>\n",
       "      <td>-1.0</td>\n",
       "      <td>-1.0</td>\n",
       "    </tr>\n",
       "    <tr>\n",
       "      <th>5</th>\n",
       "      <td>YAL003W</td>\n",
       "      <td>-1.0</td>\n",
       "      <td>-1.0</td>\n",
       "      <td>-1.0</td>\n",
       "      <td>-1.0</td>\n",
       "      <td>-1.0</td>\n",
       "      <td>-1.0</td>\n",
       "    </tr>\n",
       "    <tr>\n",
       "      <th>7</th>\n",
       "      <td>YAL005C</td>\n",
       "      <td>-1.0</td>\n",
       "      <td>-1.0</td>\n",
       "      <td>-1.0</td>\n",
       "      <td>-1.0</td>\n",
       "      <td>-1.0</td>\n",
       "      <td>-1.0</td>\n",
       "    </tr>\n",
       "    <tr>\n",
       "      <th>9</th>\n",
       "      <td>YAL010C</td>\n",
       "      <td>-1.0</td>\n",
       "      <td>-1.0</td>\n",
       "      <td>-1.0</td>\n",
       "      <td>-1.0</td>\n",
       "      <td>-1.0</td>\n",
       "      <td>-1.0</td>\n",
       "    </tr>\n",
       "  </tbody>\n",
       "</table>\n",
       "</div>"
      ],
      "text/plain": [
       "      gene  TCA  Resp  Ribo  Proteas  Hist  HTH\n",
       "1  YAL001C -1.0  -1.0  -1.0     -1.0  -1.0 -1.0\n",
       "3  YAL002W -1.0  -1.0  -1.0     -1.0  -1.0 -1.0\n",
       "5  YAL003W -1.0  -1.0  -1.0     -1.0  -1.0 -1.0\n",
       "7  YAL005C -1.0  -1.0  -1.0     -1.0  -1.0 -1.0\n",
       "9  YAL010C -1.0  -1.0  -1.0     -1.0  -1.0 -1.0"
      ]
     },
     "execution_count": 160,
     "metadata": {},
     "output_type": "execute_result"
    }
   ],
   "source": [
    "labels.head(5)"
   ]
  },
  {
   "cell_type": "code",
   "execution_count": 161,
   "metadata": {},
   "outputs": [],
   "source": [
    "data=data.iloc[:,2:]\n",
    "x= data.values #convert to numpy array\n",
    "labels=labels.iloc[:,1:]\n",
    "y=labels.values #convert to numpy array\n",
    "\n",
    "y[y== -1] = 0 #one hot encoding"
   ]
  },
  {
   "cell_type": "code",
   "execution_count": 162,
   "metadata": {},
   "outputs": [],
   "source": [
    "column_average=np.nanmean(x,axis=0)"
   ]
  },
  {
   "cell_type": "code",
   "execution_count": 163,
   "metadata": {},
   "outputs": [],
   "source": [
    "#to fill missing values with average\n",
    "for i in range(x.shape[1]):\n",
    "    data.iloc[:,i] = data.iloc[:,i].fillna(column_average[i])"
   ]
  },
  {
   "cell_type": "code",
   "execution_count": 164,
   "metadata": {},
   "outputs": [
    {
     "name": "stdout",
     "output_type": "stream",
     "text": [
      "(1973, 79)\n",
      "(1973, 6)\n",
      "(493, 79)\n",
      "(493, 6)\n"
     ]
    }
   ],
   "source": [
    "split=int(0.8*x.shape[0])\n",
    "x_train=x[0:split,]\n",
    "x_test=x[split+1:,]\n",
    "\n",
    "y_train=y[0:split,]\n",
    "y_test=y[split+1:,]\n",
    "\n",
    "print(x_train.shape)\n",
    "print(y_train.shape)\n",
    "\n",
    "print(x_test.shape)\n",
    "print(y_test.shape)"
   ]
  },
  {
   "cell_type": "code",
   "execution_count": 182,
   "metadata": {},
   "outputs": [],
   "source": [
    "def getLoss(w,x,y,lam):\n",
    "    m = x.shape[0] #First we get the number of training examples\n",
    "    scores = np.dot(x,w) #Then we compute raw class scores given our input and current weights\n",
    "    prob = softmax(scores) #Next we perform a softmax on these scores to get their probabilities\n",
    "    loss = (-1 / m) * np.sum(y * np.log(prob)) + (lam/2)*np.sum(w*w) #We then find the loss of the probabilities\n",
    "    grad = (-1 / m) * np.dot(x.T,(y - prob)) + lam*w #And compute the gradient for that loss\n",
    "    return loss,grad"
   ]
  },
  {
   "cell_type": "code",
   "execution_count": 183,
   "metadata": {},
   "outputs": [],
   "source": [
    "def loss_value(w,x,y):\n",
    "    m = x.shape[0] #First we get the number of training examples\n",
    "    scores = np.dot(x,w) #Then we compute raw class scores given our input and current weights\n",
    "    prob = softmax(scores) #Next we perform a softmax on these scores to get their probabilities\n",
    "    loss = (-1 / m) * np.sum(y * np.log(prob)) + (lam/2)*np.sum(w*w) \n",
    "    return loss"
   ]
  },
  {
   "cell_type": "code",
   "execution_count": 184,
   "metadata": {},
   "outputs": [],
   "source": [
    "def softmax(z):\n",
    "    z -= np.max(z)\n",
    "    sm = (np.exp(z).T / np.sum(np.exp(z),axis=1)).T\n",
    "    return sm"
   ]
  },
  {
   "cell_type": "code",
   "execution_count": 194,
   "metadata": {},
   "outputs": [],
   "source": [
    "def getProbsAndPreds(someX):\n",
    "    probs = softmax(np.dot(someX,w))\n",
    "    preds = np.argmax(probs,axis=1)\n",
    "    return probs,preds"
   ]
  },
  {
   "cell_type": "code",
   "execution_count": 186,
   "metadata": {},
   "outputs": [
    {
     "name": "stdout",
     "output_type": "stream",
     "text": [
      "0.1661505641934585\n"
     ]
    }
   ],
   "source": [
    "w = np.zeros([x_train.shape[1],y_train.shape[1]])\n",
    "lam = 1\n",
    "iterations = 1000\n",
    "learningRate = 1e-5\n",
    "losses = []\n",
    "for i in range(0,iterations):\n",
    "    loss,grad = getLoss(w,x_train,y_train,lam)\n",
    "    losses.append(loss)\n",
    "    w = w - (learningRate * grad)\n",
    "print (loss)"
   ]
  },
  {
   "cell_type": "code",
   "execution_count": 187,
   "metadata": {},
   "outputs": [
    {
     "name": "stdout",
     "output_type": "stream",
     "text": [
      "Training loss value is:\n",
      "0.16615054434628682\n"
     ]
    }
   ],
   "source": [
    "train_loss=loss_value(w,x_train,y_train)\n",
    "print(\"Training loss value is:\")\n",
    "print(train_loss)"
   ]
  },
  {
   "cell_type": "code",
   "execution_count": 189,
   "metadata": {},
   "outputs": [
    {
     "name": "stdout",
     "output_type": "stream",
     "text": [
      "Testing loss value is:\n",
      "0.17083154394339028\n"
     ]
    }
   ],
   "source": [
    "test_loss=loss_value(w,x_test,y_test)\n",
    "print(\"Testing loss value is:\")\n",
    "print(test_loss)"
   ]
  },
  {
   "cell_type": "code",
   "execution_count": 195,
   "metadata": {},
   "outputs": [],
   "source": [
    "prob_train,pred_train=getProbsAndPreds(x_train) #probability matrix and the prediction\n",
    "prob_test,pred_test=getProbsAndPreds(x_test)"
   ]
  }
 ],
 "metadata": {
  "kernelspec": {
   "display_name": "Python 3",
   "language": "python",
   "name": "python3"
  },
  "language_info": {
   "codemirror_mode": {
    "name": "ipython",
    "version": 3
   },
   "file_extension": ".py",
   "mimetype": "text/x-python",
   "name": "python",
   "nbconvert_exporter": "python",
   "pygments_lexer": "ipython3",
   "version": "3.7.1"
  }
 },
 "nbformat": 4,
 "nbformat_minor": 2
}
