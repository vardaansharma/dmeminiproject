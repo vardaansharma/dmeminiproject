{
 "cells": [
  {
   "cell_type": "code",
   "execution_count": 33,
   "metadata": {},
   "outputs": [],
   "source": [
    "import pandas as pd\n",
    "import numpy as np\n",
    "import matplotlib.pyplot as plt\n",
    "from sklearn.decomposition import PCA"
   ]
  },
  {
   "cell_type": "code",
   "execution_count": 2,
   "metadata": {},
   "outputs": [],
   "source": [
    "labels = pd.read_csv('targetlabels.txt',sep=\"\\t\",header=0,index_col=0)\n",
    "    \n",
    "data = pd.read_csv('data.csv',header=0,index_col=0)\n",
    "\n",
    "labels['class'] = pd.Series(0,dtype=int)\n",
    "labels['class'] = 0"
   ]
  },
  {
   "cell_type": "markdown",
   "metadata": {},
   "source": [
    "## Generate labels data\n",
    "\n",
    "### Note: there are three sample have both TCA and Resp, so maked as NaN"
   ]
  },
  {
   "cell_type": "code",
   "execution_count": 3,
   "metadata": {},
   "outputs": [],
   "source": [
    "# Generate class for each gene.\n",
    "\n",
    "for i in range(len(labels)):\n",
    "    if labels.iloc[i].sum()!=-2:\n",
    "        if labels.iloc[i]['TCA'] == 1:\n",
    "            labels['class'].iloc[i] = 1\n",
    "        elif labels.iloc[i]['Resp'] == 1:\n",
    "            labels['class'].iloc[i] = 2\n",
    "        elif labels.iloc[i]['Ribo'] == 1:\n",
    "            labels['class'].iloc[i] = 3\n",
    "        elif labels.iloc[i]['Proteas'] == 1:\n",
    "            labels['class'].iloc[i] = 4\n",
    "        elif labels.iloc[i]['Hist'] == 1:\n",
    "            labels['class'].iloc[i] = 5\n",
    "        elif labels.iloc[i]['HTH'] == 1:\n",
    "            labels['class'].iloc[i] = 6\n",
    "    elif labels.iloc[i].sum()==-6:\n",
    "        labels['class'].iloc[i] = 0\n",
    "    else: \n",
    "        labels['class'].iloc[i] = 7\n",
    "    "
   ]
  },
  {
   "cell_type": "code",
   "execution_count": 4,
   "metadata": {},
   "outputs": [
    {
     "data": {
      "text/html": [
       "<div>\n",
       "<style scoped>\n",
       "    .dataframe tbody tr th:only-of-type {\n",
       "        vertical-align: middle;\n",
       "    }\n",
       "\n",
       "    .dataframe tbody tr th {\n",
       "        vertical-align: top;\n",
       "    }\n",
       "\n",
       "    .dataframe thead th {\n",
       "        text-align: right;\n",
       "    }\n",
       "</style>\n",
       "<table border=\"1\" class=\"dataframe\">\n",
       "  <thead>\n",
       "    <tr style=\"text-align: right;\">\n",
       "      <th></th>\n",
       "      <th>TCA</th>\n",
       "      <th>Resp</th>\n",
       "      <th>Ribo</th>\n",
       "      <th>Proteas</th>\n",
       "      <th>Hist</th>\n",
       "      <th>HTH</th>\n",
       "      <th>class</th>\n",
       "    </tr>\n",
       "    <tr>\n",
       "      <th>gene</th>\n",
       "      <th></th>\n",
       "      <th></th>\n",
       "      <th></th>\n",
       "      <th></th>\n",
       "      <th></th>\n",
       "      <th></th>\n",
       "      <th></th>\n",
       "    </tr>\n",
       "  </thead>\n",
       "  <tbody>\n",
       "    <tr>\n",
       "      <th>YDR178W</th>\n",
       "      <td>1</td>\n",
       "      <td>1</td>\n",
       "      <td>-1</td>\n",
       "      <td>-1</td>\n",
       "      <td>-1</td>\n",
       "      <td>-1</td>\n",
       "      <td>7</td>\n",
       "    </tr>\n",
       "    <tr>\n",
       "      <th>YKL148C</th>\n",
       "      <td>1</td>\n",
       "      <td>1</td>\n",
       "      <td>-1</td>\n",
       "      <td>-1</td>\n",
       "      <td>-1</td>\n",
       "      <td>-1</td>\n",
       "      <td>7</td>\n",
       "    </tr>\n",
       "    <tr>\n",
       "      <th>YLL041C</th>\n",
       "      <td>1</td>\n",
       "      <td>1</td>\n",
       "      <td>-1</td>\n",
       "      <td>-1</td>\n",
       "      <td>-1</td>\n",
       "      <td>-1</td>\n",
       "      <td>7</td>\n",
       "    </tr>\n",
       "  </tbody>\n",
       "</table>\n",
       "</div>"
      ],
      "text/plain": [
       "         TCA  Resp  Ribo  Proteas  Hist  HTH  class\n",
       "gene                                               \n",
       "YDR178W    1     1    -1       -1    -1   -1      7\n",
       "YKL148C    1     1    -1       -1    -1   -1      7\n",
       "YLL041C    1     1    -1       -1    -1   -1      7"
      ]
     },
     "execution_count": 4,
     "metadata": {},
     "output_type": "execute_result"
    }
   ],
   "source": [
    "# Three abnormal data\n",
    "\n",
    "labels[(labels['TCA']==1)&(labels['Resp']==1)]"
   ]
  },
  {
   "cell_type": "code",
   "execution_count": 5,
   "metadata": {},
   "outputs": [],
   "source": [
    "# combine the label with the experiment data to a big dataframe\n",
    "comb = pd.merge(data, labels['class'], left_index=True, right_index=True, how='outer')"
   ]
  },
  {
   "cell_type": "code",
   "execution_count": 6,
   "metadata": {},
   "outputs": [
    {
     "data": {
      "text/html": [
       "<div>\n",
       "<style scoped>\n",
       "    .dataframe tbody tr th:only-of-type {\n",
       "        vertical-align: middle;\n",
       "    }\n",
       "\n",
       "    .dataframe tbody tr th {\n",
       "        vertical-align: top;\n",
       "    }\n",
       "\n",
       "    .dataframe thead th {\n",
       "        text-align: right;\n",
       "    }\n",
       "</style>\n",
       "<table border=\"1\" class=\"dataframe\">\n",
       "  <thead>\n",
       "    <tr style=\"text-align: right;\">\n",
       "      <th></th>\n",
       "      <th>TCA</th>\n",
       "      <th>Resp</th>\n",
       "      <th>Ribo</th>\n",
       "      <th>Proteas</th>\n",
       "      <th>Hist</th>\n",
       "      <th>HTH</th>\n",
       "    </tr>\n",
       "    <tr>\n",
       "      <th>class</th>\n",
       "      <th></th>\n",
       "      <th></th>\n",
       "      <th></th>\n",
       "      <th></th>\n",
       "      <th></th>\n",
       "      <th></th>\n",
       "    </tr>\n",
       "  </thead>\n",
       "  <tbody>\n",
       "    <tr>\n",
       "      <th>0</th>\n",
       "      <td>2240</td>\n",
       "      <td>2240</td>\n",
       "      <td>2240</td>\n",
       "      <td>2240</td>\n",
       "      <td>2240</td>\n",
       "      <td>2240</td>\n",
       "    </tr>\n",
       "    <tr>\n",
       "      <th>1</th>\n",
       "      <td>14</td>\n",
       "      <td>14</td>\n",
       "      <td>14</td>\n",
       "      <td>14</td>\n",
       "      <td>14</td>\n",
       "      <td>14</td>\n",
       "    </tr>\n",
       "    <tr>\n",
       "      <th>2</th>\n",
       "      <td>27</td>\n",
       "      <td>27</td>\n",
       "      <td>27</td>\n",
       "      <td>27</td>\n",
       "      <td>27</td>\n",
       "      <td>27</td>\n",
       "    </tr>\n",
       "    <tr>\n",
       "      <th>3</th>\n",
       "      <td>121</td>\n",
       "      <td>121</td>\n",
       "      <td>121</td>\n",
       "      <td>121</td>\n",
       "      <td>121</td>\n",
       "      <td>121</td>\n",
       "    </tr>\n",
       "    <tr>\n",
       "      <th>4</th>\n",
       "      <td>35</td>\n",
       "      <td>35</td>\n",
       "      <td>35</td>\n",
       "      <td>35</td>\n",
       "      <td>35</td>\n",
       "      <td>35</td>\n",
       "    </tr>\n",
       "    <tr>\n",
       "      <th>5</th>\n",
       "      <td>11</td>\n",
       "      <td>11</td>\n",
       "      <td>11</td>\n",
       "      <td>11</td>\n",
       "      <td>11</td>\n",
       "      <td>11</td>\n",
       "    </tr>\n",
       "    <tr>\n",
       "      <th>6</th>\n",
       "      <td>16</td>\n",
       "      <td>16</td>\n",
       "      <td>16</td>\n",
       "      <td>16</td>\n",
       "      <td>16</td>\n",
       "      <td>16</td>\n",
       "    </tr>\n",
       "    <tr>\n",
       "      <th>7</th>\n",
       "      <td>3</td>\n",
       "      <td>3</td>\n",
       "      <td>3</td>\n",
       "      <td>3</td>\n",
       "      <td>3</td>\n",
       "      <td>3</td>\n",
       "    </tr>\n",
       "  </tbody>\n",
       "</table>\n",
       "</div>"
      ],
      "text/plain": [
       "        TCA  Resp  Ribo  Proteas  Hist   HTH\n",
       "class                                       \n",
       "0      2240  2240  2240     2240  2240  2240\n",
       "1        14    14    14       14    14    14\n",
       "2        27    27    27       27    27    27\n",
       "3       121   121   121      121   121   121\n",
       "4        35    35    35       35    35    35\n",
       "5        11    11    11       11    11    11\n",
       "6        16    16    16       16    16    16\n",
       "7         3     3     3        3     3     3"
      ]
     },
     "execution_count": 6,
     "metadata": {},
     "output_type": "execute_result"
    }
   ],
   "source": [
    "# label distribution\n",
    "labels.groupby('class').count()"
   ]
  },
  {
   "cell_type": "markdown",
   "metadata": {},
   "source": [
    "### class\n",
    "From TCA to HTH, 1 to 6 \n",
    "\n",
    "unlabel is 0\n",
    "\n",
    "-2 is the three strange data"
   ]
  },
  {
   "cell_type": "markdown",
   "metadata": {},
   "source": [
    "### imputer for missing data, using mean"
   ]
  },
  {
   "cell_type": "code",
   "execution_count": 36,
   "metadata": {},
   "outputs": [
    {
     "name": "stdout",
     "output_type": "stream",
     "text": [
      "['alpha 0', 'alpha 7', 'alpha 14', 'alpha 21', 'alpha 28', 'alpha 35', 'alpha 42', 'alpha 49', 'alpha 56', 'alpha 63', 'alpha 70', 'alpha 77', 'alpha 84', 'alpha 91', 'alpha 98', 'alpha 105', 'alpha 112', 'alpha 119', 'Elu 0', 'Elu 30', 'Elu 60', 'Elu 90', 'Elu 120', 'Elu 150', 'Elu 180', 'Elu 210', 'Elu 240', 'Elu 270', 'Elu 300', 'Elu 330', 'Elu 360', 'Elu 390', 'cdc15 10', 'cdc15 30', 'cdc15 50', 'cdc15 70', 'cdc15 90', 'cdc15 110', 'cdc15 130', 'cdc15 150', 'cdc15 170', 'cdc15 190', 'cdc15 210', 'cdc15 230', 'cdc15 250', 'cdc15 270', 'cdc15 290', 'spo 0', 'spo 2', 'spo 5', 'spo 7', 'spo 9', 'spo 11', 'spo5 2', 'spo5 7', 'spo5 11', 'spo- early', 'spo- mid', 'heat 0', 'heat 10', 'heat 20', 'heat 40', 'heat 80', 'heat 160', 'dtt 15', 'dtt 30', 'dtt 60', 'dtt 120', 'cold 0', 'cold 20', 'cold 40', 'cold 160', 'diau a', 'diau b', 'diau c', 'diau d', 'diau e', 'diau f', 'diau g']\n",
      "['alpha 0', 'alpha 7', 'alpha 14', 'alpha 21', 'alpha 28', 'alpha 35', 'alpha 42', 'alpha 49', 'alpha 56', 'alpha 63', 'alpha 70', 'alpha 77', 'alpha 84', 'alpha 91', 'alpha 98', 'alpha 105', 'alpha 112', 'alpha 119']\n",
      "['Elu 0', 'Elu 30', 'Elu 60', 'Elu 90', 'Elu 120', 'Elu 150', 'Elu 180', 'Elu 210', 'Elu 240', 'Elu 270', 'Elu 300', 'Elu 330', 'Elu 360', 'Elu 390']\n",
      "['cdc15 10', 'cdc15 30', 'cdc15 50', 'cdc15 70', 'cdc15 90', 'cdc15 110', 'cdc15 130', 'cdc15 150', 'cdc15 170', 'cdc15 190', 'cdc15 210', 'cdc15 230', 'cdc15 250', 'cdc15 270', 'cdc15 290']\n",
      "['spo 0', 'spo 2', 'spo 5', 'spo 7', 'spo 9', 'spo 11', 'spo5 2', 'spo5 7', 'spo5 11']\n",
      "['spo- early', 'spo- mid']\n",
      "['heat 0', 'heat 10', 'heat 20', 'heat 40', 'heat 80', 'heat 160']\n",
      "['dtt 15', 'dtt 30', 'dtt 60', 'dtt 120']\n",
      "['cold 0', 'cold 20', 'cold 40', 'cold 160']\n",
      "['diau a', 'diau b', 'diau c', 'diau d', 'diau e', 'diau f', 'diau g']\n"
     ]
    }
   ],
   "source": [
    "\n",
    "X = comb[comb['class']!=7].iloc[:,1:-1]\n",
    "y = comb[comb['class']!=7].iloc[:,-1]\n",
    "alphaX= comb[comb['class']!=7].iloc[:,1:19]\n",
    "eluX= comb[comb['class']!=7].iloc[:,19:33]\n",
    "edcX= comb[comb['class']!=7].iloc[:,33:48]\n",
    "spotX= comb[comb['class']!=7].iloc[:,48:57]\n",
    "spoX= comb[comb['class']!=7].iloc[:,57:59]\n",
    "heatX= comb[comb['class']!=7].iloc[:,59:65]\n",
    "dttX= comb[comb['class']!=7].iloc[:,65:69]\n",
    "coldX= comb[comb['class']!=7].iloc[:,69:73]\n",
    "diauX= comb[comb['class']!=7].iloc[:,73:80]\n",
    "print(list(X.columns.values))\n",
    "print(list(alphaX.columns.values))\n",
    "print(list(eluX.columns.values))\n",
    "print(list(edcX.columns.values))\n",
    "print(list(spotX.columns.values))\n",
    "print(list(spoX.columns.values))\n",
    "print(list(heatX.columns.values))\n",
    "print(list(dttX.columns.values))\n",
    "print(list(coldX.columns.values))\n",
    "print(list(diauX.columns.values))"
   ]
  },
  {
   "cell_type": "code",
   "execution_count": null,
   "metadata": {},
   "outputs": [],
   "source": [
    "pca= PCA(1)\n",
    "alphaX= pca.fit_transform(alphaX)\n",
    "#newX_test=pca.transform(X_train[test])"
   ]
  },
  {
   "cell_type": "code",
   "execution_count": 8,
   "metadata": {},
   "outputs": [
    {
     "name": "stderr",
     "output_type": "stream",
     "text": [
      "/Library/Frameworks/Python.framework/Versions/3.7/lib/python3.7/site-packages/sklearn/utils/deprecation.py:58: DeprecationWarning: Class Imputer is deprecated; Imputer was deprecated in version 0.20 and will be removed in 0.22. Import impute.SimpleImputer from sklearn instead.\n",
      "  warnings.warn(msg, category=DeprecationWarning)\n"
     ]
    }
   ],
   "source": [
    "from sklearn.preprocessing import Imputer\n",
    "\n",
    "imputer = Imputer(missing_values = np.nan, strategy = 'mean', axis=0)\n",
    "imputer = imputer.fit(X)\n",
    "X_imputered=imputer.transform(X)"
   ]
  },
  {
   "cell_type": "code",
   "execution_count": 9,
   "metadata": {},
   "outputs": [],
   "source": [
    "#saving data before sampling it, and after imputing it.\n",
    "np.savetxt(\"newdata.txt\", X_imputered, delimiter=\" \")\n",
    "np.savetxt(\"newlabels.txt\", y, delimiter=\" \")"
   ]
  },
  {
   "cell_type": "markdown",
   "metadata": {},
   "source": [
    "### dealing imbalance\n",
    "`over` and `under` are dictionary for how many sample we want for each class"
   ]
  },
  {
   "cell_type": "code",
   "execution_count": 8,
   "metadata": {},
   "outputs": [
    {
     "name": "stdout",
     "output_type": "stream",
     "text": [
      "Original:\n",
      "[(0, 2240), (1, 14), (2, 27), (3, 121), (4, 35), (5, 11), (6, 16)]\n",
      "after over sampling:\n",
      "[(0, 2240), (1, 300), (2, 300), (3, 300), (4, 300), (5, 300), (6, 300)]\n",
      "after Under sampling:\n",
      "[(0, 800), (1, 300), (2, 300), (3, 300), (4, 300), (5, 300), (6, 300)]\n"
     ]
    }
   ],
   "source": [
    "from collections import Counter\n",
    "print(\"Original:\")\n",
    "print(sorted(Counter(y).items()))\n",
    "\n",
    "from imblearn.over_sampling import SMOTE\n",
    "over = {1:300,2:300,3:300,4:300,5:300,6:300} #change here to set over sampling goal for those class\n",
    "X_over, y_over = SMOTE(sampling_strategy = over).fit_resample(X_imputered, y)\n",
    "print(\"after over sampling:\")\n",
    "print(sorted(Counter(y_over).items()))\n",
    "\n",
    "under = {0:800} # change here for under sampling goal\n",
    "from imblearn.under_sampling import RandomUnderSampler\n",
    "X_under, y_under = RandomUnderSampler(sampling_strategy = under ).fit_resample(X_over, y_over)\n",
    "print(\"after Under sampling:\")\n",
    "print(sorted(Counter(y_under).items()))\n",
    "\n",
    "\n",
    "# from imblearn.combine import SMOTEENN\n",
    "# smote_enn = SMOTEENN(sampling_strategy='all',smote=SMOTE(sampling_strategy = c))\n",
    "# X_resampled, y_resampled = smote_enn.fit_resample(X_imputered, y)\n",
    "# print(sorted(Counter(y_resampled).items()))\n",
    "\n"
   ]
  }
 ],
 "metadata": {
  "kernelspec": {
   "display_name": "Python 3",
   "language": "python",
   "name": "python3"
  },
  "language_info": {
   "codemirror_mode": {
    "name": "ipython",
    "version": 3
   },
   "file_extension": ".py",
   "mimetype": "text/x-python",
   "name": "python",
   "nbconvert_exporter": "python",
   "pygments_lexer": "ipython3",
   "version": "3.6.8"
  }
 },
 "nbformat": 4,
 "nbformat_minor": 2
}
