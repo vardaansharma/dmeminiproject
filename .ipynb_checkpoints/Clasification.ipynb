{
 "cells": [
  {
   "cell_type": "code",
   "execution_count": 1,
   "metadata": {},
   "outputs": [
    {
     "name": "stderr",
     "output_type": "stream",
     "text": [
      "Using TensorFlow backend.\n"
     ]
    }
   ],
   "source": [
    "import sys\n",
    "import pickle\n",
    "import numpy as np\n",
    "import pandas as pd\n",
    "import tensorflow as tf\n",
    "from sklearn.model_selection import KFold\n",
    "from sklearn.model_selection import StratifiedKFold\n",
    "from tensorflow import keras\n",
    "from keras.models import Sequential\n",
    "from keras.layers import Dense,Dropout, LSTM, Flatten\n",
    "from keras.models import Model\n",
    "from keras import optimizers,regularizers\n",
    "from keras.callbacks import History,EarlyStopping\n",
    "from keras.optimizers import SGD\n",
    "import keras_metrics\n",
    "from sklearn import metrics\n",
    "from sklearn.utils import shuffle\n",
    "from collections import Counter\n",
    "from imblearn.over_sampling import SMOTE\n",
    "from imblearn.combine import SMOTEENN\n",
    "from imblearn.combine import SMOTETomek\n",
    "from imblearn.over_sampling import RandomOverSampler\n",
    "from imblearn.under_sampling import RandomUnderSampler\n",
    "from sklearn.datasets import make_classification\n",
    "from sklearn.utils import shuffle, class_weight\n",
    "from sklearn.discriminant_analysis import LinearDiscriminantAnalysis\n",
    "from sklearn.decomposition import PCA"
   ]
  },
  {
   "cell_type": "code",
   "execution_count": 2,
   "metadata": {},
   "outputs": [
    {
     "name": "stdout",
     "output_type": "stream",
     "text": [
      "['gene', 'TCA', 'Resp', 'Ribo', 'Proteas', 'Hist', 'HTH']\n",
      "\n",
      "\n",
      "['ORF', 'NAME', 'alpha 0', 'alpha 7', 'alpha 14', 'alpha 21', 'alpha 28', 'alpha 35', 'alpha 42', 'alpha 49', 'alpha 56', 'alpha 63', 'alpha 70', 'alpha 77', 'alpha 84', 'alpha 91', 'alpha 98', 'alpha 105', 'alpha 112', 'alpha 119', 'Elu 0', 'Elu 30', 'Elu 60', 'Elu 90', 'Elu 120', 'Elu 150', 'Elu 180', 'Elu 210', 'Elu 240', 'Elu 270', 'Elu 300', 'Elu 330', 'Elu 360', 'Elu 390', 'cdc15 10', 'cdc15 30', 'cdc15 50', 'cdc15 70', 'cdc15 90', 'cdc15 110', 'cdc15 130', 'cdc15 150', 'cdc15 170', 'cdc15 190', 'cdc15 210', 'cdc15 230', 'cdc15 250', 'cdc15 270', 'cdc15 290', 'spo 0', 'spo 2', 'spo 5', 'spo 7', 'spo 9', 'spo 11', 'spo5 2', 'spo5 7', 'spo5 11', 'spo- early', 'spo- mid', 'heat 0', 'heat 10', 'heat 20', 'heat 40', 'heat 80', 'heat 160', 'dtt 15', 'dtt 30', 'dtt 60', 'dtt 120', 'cold 0', 'cold 20', 'cold 40', 'cold 160', 'diau a', 'diau b', 'diau c', 'diau d', 'diau e', 'diau f', 'diau g']\n"
     ]
    }
   ],
   "source": [
    "labels = pd.read_csv('labels.csv',header=0)\n",
    "print(list(labels.columns.values))\n",
    "print(\"\\n\")\n",
    "labels= labels[pd.notnull(labels['gene'])]\n",
    "# df.value_counts()\n",
    "\n",
    "    \n",
    "    \n",
    "data=pd.read_csv('data.csv',header=0)\n",
    "print(list(data.columns.values))\n",
    "data = data[pd.notnull(data['ORF'])]"
   ]
  },
  {
   "cell_type": "code",
   "execution_count": 3,
   "metadata": {},
   "outputs": [
    {
     "data": {
      "text/html": [
       "<div>\n",
       "<style scoped>\n",
       "    .dataframe tbody tr th:only-of-type {\n",
       "        vertical-align: middle;\n",
       "    }\n",
       "\n",
       "    .dataframe tbody tr th {\n",
       "        vertical-align: top;\n",
       "    }\n",
       "\n",
       "    .dataframe thead th {\n",
       "        text-align: right;\n",
       "    }\n",
       "</style>\n",
       "<table border=\"1\" class=\"dataframe\">\n",
       "  <thead>\n",
       "    <tr style=\"text-align: right;\">\n",
       "      <th></th>\n",
       "      <th>ORF</th>\n",
       "      <th>NAME</th>\n",
       "      <th>alpha 0</th>\n",
       "      <th>alpha 7</th>\n",
       "      <th>alpha 14</th>\n",
       "      <th>alpha 21</th>\n",
       "      <th>alpha 28</th>\n",
       "      <th>alpha 35</th>\n",
       "      <th>alpha 42</th>\n",
       "      <th>alpha 49</th>\n",
       "      <th>...</th>\n",
       "      <th>cold 20</th>\n",
       "      <th>cold 40</th>\n",
       "      <th>cold 160</th>\n",
       "      <th>diau a</th>\n",
       "      <th>diau b</th>\n",
       "      <th>diau c</th>\n",
       "      <th>diau d</th>\n",
       "      <th>diau e</th>\n",
       "      <th>diau f</th>\n",
       "      <th>diau g</th>\n",
       "    </tr>\n",
       "  </thead>\n",
       "  <tbody>\n",
       "    <tr>\n",
       "      <th>0</th>\n",
       "      <td>YBR166C</td>\n",
       "      <td>TYR1   TYROSINE BIOSYNTHESIS    PREPHENATE DEH...</td>\n",
       "      <td>0.33</td>\n",
       "      <td>-0.17</td>\n",
       "      <td>0.04</td>\n",
       "      <td>-0.07</td>\n",
       "      <td>-0.09</td>\n",
       "      <td>-0.12</td>\n",
       "      <td>-0.03</td>\n",
       "      <td>-0.20</td>\n",
       "      <td>...</td>\n",
       "      <td>0.08</td>\n",
       "      <td>0.39</td>\n",
       "      <td>-0.17</td>\n",
       "      <td>0.23</td>\n",
       "      <td>0.20</td>\n",
       "      <td>0.20</td>\n",
       "      <td>-0.17</td>\n",
       "      <td>-0.69</td>\n",
       "      <td>0.14</td>\n",
       "      <td>-0.27</td>\n",
       "    </tr>\n",
       "    <tr>\n",
       "      <th>1</th>\n",
       "      <td>YOR357C</td>\n",
       "      <td>GRD19  SECRETION                GOLGI PROTEIN ...</td>\n",
       "      <td>-0.64</td>\n",
       "      <td>-0.38</td>\n",
       "      <td>-0.32</td>\n",
       "      <td>-0.29</td>\n",
       "      <td>-0.22</td>\n",
       "      <td>-0.01</td>\n",
       "      <td>-0.32</td>\n",
       "      <td>-0.27</td>\n",
       "      <td>...</td>\n",
       "      <td>0.36</td>\n",
       "      <td>-0.20</td>\n",
       "      <td>-0.34</td>\n",
       "      <td>-0.14</td>\n",
       "      <td>-0.09</td>\n",
       "      <td>0.06</td>\n",
       "      <td>-0.17</td>\n",
       "      <td>0.04</td>\n",
       "      <td>-0.97</td>\n",
       "      <td>-1.79</td>\n",
       "    </tr>\n",
       "    <tr>\n",
       "      <th>2</th>\n",
       "      <td>YLR292C</td>\n",
       "      <td>SEC72  SECRETION                ER PROTEIN TRA...</td>\n",
       "      <td>-0.23</td>\n",
       "      <td>0.19</td>\n",
       "      <td>-0.36</td>\n",
       "      <td>0.14</td>\n",
       "      <td>-0.40</td>\n",
       "      <td>0.16</td>\n",
       "      <td>-0.09</td>\n",
       "      <td>-0.12</td>\n",
       "      <td>...</td>\n",
       "      <td>0.21</td>\n",
       "      <td>-0.29</td>\n",
       "      <td>-0.36</td>\n",
       "      <td>-0.10</td>\n",
       "      <td>-0.29</td>\n",
       "      <td>-0.18</td>\n",
       "      <td>-0.34</td>\n",
       "      <td>-0.47</td>\n",
       "      <td>-0.43</td>\n",
       "      <td>-1.06</td>\n",
       "    </tr>\n",
       "    <tr>\n",
       "      <th>3</th>\n",
       "      <td>YGL112C</td>\n",
       "      <td>TAF60  TRANSCRIPTION            TFIID 60 KD SU...</td>\n",
       "      <td>-0.69</td>\n",
       "      <td>-0.89</td>\n",
       "      <td>-0.74</td>\n",
       "      <td>-0.56</td>\n",
       "      <td>-0.64</td>\n",
       "      <td>-0.18</td>\n",
       "      <td>-0.42</td>\n",
       "      <td>-0.34</td>\n",
       "      <td>...</td>\n",
       "      <td>-0.01</td>\n",
       "      <td>-0.29</td>\n",
       "      <td>0.31</td>\n",
       "      <td>0.21</td>\n",
       "      <td>0.07</td>\n",
       "      <td>0.18</td>\n",
       "      <td>-0.14</td>\n",
       "      <td>-0.20</td>\n",
       "      <td>-0.43</td>\n",
       "      <td>-1.51</td>\n",
       "    </tr>\n",
       "    <tr>\n",
       "      <th>4</th>\n",
       "      <td>YIL118W</td>\n",
       "      <td>RHO3   CYTOSKELETON             GTP-BINDING PR...</td>\n",
       "      <td>0.04</td>\n",
       "      <td>0.01</td>\n",
       "      <td>-0.81</td>\n",
       "      <td>NaN</td>\n",
       "      <td>-0.30</td>\n",
       "      <td>0.49</td>\n",
       "      <td>0.08</td>\n",
       "      <td>0.19</td>\n",
       "      <td>...</td>\n",
       "      <td>0.28</td>\n",
       "      <td>-0.17</td>\n",
       "      <td>0.26</td>\n",
       "      <td>0.07</td>\n",
       "      <td>-0.17</td>\n",
       "      <td>NaN</td>\n",
       "      <td>-0.10</td>\n",
       "      <td>-0.23</td>\n",
       "      <td>-0.51</td>\n",
       "      <td>-1.40</td>\n",
       "    </tr>\n",
       "  </tbody>\n",
       "</table>\n",
       "<p>5 rows × 81 columns</p>\n",
       "</div>"
      ],
      "text/plain": [
       "       ORF                                               NAME  alpha 0  \\\n",
       "0  YBR166C  TYR1   TYROSINE BIOSYNTHESIS    PREPHENATE DEH...     0.33   \n",
       "1  YOR357C  GRD19  SECRETION                GOLGI PROTEIN ...    -0.64   \n",
       "2  YLR292C  SEC72  SECRETION                ER PROTEIN TRA...    -0.23   \n",
       "3  YGL112C  TAF60  TRANSCRIPTION            TFIID 60 KD SU...    -0.69   \n",
       "4  YIL118W  RHO3   CYTOSKELETON             GTP-BINDING PR...     0.04   \n",
       "\n",
       "   alpha 7  alpha 14  alpha 21  alpha 28  alpha 35  alpha 42  alpha 49  ...  \\\n",
       "0    -0.17      0.04     -0.07     -0.09     -0.12     -0.03     -0.20  ...   \n",
       "1    -0.38     -0.32     -0.29     -0.22     -0.01     -0.32     -0.27  ...   \n",
       "2     0.19     -0.36      0.14     -0.40      0.16     -0.09     -0.12  ...   \n",
       "3    -0.89     -0.74     -0.56     -0.64     -0.18     -0.42     -0.34  ...   \n",
       "4     0.01     -0.81       NaN     -0.30      0.49      0.08      0.19  ...   \n",
       "\n",
       "   cold 20  cold 40  cold 160  diau a  diau b  diau c  diau d  diau e  diau f  \\\n",
       "0     0.08     0.39     -0.17    0.23    0.20    0.20   -0.17   -0.69    0.14   \n",
       "1     0.36    -0.20     -0.34   -0.14   -0.09    0.06   -0.17    0.04   -0.97   \n",
       "2     0.21    -0.29     -0.36   -0.10   -0.29   -0.18   -0.34   -0.47   -0.43   \n",
       "3    -0.01    -0.29      0.31    0.21    0.07    0.18   -0.14   -0.20   -0.43   \n",
       "4     0.28    -0.17      0.26    0.07   -0.17     NaN   -0.10   -0.23   -0.51   \n",
       "\n",
       "   diau g  \n",
       "0   -0.27  \n",
       "1   -1.79  \n",
       "2   -1.06  \n",
       "3   -1.51  \n",
       "4   -1.40  \n",
       "\n",
       "[5 rows x 81 columns]"
      ]
     },
     "execution_count": 3,
     "metadata": {},
     "output_type": "execute_result"
    }
   ],
   "source": [
    "data.head(5)"
   ]
  },
  {
   "cell_type": "code",
   "execution_count": 4,
   "metadata": {},
   "outputs": [
    {
     "data": {
      "text/html": [
       "<div>\n",
       "<style scoped>\n",
       "    .dataframe tbody tr th:only-of-type {\n",
       "        vertical-align: middle;\n",
       "    }\n",
       "\n",
       "    .dataframe tbody tr th {\n",
       "        vertical-align: top;\n",
       "    }\n",
       "\n",
       "    .dataframe thead th {\n",
       "        text-align: right;\n",
       "    }\n",
       "</style>\n",
       "<table border=\"1\" class=\"dataframe\">\n",
       "  <thead>\n",
       "    <tr style=\"text-align: right;\">\n",
       "      <th></th>\n",
       "      <th>gene</th>\n",
       "      <th>TCA</th>\n",
       "      <th>Resp</th>\n",
       "      <th>Ribo</th>\n",
       "      <th>Proteas</th>\n",
       "      <th>Hist</th>\n",
       "      <th>HTH</th>\n",
       "    </tr>\n",
       "  </thead>\n",
       "  <tbody>\n",
       "    <tr>\n",
       "      <th>1</th>\n",
       "      <td>YAL001C</td>\n",
       "      <td>-1.0</td>\n",
       "      <td>-1.0</td>\n",
       "      <td>-1.0</td>\n",
       "      <td>-1.0</td>\n",
       "      <td>-1.0</td>\n",
       "      <td>-1.0</td>\n",
       "    </tr>\n",
       "    <tr>\n",
       "      <th>3</th>\n",
       "      <td>YAL002W</td>\n",
       "      <td>-1.0</td>\n",
       "      <td>-1.0</td>\n",
       "      <td>-1.0</td>\n",
       "      <td>-1.0</td>\n",
       "      <td>-1.0</td>\n",
       "      <td>-1.0</td>\n",
       "    </tr>\n",
       "    <tr>\n",
       "      <th>5</th>\n",
       "      <td>YAL003W</td>\n",
       "      <td>-1.0</td>\n",
       "      <td>-1.0</td>\n",
       "      <td>-1.0</td>\n",
       "      <td>-1.0</td>\n",
       "      <td>-1.0</td>\n",
       "      <td>-1.0</td>\n",
       "    </tr>\n",
       "    <tr>\n",
       "      <th>7</th>\n",
       "      <td>YAL005C</td>\n",
       "      <td>-1.0</td>\n",
       "      <td>-1.0</td>\n",
       "      <td>-1.0</td>\n",
       "      <td>-1.0</td>\n",
       "      <td>-1.0</td>\n",
       "      <td>-1.0</td>\n",
       "    </tr>\n",
       "    <tr>\n",
       "      <th>9</th>\n",
       "      <td>YAL010C</td>\n",
       "      <td>-1.0</td>\n",
       "      <td>-1.0</td>\n",
       "      <td>-1.0</td>\n",
       "      <td>-1.0</td>\n",
       "      <td>-1.0</td>\n",
       "      <td>-1.0</td>\n",
       "    </tr>\n",
       "  </tbody>\n",
       "</table>\n",
       "</div>"
      ],
      "text/plain": [
       "      gene  TCA  Resp  Ribo  Proteas  Hist  HTH\n",
       "1  YAL001C -1.0  -1.0  -1.0     -1.0  -1.0 -1.0\n",
       "3  YAL002W -1.0  -1.0  -1.0     -1.0  -1.0 -1.0\n",
       "5  YAL003W -1.0  -1.0  -1.0     -1.0  -1.0 -1.0\n",
       "7  YAL005C -1.0  -1.0  -1.0     -1.0  -1.0 -1.0\n",
       "9  YAL010C -1.0  -1.0  -1.0     -1.0  -1.0 -1.0"
      ]
     },
     "execution_count": 4,
     "metadata": {},
     "output_type": "execute_result"
    }
   ],
   "source": [
    "labels.head(5)"
   ]
  },
  {
   "cell_type": "code",
   "execution_count": 5,
   "metadata": {},
   "outputs": [],
   "source": [
    "X=np.loadtxt('newdata.txt')\n",
    "Y=np.loadtxt('newlabels.txt')\n",
    "Y=Y.astype(int)"
   ]
  },
  {
   "cell_type": "code",
   "execution_count": 6,
   "metadata": {},
   "outputs": [
    {
     "name": "stdout",
     "output_type": "stream",
     "text": [
      "(2464, 94)\n",
      "(2464,)\n"
     ]
    }
   ],
   "source": [
    "print(X.shape)\n",
    "print(Y.shape)\n",
    "X,Y= shuffle(X,Y)"
   ]
  },
  {
   "cell_type": "code",
   "execution_count": 7,
   "metadata": {},
   "outputs": [
    {
     "name": "stdout",
     "output_type": "stream",
     "text": [
      "(2464, 7)\n"
     ]
    }
   ],
   "source": [
    "n_values = np.max(Y) + 1\n",
    "newY=np.eye(n_values)[Y] #one hot encoding for softmax\n",
    "print(newY.shape)"
   ]
  },
  {
   "cell_type": "code",
   "execution_count": 8,
   "metadata": {},
   "outputs": [],
   "source": [
    "n=int(X.shape[0]*0.80)\n",
    "length=X.shape[0]\n",
    "X_train=X[0:n,:]\n",
    "X_test=X[n:,:]\n",
    "\n",
    "Y_train=Y[0:n]\n",
    "Y_test=Y[n:]\n",
    "\n",
    "newY_train=newY[0:n]\n",
    "newY_test=newY[n:]"
   ]
  },
  {
   "cell_type": "code",
   "execution_count": 9,
   "metadata": {},
   "outputs": [
    {
     "name": "stdout",
     "output_type": "stream",
     "text": [
      "(1971, 94)\n",
      "(493, 94)\n"
     ]
    }
   ],
   "source": [
    "print(X_train.shape)\n",
    "print(X_test.shape)"
   ]
  },
  {
   "cell_type": "code",
   "execution_count": 10,
   "metadata": {},
   "outputs": [
    {
     "name": "stdout",
     "output_type": "stream",
     "text": [
      "(1971,)\n",
      "(493,)\n",
      "One hot encoded Y shape\n",
      "(1971, 7)\n",
      "(493, 7)\n"
     ]
    }
   ],
   "source": [
    "print(Y_train.shape)\n",
    "print(Y_test.shape)\n",
    "\n",
    "print(\"One hot encoded Y shape\")\n",
    "print(newY_train.shape)\n",
    "print(newY_test.shape)"
   ]
  },
  {
   "cell_type": "code",
   "execution_count": 11,
   "metadata": {},
   "outputs": [
    {
     "name": "stdout",
     "output_type": "stream",
     "text": [
      "(1971,)\n"
     ]
    }
   ],
   "source": [
    "#using the sklearn class weights to find find the weights of the balanced class\n",
    "Y_train=Y_train.reshape((Y_train.shape[0],))\n",
    "print(Y_train.shape)\n",
    "class_weights_values= class_weight.compute_class_weight('balanced',np.unique(Y_train), Y_train)\n",
    "Y_train=Y_train.reshape(-1, 1)"
   ]
  },
  {
   "cell_type": "code",
   "execution_count": 12,
   "metadata": {
    "scrolled": true
   },
   "outputs": [
    {
     "name": "stdout",
     "output_type": "stream",
     "text": [
      "WARNING:tensorflow:From C:\\Users\\user\\Miniconda3\\lib\\site-packages\\tensorflow\\python\\framework\\op_def_library.py:263: colocate_with (from tensorflow.python.framework.ops) is deprecated and will be removed in a future version.\n",
      "Instructions for updating:\n",
      "Colocations handled automatically by placer.\n",
      "WARNING:tensorflow:From C:\\Users\\user\\Miniconda3\\lib\\site-packages\\keras\\backend\\tensorflow_backend.py:3445: calling dropout (from tensorflow.python.ops.nn_ops) with keep_prob is deprecated and will be removed in a future version.\n",
      "Instructions for updating:\n",
      "Please use `rate` instead of `keep_prob`. Rate should be set to `rate = 1 - keep_prob`.\n",
      "WARNING:tensorflow:From C:\\Users\\user\\Miniconda3\\lib\\site-packages\\tensorflow\\python\\ops\\math_ops.py:3066: to_int32 (from tensorflow.python.ops.math_ops) is deprecated and will be removed in a future version.\n",
      "Instructions for updating:\n",
      "Use tf.cast instead.\n",
      "Epoch 1/10\n",
      "1478/1478 [==============================] - 1s 572us/step - loss: 0.4830 - acc: 0.8931\n",
      "Epoch 2/10\n",
      "1478/1478 [==============================] - 0s 209us/step - loss: 0.2448 - acc: 0.9425\n",
      "Epoch 3/10\n",
      "1478/1478 [==============================] - 0s 192us/step - loss: 0.1765 - acc: 0.9553\n",
      "Epoch 4/10\n",
      "1478/1478 [==============================] - 0s 215us/step - loss: 0.1297 - acc: 0.9621\n",
      "Epoch 5/10\n",
      "1478/1478 [==============================] - 0s 217us/step - loss: 0.1333 - acc: 0.9675\n",
      "Epoch 6/10\n",
      "1478/1478 [==============================] - 0s 214us/step - loss: 0.1130 - acc: 0.9675\n",
      "Epoch 7/10\n",
      "1478/1478 [==============================] - 0s 207us/step - loss: 0.1181 - acc: 0.9689\n",
      "Epoch 8/10\n",
      "1478/1478 [==============================] - 0s 198us/step - loss: 0.0952 - acc: 0.9729\n",
      "Epoch 9/10\n",
      "1478/1478 [==============================] - 0s 198us/step - loss: 0.0814 - acc: 0.9783\n",
      "Epoch 10/10\n",
      "1478/1478 [==============================] - 0s 194us/step - loss: 0.0773 - acc: 0.9736\n",
      "493/493 [==============================] - 0s 293us/step\n"
     ]
    },
    {
     "name": "stderr",
     "output_type": "stream",
     "text": [
      "C:\\Users\\user\\Miniconda3\\lib\\site-packages\\sklearn\\metrics\\classification.py:1145: UndefinedMetricWarning: F-score is ill-defined and being set to 0.0 in labels with no true samples.\n",
      "  'recall', 'true', average, warn_for)\n",
      "C:\\Users\\user\\Miniconda3\\lib\\site-packages\\sklearn\\metrics\\classification.py:1145: UndefinedMetricWarning: Recall is ill-defined and being set to 0.0 in labels with no true samples.\n",
      "  'recall', 'true', average, warn_for)\n"
     ]
    },
    {
     "name": "stdout",
     "output_type": "stream",
     "text": [
      "Epoch 1/10\n",
      "1478/1478 [==============================] - 1s 539us/step - loss: 0.4465 - acc: 0.9005\n",
      "Epoch 2/10\n",
      "1478/1478 [==============================] - 0s 196us/step - loss: 0.2196 - acc: 0.9499\n",
      "Epoch 3/10\n",
      "1478/1478 [==============================] - 0s 193us/step - loss: 0.1630 - acc: 0.9567\n",
      "Epoch 4/10\n",
      "1478/1478 [==============================] - 0s 204us/step - loss: 0.1465 - acc: 0.9641\n",
      "Epoch 5/10\n",
      "1478/1478 [==============================] - 0s 188us/step - loss: 0.1415 - acc: 0.9601\n",
      "Epoch 6/10\n",
      "1478/1478 [==============================] - 0s 185us/step - loss: 0.1160 - acc: 0.9696\n",
      "Epoch 7/10\n",
      "1478/1478 [==============================] - 0s 183us/step - loss: 0.1116 - acc: 0.9723\n",
      "Epoch 8/10\n",
      "1478/1478 [==============================] - 0s 186us/step - loss: 0.0888 - acc: 0.9770\n",
      "Epoch 9/10\n",
      "1478/1478 [==============================] - 0s 186us/step - loss: 0.0822 - acc: 0.9709\n",
      "Epoch 10/10\n",
      "1478/1478 [==============================] - 0s 196us/step - loss: 0.0841 - acc: 0.9729\n",
      " 32/493 [>.............................] - ETA: 2s"
     ]
    },
    {
     "name": "stderr",
     "output_type": "stream",
     "text": [
      "C:\\Users\\user\\Miniconda3\\lib\\site-packages\\sklearn\\metrics\\classification.py:1143: UndefinedMetricWarning: F-score is ill-defined and being set to 0.0 in labels with no predicted samples.\n",
      "  'precision', 'predicted', average, warn_for)\n",
      "C:\\Users\\user\\Miniconda3\\lib\\site-packages\\sklearn\\metrics\\classification.py:1143: UndefinedMetricWarning: Precision is ill-defined and being set to 0.0 in labels with no predicted samples.\n",
      "  'precision', 'predicted', average, warn_for)\n"
     ]
    },
    {
     "name": "stdout",
     "output_type": "stream",
     "text": [
      "493/493 [==============================] - 0s 360us/step\n",
      "Epoch 1/10\n",
      "1478/1478 [==============================] - 1s 775us/step - loss: 0.4608 - acc: 0.8945\n",
      "Epoch 2/10\n",
      "1478/1478 [==============================] - 0s 201us/step - loss: 0.2354 - acc: 0.9465\n",
      "Epoch 3/10\n",
      "1478/1478 [==============================] - 0s 246us/step - loss: 0.1770 - acc: 0.9594\n",
      "Epoch 4/10\n",
      "1478/1478 [==============================] - 0s 202us/step - loss: 0.1377 - acc: 0.9682\n",
      "Epoch 5/10\n",
      "1478/1478 [==============================] - 0s 219us/step - loss: 0.1464 - acc: 0.9641\n",
      "Epoch 6/10\n",
      "1478/1478 [==============================] - 0s 199us/step - loss: 0.1120 - acc: 0.9702\n",
      "Epoch 7/10\n",
      "1478/1478 [==============================] - 0s 220us/step - loss: 0.1055 - acc: 0.9682\n",
      "Epoch 8/10\n",
      "1478/1478 [==============================] - 0s 192us/step - loss: 0.1001 - acc: 0.9723\n",
      "Epoch 9/10\n",
      "1478/1478 [==============================] - 0s 188us/step - loss: 0.0875 - acc: 0.9790\n",
      "Epoch 10/10\n",
      "1478/1478 [==============================] - 1s 675us/step - loss: 0.0856 - acc: 0.9756\n",
      "493/493 [==============================] - 1s 1ms/step\n",
      "Epoch 1/10\n",
      "1479/1479 [==============================] - 1s 645us/step - loss: 0.4351 - acc: 0.9121\n",
      "Epoch 2/10\n",
      "1479/1479 [==============================] - 0s 216us/step - loss: 0.2285 - acc: 0.9425\n",
      "Epoch 3/10\n",
      "1479/1479 [==============================] - 0s 198us/step - loss: 0.1820 - acc: 0.9513\n",
      "Epoch 4/10\n",
      "1479/1479 [==============================] - 0s 199us/step - loss: 0.1458 - acc: 0.9601\n",
      "Epoch 5/10\n",
      "1479/1479 [==============================] - 0s 203us/step - loss: 0.1211 - acc: 0.9628\n",
      "Epoch 6/10\n",
      "1479/1479 [==============================] - 0s 198us/step - loss: 0.1044 - acc: 0.9730\n",
      "Epoch 7/10\n",
      "1479/1479 [==============================] - 0s 199us/step - loss: 0.1035 - acc: 0.9662\n",
      "Epoch 8/10\n",
      "1479/1479 [==============================] - 1s 781us/step - loss: 0.0829 - acc: 0.9770\n",
      "Epoch 9/10\n",
      "1479/1479 [==============================] - 1s 681us/step - loss: 0.0758 - acc: 0.9763\n",
      "Epoch 10/10\n",
      "1479/1479 [==============================] - 0s 195us/step - loss: 0.0716 - acc: 0.9790\n",
      "492/492 [==============================] - 0s 472us/step\n"
     ]
    }
   ],
   "source": [
    "seed = 7\n",
    "np.random.seed(seed)\n",
    "kfold=KFold(n_splits=4, shuffle=True, random_state=seed)\n",
    "accuracy=[]\n",
    "f1=[]\n",
    "precision=[]\n",
    "recall=[]\n",
    "\n",
    "f1_class=np.empty((0,7))\n",
    "precision_class=np.empty((0,7))\n",
    "recall_class=np.empty((0,7))\n",
    "for train, test in kfold.split(X_train, newY_train,Y_train):\n",
    "    # create model\n",
    "    model = Sequential()\n",
    "    model.add(Dense(175, input_dim=94, activation='relu'))\n",
    "    model.add(Dropout(0.5))\n",
    "    model.add(Dense(45, activation='relu'))\n",
    "    model.add(Dropout(0.3))\n",
    "    model.add(Dense(7, activation='softmax'))\n",
    "    adam=optimizers.Adam(lr=0.002, beta_1=0.9, beta_2=0.999, epsilon=1e-8)\n",
    "    model.compile(loss='categorical_crossentropy',optimizer=adam, metrics=['accuracy'])\n",
    "    \n",
    "    model.fit(X_train[train], newY_train[train], epochs=10, batch_size=10, verbose=1,class_weight=class_weights_values)\n",
    "    y_pred=model.predict(X_train[test])\n",
    "    predict_class = np.argmax(y_pred, axis=1)\n",
    "    \n",
    "    labels=[0,1,2,3,4,5,6]\n",
    "    #f1 values\n",
    "    f1_value=metrics.f1_score(predict_class,Y_train[test],labels,average='macro')\n",
    "    f1_class_value=metrics.f1_score(predict_class,Y_train[test],labels,average=None).reshape(1, -1)\n",
    "    \n",
    "    #precision values\n",
    "    precision_value=metrics.precision_score(predict_class,Y_train[test],labels,average='macro')\n",
    "    precision_class_value=metrics.precision_score(predict_class,Y_train[test],labels,average=None).reshape(1, -1)\n",
    "    \n",
    "    #recall values\n",
    "    recall_value=metrics.recall_score(predict_class,Y_train[test],labels,average='macro')\n",
    "    recall_class_value=metrics.recall_score(predict_class,Y_train[test],labels,average=None).reshape(1, -1)\n",
    "    \n",
    "    scores = model.evaluate(X_train[test], newY_train[test], verbose=1)\n",
    "    accuracy.append(scores[1])\n",
    "    f1.append(f1_value)\n",
    "    precision.append(precision_value)\n",
    "    recall.append(recall_value)\n",
    "    \n",
    "    f1_class=np.concatenate((f1_class,f1_class_value),axis=0)\n",
    "    precision_class=np.concatenate((precision_class,precision_class_value),axis=0)\n",
    "    recall_class=np.concatenate((recall_class,recall_class_value),axis=0)\n",
    "    \n",
    "average_f1=f1_class.mean(axis=0)\n",
    "average_precision=precision_class.mean(axis=0)\n",
    "average_recall=recall_class.mean(axis=0)"
   ]
  },
  {
   "cell_type": "code",
   "execution_count": 13,
   "metadata": {},
   "outputs": [
    {
     "name": "stdout",
     "output_type": "stream",
     "text": [
      "For training:\n",
      "Accuracy is :0.9731093025940402\n",
      "F1 is :0.6088588402893224\n",
      "Average F1 for all the classes is:[0.98562295 0.1        0.68174603 0.9564507  0.82985887 0.70833333\n",
      " 0.        ]\n"
     ]
    }
   ],
   "source": [
    "print(\"For training:\")\n",
    "print(\"Accuracy is :\"+ str(np.mean(accuracy)))\n",
    "print(\"F1 is :\"+ str(np.mean(f1)))\n",
    "print(\"Average F1 for all the classes is:\" +str(average_f1))"
   ]
  },
  {
   "cell_type": "code",
   "execution_count": 14,
   "metadata": {},
   "outputs": [],
   "source": [
    "#Based on the other models, we will compare the score against the other models\n",
    "#and then see how well the model will generalise based on the test scores."
   ]
  },
  {
   "cell_type": "code",
   "execution_count": 15,
   "metadata": {
    "scrolled": true
   },
   "outputs": [
    {
     "name": "stderr",
     "output_type": "stream",
     "text": [
      "C:\\Users\\user\\Miniconda3\\lib\\site-packages\\sklearn\\utils\\validation.py:761: DataConversionWarning: A column-vector y was passed when a 1d array was expected. Please change the shape of y to (n_samples, ), for example using ravel().\n",
      "  y = column_or_1d(y, warn=True)\n"
     ]
    },
    {
     "name": "stdout",
     "output_type": "stream",
     "text": [
      "Epoch 1/10\n",
      "9408/9408 [==============================] - 1s 157us/step - loss: 0.5238 - acc: 0.8508 - precision: 0.9212 - recall: 0.4003\n",
      "Epoch 2/10\n",
      "9408/9408 [==============================] - 1s 89us/step - loss: 0.0753 - acc: 0.9860 - precision: 0.9809 - recall: 0.9167\n",
      "Epoch 3/10\n",
      "9408/9408 [==============================] - 1s 88us/step - loss: 0.0443 - acc: 0.9912 - precision: 0.9839 - recall: 0.9539\n",
      "Epoch 4/10\n",
      "9408/9408 [==============================] - 1s 90us/step - loss: 0.0295 - acc: 0.9944 - precision: 0.9879 - recall: 0.9710\n",
      "Epoch 5/10\n",
      "9408/9408 [==============================] - 1s 91us/step - loss: 0.0224 - acc: 0.9951 - precision: 0.9902 - recall: 0.9754\n",
      "Epoch 6/10\n",
      "9408/9408 [==============================] - 1s 98us/step - loss: 0.0183 - acc: 0.9961 - precision: 0.9917 - recall: 0.9792\n",
      "Epoch 7/10\n",
      "9408/9408 [==============================] - 2s 189us/step - loss: 0.0179 - acc: 0.9960 - precision: 0.9917 - recall: 0.9814\n",
      "Epoch 8/10\n",
      "9408/9408 [==============================] - 2s 164us/step - loss: 0.0151 - acc: 0.9962 - precision: 0.9917 - recall: 0.9821\n",
      "Epoch 9/10\n",
      "9408/9408 [==============================] - 1s 89us/step - loss: 0.0138 - acc: 0.9971 - precision: 0.9933 - recall: 0.9866\n",
      "Epoch 10/10\n",
      "9408/9408 [==============================] - 1s 94us/step - loss: 0.0109 - acc: 0.9972 - precision: 0.9940 - recall: 0.9881\n"
     ]
    },
    {
     "name": "stderr",
     "output_type": "stream",
     "text": [
      "C:\\Users\\user\\Miniconda3\\lib\\site-packages\\sklearn\\utils\\validation.py:761: DataConversionWarning: A column-vector y was passed when a 1d array was expected. Please change the shape of y to (n_samples, ), for example using ravel().\n",
      "  y = column_or_1d(y, warn=True)\n"
     ]
    },
    {
     "name": "stdout",
     "output_type": "stream",
     "text": [
      "Epoch 1/10\n",
      "9408/9408 [==============================] - 1s 146us/step - loss: 0.4982 - acc: 0.8654 - precision: 0.9476 - recall: 0.4576\n",
      "Epoch 2/10\n",
      "9408/9408 [==============================] - 1s 90us/step - loss: 0.0795 - acc: 0.9839 - precision: 0.9761 - recall: 0.9107\n",
      "Epoch 3/10\n",
      "9408/9408 [==============================] - 1s 152us/step - loss: 0.0469 - acc: 0.9893 - precision: 0.9784 - recall: 0.9442\n",
      "Epoch 4/10\n",
      "9408/9408 [==============================] - 2s 221us/step - loss: 0.0313 - acc: 0.9934 - precision: 0.9871 - recall: 0.9658\n",
      "Epoch 5/10\n",
      "9408/9408 [==============================] - 1s 93us/step - loss: 0.0278 - acc: 0.9937 - precision: 0.9878 - recall: 0.9665\n",
      "Epoch 6/10\n",
      "9408/9408 [==============================] - 1s 90us/step - loss: 0.0204 - acc: 0.9954 - precision: 0.9924 - recall: 0.9769\n",
      "Epoch 7/10\n",
      "9408/9408 [==============================] - 1s 90us/step - loss: 0.0153 - acc: 0.9966 - precision: 0.9940 - recall: 0.9829\n",
      "Epoch 8/10\n",
      "9408/9408 [==============================] - 2s 260us/step - loss: 0.0207 - acc: 0.9952 - precision: 0.9902 - recall: 0.9777\n",
      "Epoch 9/10\n",
      "9408/9408 [==============================] - 1s 89us/step - loss: 0.0145 - acc: 0.9960 - precision: 0.9910 - recall: 0.9814\n",
      "Epoch 10/10\n",
      "9408/9408 [==============================] - 1s 88us/step - loss: 0.0123 - acc: 0.9967 - precision: 0.9925 - recall: 0.9844\n"
     ]
    },
    {
     "name": "stderr",
     "output_type": "stream",
     "text": [
      "C:\\Users\\user\\Miniconda3\\lib\\site-packages\\sklearn\\utils\\validation.py:761: DataConversionWarning: A column-vector y was passed when a 1d array was expected. Please change the shape of y to (n_samples, ), for example using ravel().\n",
      "  y = column_or_1d(y, warn=True)\n"
     ]
    },
    {
     "name": "stdout",
     "output_type": "stream",
     "text": [
      "Epoch 1/10\n",
      "9408/9408 [==============================] - 1s 137us/step - loss: 0.4892 - acc: 0.8621 - precision: 0.9347 - recall: 0.5007\n",
      "Epoch 2/10\n",
      "9408/9408 [==============================] - 1s 86us/step - loss: 0.0759 - acc: 0.9862 - precision: 0.9794 - recall: 0.9204\n",
      "Epoch 3/10\n",
      "9408/9408 [==============================] - 2s 194us/step - loss: 0.0425 - acc: 0.9918 - precision: 0.9862 - recall: 0.9546\n",
      "Epoch 4/10\n",
      "9408/9408 [==============================] - 1s 155us/step - loss: 0.0274 - acc: 0.9943 - precision: 0.9909 - recall: 0.9725\n",
      "Epoch 5/10\n",
      "9408/9408 [==============================] - 1s 86us/step - loss: 0.0220 - acc: 0.9949 - precision: 0.9887 - recall: 0.9754\n",
      "Epoch 6/10\n",
      "9408/9408 [==============================] - 1s 86us/step - loss: 0.0248 - acc: 0.9936 - precision: 0.9864 - recall: 0.9702\n",
      "Epoch 7/10\n",
      "9408/9408 [==============================] - 1s 87us/step - loss: 0.0113 - acc: 0.9978 - precision: 0.9970 - recall: 0.9888\n",
      "Epoch 8/10\n",
      "9408/9408 [==============================] - 3s 273us/step - loss: 0.0126 - acc: 0.9974 - precision: 0.9948 - recall: 0.9874\n",
      "Epoch 9/10\n",
      "9408/9408 [==============================] - 1s 159us/step - loss: 0.0156 - acc: 0.9960 - precision: 0.9888 - recall: 0.9829\n",
      "Epoch 10/10\n",
      "9408/9408 [==============================] - 1s 97us/step - loss: 0.0171 - acc: 0.9961 - precision: 0.9910 - recall: 0.9844\n"
     ]
    },
    {
     "name": "stderr",
     "output_type": "stream",
     "text": [
      "C:\\Users\\user\\Miniconda3\\lib\\site-packages\\sklearn\\utils\\validation.py:761: DataConversionWarning: A column-vector y was passed when a 1d array was expected. Please change the shape of y to (n_samples, ), for example using ravel().\n",
      "  y = column_or_1d(y, warn=True)\n"
     ]
    },
    {
     "name": "stdout",
     "output_type": "stream",
     "text": [
      "Epoch 1/10\n",
      "9408/9408 [==============================] - 1s 149us/step - loss: 0.5447 - acc: 0.8453 - precision: 0.9398 - recall: 0.3951\n",
      "Epoch 2/10\n",
      "9408/9408 [==============================] - 1s 132us/step - loss: 0.0762 - acc: 0.9845 - precision: 0.9737 - recall: 0.9077\n",
      "Epoch 3/10\n",
      "9408/9408 [==============================] - 3s 307us/step - loss: 0.0447 - acc: 0.9893 - precision: 0.9748 - recall: 0.9494\n",
      "Epoch 4/10\n",
      "9408/9408 [==============================] - 1s 93us/step - loss: 0.0277 - acc: 0.9935 - precision: 0.9856 - recall: 0.9695\n",
      "Epoch 5/10\n",
      "9408/9408 [==============================] - 1s 93us/step - loss: 0.0255 - acc: 0.9934 - precision: 0.9834 - recall: 0.9710\n",
      "Epoch 6/10\n",
      "9408/9408 [==============================] - 1s 88us/step - loss: 0.0187 - acc: 0.9962 - precision: 0.9925 - recall: 0.9814\n",
      "Epoch 7/10\n",
      "9408/9408 [==============================] - 2s 192us/step - loss: 0.0214 - acc: 0.9936 - precision: 0.9842 - recall: 0.9747\n",
      "Epoch 8/10\n",
      "9408/9408 [==============================] - 2s 239us/step - loss: 0.0134 - acc: 0.9974 - precision: 0.9933 - recall: 0.9874\n",
      "Epoch 9/10\n",
      "9408/9408 [==============================] - 1s 97us/step - loss: 0.0143 - acc: 0.9964 - precision: 0.9910 - recall: 0.9821\n",
      "Epoch 10/10\n",
      "9408/9408 [==============================] - 1s 101us/step - loss: 0.0140 - acc: 0.9974 - precision: 0.9940 - recall: 0.9881\n"
     ]
    }
   ],
   "source": [
    "seed =7\n",
    "np.random.seed(seed)\n",
    "kfold=StratifiedKFold(n_splits=4, shuffle=True,random_state=seed)\n",
    "accuracy=[]\n",
    "f1=[]\n",
    "precision=[]\n",
    "recall=[]\n",
    "\n",
    "f1_class=np.empty((0,7))\n",
    "precision_class=np.empty((0,7))\n",
    "recall_class=np.empty((0,7))\n",
    "\n",
    "for train, test in kfold.split(X_train, Y_train):\n",
    "    # create model\n",
    "    \n",
    "    #y_smote=np.argmax(newY_train[train], axis=1)\n",
    "    \n",
    "    #automatically balance all the classes of the training data\n",
    "    smote_tomek = SMOTETomek(random_state=0)\n",
    "    X_under, y_under=smote_tomek.fit_resample(X_train[train], Y_train[train]) #sampling on the trainng data only\n",
    "    X_under,y_under= shuffle(X_under,y_under)\n",
    "    \n",
    "    \n",
    "    n_values = np.max(y_under) + 1\n",
    "    y_under=np.eye(n_values)[y_under] #one hot encoding for softmax\n",
    "    \n",
    "    \"\"\"\n",
    "    pca= PCA(50)\n",
    "    X_under= pca.fit_transform(X_under)\n",
    "    newX_test=pca.transform(X_train[test])\n",
    "    \"\"\"\n",
    "    \n",
    "    model = Sequential()\n",
    "    model.add(Dense(175, input_dim=94, activation='relu'))\n",
    "    model.add(Dropout(0.5))\n",
    "    model.add(Dense(100, activation='sigmoid'))\n",
    "    model.add(Dropout(0.3))\n",
    "    model.add(Dense(45, activation='sigmoid'))\n",
    "    model.add(Dropout(0.3))\n",
    "    model.add(Dense(7, activation='softmax'))\n",
    "    adam=optimizers.Adam(lr=0.0029, beta_1=0.9, beta_2=0.999, epsilon=1e-8)\n",
    "    model.compile(loss='categorical_crossentropy',optimizer=adam, metrics=['accuracy',keras_metrics.precision(), keras_metrics.recall()])\n",
    "    \n",
    "    model.fit(X_under, y_under, epochs=10, batch_size=32, verbose=1)\n",
    "    \n",
    "    y_pred=model.predict(X_train[test])\n",
    "    predict_class = np.argmax(y_pred, axis=1) #the predicted value\n",
    "    \n",
    "    labels=[0,1,2,3,4,5,6]\n",
    "    Ylabel= np.argmax(newY_train[test], axis=1) #the actual value\n",
    "    \n",
    "    #f1 values\n",
    "    f1_value=metrics.f1_score(Ylabel,predict_class,labels,average='macro')\n",
    "    f1_class_value=metrics.f1_score(Ylabel,predict_class,labels,average=None).reshape(1, -1)\n",
    "    \n",
    "    #precision values\n",
    "    precision_value=metrics.precision_score(Ylabel,predict_class,labels,average='macro')\n",
    "    precision_class_value=metrics.precision_score(Ylabel,predict_class,labels,average=None).reshape(1, -1)\n",
    "    \n",
    "    #recall values\n",
    "    recall_value=metrics.recall_score(Ylabel,predict_class,labels,average='macro')\n",
    "    recall_class_value=metrics.recall_score(Ylabel,predict_class,labels,average=None).reshape(1, -1)\n",
    "                                         \n",
    "    scores = model.evaluate(X_train[test], newY_train[test], verbose=2)\n",
    "    accuracy.append(scores[1])\n",
    "    f1.append(f1_value)\n",
    "    precision.append(precision_value)\n",
    "    recall.append(recall_value)\n",
    "    \n",
    "    f1_class=np.concatenate((f1_class,f1_class_value),axis=0)\n",
    "    precision_class=np.concatenate((precision_class,precision_class_value),axis=0)\n",
    "    recall_class=np.concatenate((recall_class,recall_class_value),axis=0)\n",
    "    \n",
    "average_f1=f1_class.mean(axis=0)\n",
    "average_precision=precision_class.mean(axis=0)\n",
    "average_recall=recall_class.mean(axis=0)"
   ]
  },
  {
   "cell_type": "code",
   "execution_count": 16,
   "metadata": {},
   "outputs": [
    {
     "name": "stdout",
     "output_type": "stream",
     "text": [
      "For training:\n",
      "Accuracy is :0.9655001292768914\n",
      "F1 is :0.6557448885373971\n",
      "Average F1 for all the classes is:[0.98187805 0.37083333 0.61515152 0.94927439 0.82307692 0.85\n",
      " 0.        ]\n"
     ]
    }
   ],
   "source": [
    "print(\"For training:\")\n",
    "print(\"Accuracy is :\"+ str(np.mean(accuracy)))\n",
    "print(\"F1 is :\"+ str(np.mean(f1)))\n",
    "print(\"Average F1 for all the classes is:\" +str(average_f1))"
   ]
  },
  {
   "cell_type": "code",
   "execution_count": 32,
   "metadata": {
    "scrolled": true
   },
   "outputs": [
    {
     "name": "stdout",
     "output_type": "stream",
     "text": [
      "(1476, 39)\n",
      "(495, 39)\n"
     ]
    },
    {
     "name": "stderr",
     "output_type": "stream",
     "text": [
      "C:\\Users\\user\\Miniconda3\\lib\\site-packages\\sklearn\\utils\\validation.py:761: DataConversionWarning: A column-vector y was passed when a 1d array was expected. Please change the shape of y to (n_samples, ), for example using ravel().\n",
      "  y = column_or_1d(y, warn=True)\n"
     ]
    },
    {
     "name": "stdout",
     "output_type": "stream",
     "text": [
      "Epoch 1/10\n",
      "9408/9408 [==============================] - 1s 157us/step - loss: 0.2864 - acc: 0.9069 - precision: 0.8851 - recall: 0.6421\n",
      "Epoch 2/10\n",
      "9408/9408 [==============================] - 1s 93us/step - loss: 0.0665 - acc: 0.9821 - precision: 0.9595 - recall: 0.9174\n",
      "Epoch 3/10\n",
      "9408/9408 [==============================] - 1s 95us/step - loss: 0.0379 - acc: 0.9888 - precision: 0.9740 - recall: 0.9479\n",
      "Epoch 4/10\n",
      "9408/9408 [==============================] - 1s 104us/step - loss: 0.0244 - acc: 0.9935 - precision: 0.9878 - recall: 0.9665\n",
      "Epoch 5/10\n",
      "9408/9408 [==============================] - 1s 98us/step - loss: 0.0181 - acc: 0.9954 - precision: 0.9902 - recall: 0.9777\n",
      "Epoch 6/10\n",
      "9408/9408 [==============================] - 1s 98us/step - loss: 0.0164 - acc: 0.9962 - precision: 0.9917 - recall: 0.9814\n",
      "Epoch 7/10\n",
      "9408/9408 [==============================] - 1s 133us/step - loss: 0.0183 - acc: 0.9945 - precision: 0.9894 - recall: 0.9732\n",
      "Epoch 8/10\n",
      "9408/9408 [==============================] - 2s 235us/step - loss: 0.0100 - acc: 0.9976 - precision: 0.9955 - recall: 0.9874\n",
      "Epoch 9/10\n",
      "9408/9408 [==============================] - 1s 97us/step - loss: 0.0088 - acc: 0.9978 - precision: 0.9962 - recall: 0.9881\n",
      "Epoch 10/10\n",
      "9408/9408 [==============================] - 1s 100us/step - loss: 0.0059 - acc: 0.9989 - precision: 0.9978 - recall: 0.9948\n"
     ]
    },
    {
     "name": "stderr",
     "output_type": "stream",
     "text": [
      "C:\\Users\\user\\Miniconda3\\lib\\site-packages\\sklearn\\metrics\\classification.py:1143: UndefinedMetricWarning: F-score is ill-defined and being set to 0.0 in labels with no predicted samples.\n",
      "  'precision', 'predicted', average, warn_for)\n",
      "C:\\Users\\user\\Miniconda3\\lib\\site-packages\\sklearn\\metrics\\classification.py:1143: UndefinedMetricWarning: Precision is ill-defined and being set to 0.0 in labels with no predicted samples.\n",
      "  'precision', 'predicted', average, warn_for)\n"
     ]
    },
    {
     "name": "stdout",
     "output_type": "stream",
     "text": [
      "(1477, 39)\n",
      "(494, 39)\n"
     ]
    },
    {
     "name": "stderr",
     "output_type": "stream",
     "text": [
      "C:\\Users\\user\\Miniconda3\\lib\\site-packages\\sklearn\\utils\\validation.py:761: DataConversionWarning: A column-vector y was passed when a 1d array was expected. Please change the shape of y to (n_samples, ), for example using ravel().\n",
      "  y = column_or_1d(y, warn=True)\n"
     ]
    },
    {
     "name": "stdout",
     "output_type": "stream",
     "text": [
      "Epoch 1/10\n",
      "9408/9408 [==============================] - 2s 168us/step - loss: 0.3147 - acc: 0.8997 - precision: 0.8913 - recall: 0.6042\n",
      "Epoch 2/10\n",
      "9408/9408 [==============================] - 1s 97us/step - loss: 0.0642 - acc: 0.9831 - precision: 0.9648 - recall: 0.9174\n",
      "Epoch 3/10\n",
      "9408/9408 [==============================] - 1s 143us/step - loss: 0.0383 - acc: 0.9897 - precision: 0.9771 - recall: 0.9516\n",
      "Epoch 4/10\n",
      "9408/9408 [==============================] - 2s 210us/step - loss: 0.0251 - acc: 0.9926 - precision: 0.9833 - recall: 0.9665\n",
      "Epoch 5/10\n",
      "9408/9408 [==============================] - 1s 92us/step - loss: 0.0234 - acc: 0.9936 - precision: 0.9849 - recall: 0.9702\n",
      "Epoch 6/10\n",
      "9408/9408 [==============================] - 1s 92us/step - loss: 0.0204 - acc: 0.9935 - precision: 0.9842 - recall: 0.9710\n",
      "Epoch 7/10\n",
      "9408/9408 [==============================] - 1s 93us/step - loss: 0.0153 - acc: 0.9950 - precision: 0.9872 - recall: 0.9784\n",
      "Epoch 8/10\n",
      "9408/9408 [==============================] - 3s 308us/step - loss: 0.0157 - acc: 0.9959 - precision: 0.9888 - recall: 0.9821\n",
      "Epoch 9/10\n",
      "9408/9408 [==============================] - 1s 147us/step - loss: 0.0117 - acc: 0.9963 - precision: 0.9917 - recall: 0.9829\n",
      "Epoch 10/10\n",
      "9408/9408 [==============================] - 1s 108us/step - loss: 0.0108 - acc: 0.9974 - precision: 0.9962 - recall: 0.9859\n",
      "(1478, 39)\n",
      "(493, 39)\n"
     ]
    },
    {
     "name": "stderr",
     "output_type": "stream",
     "text": [
      "C:\\Users\\user\\Miniconda3\\lib\\site-packages\\sklearn\\utils\\validation.py:761: DataConversionWarning: A column-vector y was passed when a 1d array was expected. Please change the shape of y to (n_samples, ), for example using ravel().\n",
      "  y = column_or_1d(y, warn=True)\n"
     ]
    },
    {
     "name": "stdout",
     "output_type": "stream",
     "text": [
      "Epoch 1/10\n",
      "9408/9408 [==============================] - 1s 158us/step - loss: 0.2842 - acc: 0.9090 - precision: 0.8939 - recall: 0.6518\n",
      "Epoch 2/10\n",
      "9408/9408 [==============================] - 1s 98us/step - loss: 0.0551 - acc: 0.9868 - precision: 0.9729 - recall: 0.9360\n",
      "Epoch 3/10\n",
      "9408/9408 [==============================] - 2s 231us/step - loss: 0.0314 - acc: 0.9919 - precision: 0.9862 - recall: 0.9576\n",
      "Epoch 4/10\n",
      "9408/9408 [==============================] - 1s 122us/step - loss: 0.0294 - acc: 0.9915 - precision: 0.9780 - recall: 0.9613\n",
      "Epoch 5/10\n",
      "9408/9408 [==============================] - 1s 96us/step - loss: 0.0196 - acc: 0.9947 - precision: 0.9902 - recall: 0.9747\n",
      "Epoch 6/10\n",
      "9408/9408 [==============================] - 1s 97us/step - loss: 0.0153 - acc: 0.9969 - precision: 0.9947 - recall: 0.9836\n",
      "Epoch 7/10\n",
      "9408/9408 [==============================] - 2s 199us/step - loss: 0.0087 - acc: 0.9981 - precision: 0.9955 - recall: 0.9911\n",
      "Epoch 8/10\n",
      "9408/9408 [==============================] - 3s 270us/step - loss: 0.0112 - acc: 0.9972 - precision: 0.9940 - recall: 0.9888\n",
      "Epoch 9/10\n",
      "9408/9408 [==============================] - 1s 114us/step - loss: 0.0111 - acc: 0.9964 - precision: 0.9888 - recall: 0.9866\n",
      "Epoch 10/10\n",
      "9408/9408 [==============================] - 1s 112us/step - loss: 0.0102 - acc: 0.9973 - precision: 0.9940 - recall: 0.9874\n",
      "(1482, 39)\n",
      "(489, 39)\n"
     ]
    },
    {
     "name": "stderr",
     "output_type": "stream",
     "text": [
      "C:\\Users\\user\\Miniconda3\\lib\\site-packages\\sklearn\\utils\\validation.py:761: DataConversionWarning: A column-vector y was passed when a 1d array was expected. Please change the shape of y to (n_samples, ), for example using ravel().\n",
      "  y = column_or_1d(y, warn=True)\n"
     ]
    },
    {
     "name": "stdout",
     "output_type": "stream",
     "text": [
      "Epoch 1/10\n",
      "9408/9408 [==============================] - 2s 163us/step - loss: 0.2750 - acc: 0.9134 - precision: 0.9016 - recall: 0.6473\n",
      "Epoch 2/10\n",
      "9408/9408 [==============================] - 1s 101us/step - loss: 0.0569 - acc: 0.9844 - precision: 0.9658 - recall: 0.9234\n",
      "Epoch 3/10\n",
      "9408/9408 [==============================] - 3s 300us/step - loss: 0.0354 - acc: 0.9904 - precision: 0.9809 - recall: 0.9531\n",
      "Epoch 4/10\n",
      "9408/9408 [==============================] - 1s 147us/step - loss: 0.0236 - acc: 0.9933 - precision: 0.9863 - recall: 0.9665\n",
      "Epoch 5/10\n",
      "9408/9408 [==============================] - 1s 102us/step - loss: 0.0201 - acc: 0.9938 - precision: 0.9871 - recall: 0.9710\n",
      "Epoch 6/10\n",
      "9408/9408 [==============================] - 1s 100us/step - loss: 0.0164 - acc: 0.9946 - precision: 0.9887 - recall: 0.9747\n",
      "Epoch 7/10\n",
      "9408/9408 [==============================] - 2s 230us/step - loss: 0.0123 - acc: 0.9959 - precision: 0.9910 - recall: 0.9807\n",
      "Epoch 8/10\n",
      "9408/9408 [==============================] - 2s 226us/step - loss: 0.0142 - acc: 0.9957 - precision: 0.9910 - recall: 0.9821\n",
      "Epoch 9/10\n",
      "9408/9408 [==============================] - 1s 106us/step - loss: 0.0129 - acc: 0.9963 - precision: 0.9910 - recall: 0.9851\n",
      "Epoch 10/10\n",
      "9408/9408 [==============================] - 1s 103us/step - loss: 0.0151 - acc: 0.9959 - precision: 0.9888 - recall: 0.9836\n"
     ]
    }
   ],
   "source": [
    "seed = 7\n",
    "np.random.seed(seed)\n",
    "kfold=StratifiedKFold(n_splits=4, shuffle=True,random_state=seed)\n",
    "accuracy=[]\n",
    "f1=[]\n",
    "precision=[]\n",
    "recall=[]\n",
    "\n",
    "f1_class=np.empty((0,7))\n",
    "precision_class=np.empty((0,7))\n",
    "recall_class=np.empty((0,7))\n",
    "r=15\n",
    "\n",
    "for train, test in kfold.split(X_train, Y_train):\n",
    "    # create model\n",
    "    \n",
    "    #y_smote=np.argmax(newY_train[train], axis=1)\n",
    "    \n",
    "    #pca for all features\n",
    "    alphaX= X_train[train][:,0+r:18+r]\n",
    "    eluX= X_train[train][:,18+r:32+r]\n",
    "    edcX= X_train[train][:,32+r:47+r]\n",
    "    spotX= X_train[train][:,47+r:56+r]\n",
    "    spoX= X_train[train][:,56+r:58+r]\n",
    "    heatX= X_train[train][:,58+r:64+r]\n",
    "    dttX= X_train[train][:,64+r:68+r]\n",
    "    coldX= X_train[train][:,68+r:72+r]\n",
    "    diauX= X_train[train][:,72+r:79+r]\n",
    "\n",
    "    alphaX_test= X_train[test][:,0+r:18+r]\n",
    "    eluX_test= X_train[test][:,18+r:32+r]\n",
    "    edcX_test= X_train[test][:,32+r:47+r]\n",
    "    spotX_test= X_train[test][:,47+r:56+r]\n",
    "    spoX_test= X_train[test][:,56+r:58+r]\n",
    "    heatX_test= X_train[test][:,58+r:64+r]\n",
    "    dttX_test= X_train[test][:,64+r:68+r]\n",
    "    coldX_test= X_train[test][:,68+r:72+r]\n",
    "    diauX_test= X_train[test][:,72+r:79+r]\n",
    "    \n",
    "    pca= PCA(4)\n",
    "    pcaspo = PCA(2)\n",
    "    pcaed=PCA(7)\n",
    "    \n",
    "    alphaX= pcaed.fit_transform(alphaX)\n",
    "    alphaX_test=pcaed.transform(alphaX_test)\n",
    "    \n",
    "    eluX= pcaed.fit_transform(eluX)\n",
    "    eluX_test=pcaed.transform(eluX_test)\n",
    "    \n",
    "    edcX= pcaed.fit_transform(edcX)\n",
    "    edcX_test=pcaed.transform(edcX_test)\n",
    "    \n",
    "    spotX= pca.fit_transform(spotX)\n",
    "    spotX_test=pca.transform(spotX_test)\n",
    "    \n",
    "    spoX= pcaspo.fit_transform(spoX)\n",
    "    spoX_test=pcaspo.transform(spoX_test)\n",
    "    \n",
    "    heatX= pcaspo.fit_transform(heatX)\n",
    "    heatX_test=pcaspo.transform(heatX_test)\n",
    "    \n",
    "    dttX= pca.fit_transform(dttX)\n",
    "    dttX_test=pca.transform(dttX_test)\n",
    "    \n",
    "    coldX= pcaspo.fit_transform(coldX)\n",
    "    coldX_test=pcaspo.transform(coldX_test)\n",
    "    \n",
    "    diauX= pca.fit_transform(diauX)\n",
    "    diauX_test=pca.transform(diauX_test)\n",
    "    \n",
    "    x_train=np.concatenate([alphaX,eluX,edcX,spotX,spoX,heatX,dttX,coldX,diauX],axis=1)\n",
    "    x_test=np.concatenate([alphaX_test,eluX_test,edcX_test,spotX_test,spoX_test,heatX_test,dttX_test,coldX_test,diauX_test],axis=1)\n",
    "    print(x_train.shape)\n",
    "    print(x_test.shape)\n",
    "    \n",
    "    #over and undersampling-balancing all the classes\n",
    "    smote_tomek = SMOTETomek(random_state=0)\n",
    "    X_under, y_under=smote_tomek.fit_resample(x_train, Y_train[train])\n",
    "    X_under,y_under= shuffle(X_under,y_under)\n",
    "    \n",
    "    n_values = np.max(y_under) + 1\n",
    "    y_under=np.eye(n_values)[y_under] #one hot encoding for softmax\n",
    "    \n",
    "    \"\"\"\n",
    "    pca= PCA(50)\n",
    "    X_under= pca.fit_transform(X_under)\n",
    "    newX_test=pca.transform(X_train[test])\n",
    "    \"\"\"\n",
    "    \n",
    "    model = Sequential()\n",
    "    model.add(Dense(175, input_dim=39, activation='relu'))\n",
    "    model.add(Dropout(0.5))\n",
    "    model.add(Dense(75, activation='relu'))\n",
    "    model.add(Dropout(0.3))\n",
    "    model.add(Dense(7, activation='softmax'))\n",
    "    adam=optimizers.Adam(lr=0.002, beta_1=0.9, beta_2=0.999, epsilon=1e-8)\n",
    "    model.compile(loss='categorical_crossentropy',optimizer=adam, metrics=['accuracy',keras_metrics.precision(), keras_metrics.recall()])\n",
    "    \n",
    "    model.fit(X_under, y_under, epochs=10, batch_size=32, verbose=1)\n",
    "    \n",
    "    y_pred=model.predict(x_test)\n",
    "    predict_class = np.argmax(y_pred, axis=1) #the predicted value\n",
    "    \n",
    "    labels=[0,1,2,3,4,5,6]\n",
    "    Ylabel= np.argmax(newY_train[test], axis=1) #the actual value\n",
    "    \n",
    "    #f1 values\n",
    "    f1_value=metrics.f1_score(Ylabel,predict_class,labels,average='macro')\n",
    "    f1_class_value=metrics.f1_score(Ylabel,predict_class,labels,average=None).reshape(1, -1)\n",
    "    \n",
    "    #precision values\n",
    "    precision_value=metrics.precision_score(Ylabel,predict_class,labels,average='macro')\n",
    "    precision_class_value=metrics.precision_score(Ylabel,predict_class,labels,average=None).reshape(1, -1)\n",
    "    \n",
    "    #recall values\n",
    "    recall_value=metrics.recall_score(Ylabel,predict_class,labels,average='macro')\n",
    "    recall_class_value=metrics.recall_score(Ylabel,predict_class,labels,average=None).reshape(1, -1)\n",
    "                                         \n",
    "    scores = model.evaluate(x_test, newY_train[test], verbose=2)\n",
    "    accuracy.append(scores[1])\n",
    "    f1.append(f1_value)\n",
    "    precision.append(precision_value)\n",
    "    recall.append(recall_value)\n",
    "    \n",
    "    f1_class=np.concatenate((f1_class,f1_class_value),axis=0)\n",
    "    precision_class=np.concatenate((precision_class,precision_class_value),axis=0)\n",
    "    recall_class=np.concatenate((recall_class,recall_class_value),axis=0)\n",
    "    \n",
    "average_f1=f1_class.mean(axis=0)\n",
    "average_precision=precision_class.mean(axis=0)\n",
    "average_recall=recall_class.mean(axis=0)"
   ]
  },
  {
   "cell_type": "code",
   "execution_count": 33,
   "metadata": {},
   "outputs": [
    {
     "name": "stdout",
     "output_type": "stream",
     "text": [
      "For training:\n",
      "Accuracy is :0.9624460650087262\n",
      "F1 is :0.6267096170380785\n",
      "Average F1 for all the classes is:[0.97997891 0.2547619  0.55681818 0.933233   0.76217532 0.9\n",
      " 0.        ]\n"
     ]
    }
   ],
   "source": [
    "print(\"For training:\")\n",
    "print(\"Accuracy is :\"+ str(np.mean(accuracy)))\n",
    "print(\"F1 is :\"+ str(np.mean(f1)))\n",
    "print(\"Average F1 for all the classes is:\" +str(average_f1))"
   ]
  },
  {
   "cell_type": "code",
   "execution_count": null,
   "metadata": {},
   "outputs": [],
   "source": []
  }
 ],
 "metadata": {
  "kernelspec": {
   "display_name": "Python 3",
   "language": "python",
   "name": "python3"
  },
  "language_info": {
   "codemirror_mode": {
    "name": "ipython",
    "version": 3
   },
   "file_extension": ".py",
   "mimetype": "text/x-python",
   "name": "python",
   "nbconvert_exporter": "python",
   "pygments_lexer": "ipython3",
   "version": "3.7.3"
  }
 },
 "nbformat": 4,
 "nbformat_minor": 2
}
