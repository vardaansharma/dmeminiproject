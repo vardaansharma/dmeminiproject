{
 "cells": [
  {
   "cell_type": "code",
   "execution_count": 127,
   "metadata": {},
   "outputs": [],
   "source": [
    "import sys\n",
    "import pickle\n",
    "import numpy as np\n",
    "import pandas as pd\n",
    "import tensorflow as tf\n",
    "from sklearn.model_selection import StratifiedKFold\n",
    "from tensorflow import keras\n",
    "from keras.models import Sequential\n",
    "from keras.layers import Dense, Flatten, LSTM, Dropout,Conv1D,MaxPooling1D,initializers,Input\n",
    "from keras.models import Model\n",
    "from keras import optimizers,regularizers\n",
    "from keras.callbacks import History,EarlyStopping\n",
    "from keras.optimizers import SGD\n",
    "import keras_metrics\n",
    "from sklearn import metrics"
   ]
  },
  {
   "cell_type": "code",
   "execution_count": 165,
   "metadata": {},
   "outputs": [],
   "source": [
    "X=np.loadtxt('newdata.txt')\n",
    "Y=np.loadtxt('newlabels.txt')\n",
    "Y=Y.astype(int)"
   ]
  },
  {
   "cell_type": "code",
   "execution_count": 129,
   "metadata": {},
   "outputs": [
    {
     "name": "stdout",
     "output_type": "stream",
     "text": [
      "(2600, 79)\n",
      "(2600,)\n"
     ]
    }
   ],
   "source": [
    "print(X.shape)\n",
    "print(Y.shape)\n",
    "X,Y= shuffle(X,Y)"
   ]
  },
  {
   "cell_type": "code",
   "execution_count": 130,
   "metadata": {},
   "outputs": [
    {
     "name": "stdout",
     "output_type": "stream",
     "text": [
      "(2600, 7)\n"
     ]
    }
   ],
   "source": [
    "n_values = np.max(Y) + 1\n",
    "newY=np.eye(n_values)[Y]\n",
    "print(newY.shape)"
   ]
  },
  {
   "cell_type": "code",
   "execution_count": 131,
   "metadata": {},
   "outputs": [],
   "source": [
    "n=int(X.shape[0]*0.80)\n",
    "length=X.shape[0]\n",
    "X_train=X[0:n,:]\n",
    "X_test=X[n:,:]\n",
    "\n",
    "Y_train=Y[0:n]\n",
    "Y_test=Y[n:]\n",
    "\n",
    "newY_train=newY[0:n]\n",
    "newY_test=newY[n:]"
   ]
  },
  {
   "cell_type": "code",
   "execution_count": 132,
   "metadata": {},
   "outputs": [
    {
     "name": "stdout",
     "output_type": "stream",
     "text": [
      "(2080, 79)\n",
      "(520, 79)\n"
     ]
    }
   ],
   "source": [
    "print(X_train.shape)\n",
    "print(X_test.shape)"
   ]
  },
  {
   "cell_type": "code",
   "execution_count": 133,
   "metadata": {},
   "outputs": [
    {
     "name": "stdout",
     "output_type": "stream",
     "text": [
      "(2080,)\n",
      "(520,)\n",
      "(2080, 7)\n",
      "(520, 7)\n"
     ]
    }
   ],
   "source": [
    "print(Y_train.shape)\n",
    "print(Y_test.shape)\n",
    "\n",
    "print(newY_train.shape)\n",
    "print(newY_test.shape)"
   ]
  },
  {
   "cell_type": "code",
   "execution_count": 162,
   "metadata": {},
   "outputs": [
    {
     "name": "stdout",
     "output_type": "stream",
     "text": [
      "Epoch 1/10\n",
      " - 8s - loss: 1.3560 - acc: 0.5439\n",
      "Epoch 2/10\n",
      " - 1s - loss: 0.6071 - acc: 0.7819\n",
      "Epoch 3/10\n",
      " - 1s - loss: 0.2928 - acc: 0.8882\n",
      "Epoch 4/10\n",
      " - 1s - loss: 0.1802 - acc: 0.9549\n",
      "Epoch 5/10\n",
      " - 1s - loss: 0.1283 - acc: 0.9681\n",
      "Epoch 6/10\n",
      " - 1s - loss: 0.0935 - acc: 0.9778\n",
      "Epoch 7/10\n",
      " - 1s - loss: 0.0713 - acc: 0.9874\n",
      "Epoch 8/10\n",
      " - 1s - loss: 0.0518 - acc: 0.9922\n",
      "Epoch 9/10\n",
      " - 1s - loss: 0.0417 - acc: 0.9922\n",
      "Epoch 10/10\n",
      " - 1s - loss: 0.0342 - acc: 0.9952\n",
      "[[0.98461538 1.         0.99047619 1.         1.         1.\n",
      "  0.97196262]]\n",
      "Epoch 1/10\n",
      " - 8s - loss: 1.4651 - acc: 0.5889\n",
      "Epoch 2/10\n",
      " - 1s - loss: 0.5196 - acc: 0.8149\n",
      "Epoch 3/10\n",
      " - 1s - loss: 0.2915 - acc: 0.8600\n",
      "Epoch 4/10\n",
      " - 1s - loss: 0.2095 - acc: 0.8804\n",
      "Epoch 5/10\n",
      " - 1s - loss: 0.1568 - acc: 0.9429\n",
      "Epoch 6/10\n",
      " - 1s - loss: 0.1123 - acc: 0.9814\n",
      "Epoch 7/10\n",
      " - 1s - loss: 0.0753 - acc: 0.9838\n",
      "Epoch 8/10\n",
      " - 1s - loss: 0.0515 - acc: 0.9898\n",
      "Epoch 9/10\n",
      " - 1s - loss: 0.0363 - acc: 0.9934\n",
      "Epoch 10/10\n",
      " - 1s - loss: 0.0275 - acc: 0.9976\n",
      "[[0.98461538 1.         0.99047619 1.         1.         1.\n",
      "  0.97196262]\n",
      " [0.9707113  0.98947368 0.98901099 0.96969697 0.98901099 1.\n",
      "  0.99047619]]\n",
      "Epoch 1/10\n",
      " - 7s - loss: 1.5020 - acc: 0.5174\n",
      "Epoch 2/10\n",
      " - 1s - loss: 0.5646 - acc: 0.8053\n",
      "Epoch 3/10\n",
      " - 1s - loss: 0.2989 - acc: 0.8816\n",
      "Epoch 4/10\n",
      " - 1s - loss: 0.1924 - acc: 0.9495\n",
      "Epoch 5/10\n",
      " - 1s - loss: 0.1313 - acc: 0.9706\n",
      "Epoch 6/10\n",
      " - 1s - loss: 0.0939 - acc: 0.9820\n",
      "Epoch 7/10\n",
      " - 1s - loss: 0.0704 - acc: 0.9862\n",
      "Epoch 8/10\n",
      " - 1s - loss: 0.0520 - acc: 0.9922\n",
      "Epoch 9/10\n",
      " - 1s - loss: 0.0412 - acc: 0.9940\n",
      "Epoch 10/10\n",
      " - 1s - loss: 0.0333 - acc: 0.9964\n",
      "[[0.98461538 1.         0.99047619 1.         1.         1.\n",
      "  0.97196262]\n",
      " [0.9707113  0.98947368 0.98901099 0.96969697 0.98901099 1.\n",
      "  0.99047619]\n",
      " [0.96503497 0.99009901 0.9787234  0.975      0.96       1.\n",
      "  0.95918367]]\n",
      "Epoch 1/10\n",
      " - 8s - loss: 1.5435 - acc: 0.4657\n",
      "Epoch 2/10\n",
      " - 1s - loss: 0.6537 - acc: 0.7674\n",
      "Epoch 3/10\n",
      " - 1s - loss: 0.2594 - acc: 0.9345\n",
      "Epoch 4/10\n",
      " - 1s - loss: 0.1527 - acc: 0.9700\n",
      "Epoch 5/10\n",
      " - 1s - loss: 0.1011 - acc: 0.9838\n",
      "Epoch 6/10\n",
      " - 1s - loss: 0.0770 - acc: 0.9868\n",
      "Epoch 7/10\n",
      " - 1s - loss: 0.0594 - acc: 0.9892\n",
      "Epoch 8/10\n",
      " - 1s - loss: 0.0473 - acc: 0.9928\n",
      "Epoch 9/10\n",
      " - 1s - loss: 0.0371 - acc: 0.9958\n",
      "Epoch 10/10\n",
      " - 1s - loss: 0.0308 - acc: 0.9958\n",
      "[[0.98461538 1.         0.99047619 1.         1.         1.\n",
      "  0.97196262]\n",
      " [0.9707113  0.98947368 0.98901099 0.96969697 0.98901099 1.\n",
      "  0.99047619]\n",
      " [0.96503497 0.99009901 0.9787234  0.975      0.96       1.\n",
      "  0.95918367]\n",
      " [0.95910781 0.97560976 0.98245614 0.98148148 0.97674419 1.\n",
      "  0.96551724]]\n",
      "Epoch 1/10\n",
      " - 8s - loss: 1.4901 - acc: 0.3852\n",
      "Epoch 2/10\n",
      " - 1s - loss: 0.4972 - acc: 0.8389\n",
      "Epoch 3/10\n",
      " - 1s - loss: 0.2234 - acc: 0.9549\n",
      "Epoch 4/10\n",
      " - 1s - loss: 0.1438 - acc: 0.9694\n",
      "Epoch 5/10\n",
      " - 1s - loss: 0.1051 - acc: 0.9778\n",
      "Epoch 6/10\n",
      " - 1s - loss: 0.0796 - acc: 0.9832\n",
      "Epoch 7/10\n",
      " - 1s - loss: 0.0623 - acc: 0.9892\n",
      "Epoch 8/10\n",
      " - 1s - loss: 0.0484 - acc: 0.9928\n",
      "Epoch 9/10\n",
      " - 1s - loss: 0.0390 - acc: 0.9934\n",
      "Epoch 10/10\n",
      " - 1s - loss: 0.0314 - acc: 0.9952\n",
      "[[0.98461538 1.         0.99047619 1.         1.         1.\n",
      "  0.97196262]\n",
      " [0.9707113  0.98947368 0.98901099 0.96969697 0.98901099 1.\n",
      "  0.99047619]\n",
      " [0.96503497 0.99009901 0.9787234  0.975      0.96       1.\n",
      "  0.95918367]\n",
      " [0.95910781 0.97560976 0.98245614 0.98148148 0.97674419 1.\n",
      "  0.96551724]\n",
      " [0.98023715 1.         1.         0.99115044 0.98924731 1.\n",
      "  0.96470588]]\n",
      "For training:\n",
      "Accuracy is :0.9817307692307692\n",
      "F1 is :0.9839923647687894\n",
      "Precision is: 0.9872366814158845\n",
      "Recall is: 0.9813777799551258\n"
     ]
    }
   ],
   "source": [
    "seed = 7\n",
    "np.random.seed(seed)\n",
    "StratifiedKFold(n_splits=5, shuffle=True, random_state=seed)\n",
    "accuracy=[]\n",
    "f1=[]\n",
    "precision=[]\n",
    "recall=[]\n",
    "\n",
    "f1_class=np.empty((0,7))\n",
    "precision_class=np.empty((0,7))\n",
    "recall_class=np.empty((0,7))\n",
    "for train, test in kfold.split(X_train, newY_train,Y_train):\n",
    "  # create model\n",
    "    model = Sequential()\n",
    "    model.add(Dense(32, input_dim=79, activation='relu'))\n",
    "    model.add(Dense(16, activation='relu'))\n",
    "    model.add(Dense(7, activation='sigmoid'))\n",
    "    model.compile(loss='categorical_crossentropy',optimizer='adam', metrics=['accuracy'])\n",
    "    \n",
    "    model.fit(X_train[train], newY_train[train], epochs=10, batch_size=10, verbose=2)\n",
    "    y_pred=model.predict(X_train[test])\n",
    "    predict_class = np.argmax(y_pred, axis=1)\n",
    "    \n",
    "    #f1 values\n",
    "    f1_value=metrics.f1_score(predict_class,Y_train[test],average='macro')\n",
    "    f1_class_value=metrics.f1_score(predict_class,Y_train[test],average=None).reshape(1, -1)\n",
    "    \n",
    "    #precision values\n",
    "    precision_value=metrics.precision_score(predict_class,Y_train[test],average='macro')\n",
    "    precision_class_value=metrics.precision_score(predict_class,Y_train[test],average=None).reshape(1, -1)\n",
    "    \n",
    "    #recall values\n",
    "    recall_value=metrics.recall_score(predict_class,Y_train[test],average='macro')\n",
    "    recall_class_value=metrics.recall_score(predict_class,Y_train[test],average=None).reshape(1, -1)\n",
    "    \n",
    "    scores = model.evaluate(X_train[test], newY_train[test], verbose=0)\n",
    "    accuracy.append(scores[1])\n",
    "    \n",
    "    f1.append(f1_value)\n",
    "    precision.append(precision_value)\n",
    "    recall.append(recall_value)\n",
    "    \n",
    "    f1_class=np.concatenate((f1_class,f1_class_value),axis=0)\n",
    "    print(f1_class)\n",
    "    precision_class=np.concatenate((precision_class,precision_class_value),axis=0)\n",
    "    recall_class=np.concatenate((recall_class,recall_class_value),axis=0)\n",
    "    \n",
    "average_f1=f1_class.mean(axis=0)\n",
    "average_precision=precision_class.mean(axis=0)\n",
    "average_recall=recall_class.mean(axis=0)"
   ]
  },
  {
   "cell_type": "code",
   "execution_count": 166,
   "metadata": {},
   "outputs": [
    {
     "name": "stdout",
     "output_type": "stream",
     "text": [
      "For training:\n",
      "Accuracy is :0.9817307692307692\n",
      "F1 is :0.9839923647687894\n",
      "Precision is: 0.9872366814158845\n",
      "Recall is: 0.9813777799551258\n",
      "\n",
      "\n",
      "Average F1 for all the classes is:[0.97194132 0.99103649 0.98813334 0.98346578 0.9830005  1.\n",
      " 0.97036912]\n",
      "Average F1 for all the classes is:[0.95952857 1.         0.99622642 0.97888954 0.97601224 1.\n",
      " 1.        ]\n",
      "Average F1 for all the classes is:[0.98477254 0.98238796 0.98042229 0.98849123 0.99090909 1.\n",
      " 0.94266135]\n"
     ]
    }
   ],
   "source": [
    "print(\"For training:\")\n",
    "print(\"Accuracy is :\"+ str(np.mean(accuracy)))\n",
    "print(\"F1 is :\"+ str(np.mean(f1)))\n",
    "print(\"Precision is: \"+str(np.mean(precision)))\n",
    "print(\"Recall is: \"+str(np.mean(recall)))\n",
    "print(\"\\n\")\n",
    "print(\"Average F1 for all the classes is:\" +str(average_f1))\n",
    "print(\"Average F1 for all the classes is:\" +str(average_precision))\n",
    "print(\"Average F1 for all the classes is:\" +str(average_recall))"
   ]
  },
  {
   "cell_type": "code",
   "execution_count": null,
   "metadata": {},
   "outputs": [],
   "source": [
    "#Based on the other models, we will compare the score against the other models\n",
    "#and then see how well the model will generalise based on the test scores."
   ]
  }
 ],
 "metadata": {
  "kernelspec": {
   "display_name": "Python 3",
   "language": "python",
   "name": "python3"
  },
  "language_info": {
   "codemirror_mode": {
    "name": "ipython",
    "version": 3
   },
   "file_extension": ".py",
   "mimetype": "text/x-python",
   "name": "python",
   "nbconvert_exporter": "python",
   "pygments_lexer": "ipython3",
   "version": "3.7.0"
  }
 },
 "nbformat": 4,
 "nbformat_minor": 2
}
