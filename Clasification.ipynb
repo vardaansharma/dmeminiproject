{
 "cells": [
  {
   "cell_type": "code",
   "execution_count": 76,
   "metadata": {},
   "outputs": [],
   "source": [
    "import sys\n",
    "import pickle\n",
    "import numpy as np\n",
    "import pandas as pd\n",
    "import tensorflow as tf\n",
    "from sklearn.model_selection import KFold\n",
    "from sklearn.model_selection import StratifiedKFold\n",
    "from tensorflow import keras\n",
    "from keras.models import Sequential\n",
    "from keras import layers, initializers\n",
    "from keras.layers import Dense,Dropout, LSTM, Flatten\n",
    "from keras.models import Model\n",
    "from keras import optimizers,regularizers\n",
    "from keras.callbacks import History,EarlyStopping\n",
    "from keras.optimizers import SGD\n",
    "import keras_metrics\n",
    "from sklearn import metrics\n",
    "from sklearn.utils import shuffle\n",
    "from collections import Counter\n",
    "from imblearn.over_sampling import SMOTE\n",
    "from imblearn.combine import SMOTEENN\n",
    "from imblearn.combine import SMOTETomek\n",
    "from imblearn.over_sampling import RandomOverSampler\n",
    "from imblearn.under_sampling import RandomUnderSampler\n",
    "from sklearn.datasets import make_classification\n",
    "from sklearn.utils import shuffle, class_weight\n",
    "from sklearn.discriminant_analysis import LinearDiscriminantAnalysis\n",
    "from sklearn.decomposition import PCA\n",
    "from keras.layers.advanced_activations import PReLU,LeakyReLU"
   ]
  },
  {
   "cell_type": "code",
   "execution_count": 77,
   "metadata": {},
   "outputs": [
    {
     "name": "stdout",
     "output_type": "stream",
     "text": [
      "['gene', 'TCA', 'Resp', 'Ribo', 'Proteas', 'Hist', 'HTH']\n",
      "\n",
      "\n",
      "['ORF', 'NAME', 'alpha 0', 'alpha 7', 'alpha 14', 'alpha 21', 'alpha 28', 'alpha 35', 'alpha 42', 'alpha 49', 'alpha 56', 'alpha 63', 'alpha 70', 'alpha 77', 'alpha 84', 'alpha 91', 'alpha 98', 'alpha 105', 'alpha 112', 'alpha 119', 'Elu 0', 'Elu 30', 'Elu 60', 'Elu 90', 'Elu 120', 'Elu 150', 'Elu 180', 'Elu 210', 'Elu 240', 'Elu 270', 'Elu 300', 'Elu 330', 'Elu 360', 'Elu 390', 'cdc15 10', 'cdc15 30', 'cdc15 50', 'cdc15 70', 'cdc15 90', 'cdc15 110', 'cdc15 130', 'cdc15 150', 'cdc15 170', 'cdc15 190', 'cdc15 210', 'cdc15 230', 'cdc15 250', 'cdc15 270', 'cdc15 290', 'spo 0', 'spo 2', 'spo 5', 'spo 7', 'spo 9', 'spo 11', 'spo5 2', 'spo5 7', 'spo5 11', 'spo- early', 'spo- mid', 'heat 0', 'heat 10', 'heat 20', 'heat 40', 'heat 80', 'heat 160', 'dtt 15', 'dtt 30', 'dtt 60', 'dtt 120', 'cold 0', 'cold 20', 'cold 40', 'cold 160', 'diau a', 'diau b', 'diau c', 'diau d', 'diau e', 'diau f', 'diau g']\n"
     ]
    }
   ],
   "source": [
    "labels = pd.read_csv('labels.csv',header=0)\n",
    "print(list(labels.columns.values))\n",
    "print(\"\\n\")\n",
    "labels= labels[pd.notnull(labels['gene'])]\n",
    "# df.value_counts()\n",
    "\n",
    "    \n",
    "    \n",
    "data=pd.read_csv('data.csv',header=0)\n",
    "print(list(data.columns.values))\n",
    "data = data[pd.notnull(data['ORF'])]"
   ]
  },
  {
   "cell_type": "code",
   "execution_count": 78,
   "metadata": {},
   "outputs": [
    {
     "data": {
      "text/html": [
       "<div>\n",
       "<style scoped>\n",
       "    .dataframe tbody tr th:only-of-type {\n",
       "        vertical-align: middle;\n",
       "    }\n",
       "\n",
       "    .dataframe tbody tr th {\n",
       "        vertical-align: top;\n",
       "    }\n",
       "\n",
       "    .dataframe thead th {\n",
       "        text-align: right;\n",
       "    }\n",
       "</style>\n",
       "<table border=\"1\" class=\"dataframe\">\n",
       "  <thead>\n",
       "    <tr style=\"text-align: right;\">\n",
       "      <th></th>\n",
       "      <th>ORF</th>\n",
       "      <th>NAME</th>\n",
       "      <th>alpha 0</th>\n",
       "      <th>alpha 7</th>\n",
       "      <th>alpha 14</th>\n",
       "      <th>alpha 21</th>\n",
       "      <th>alpha 28</th>\n",
       "      <th>alpha 35</th>\n",
       "      <th>alpha 42</th>\n",
       "      <th>alpha 49</th>\n",
       "      <th>...</th>\n",
       "      <th>cold 20</th>\n",
       "      <th>cold 40</th>\n",
       "      <th>cold 160</th>\n",
       "      <th>diau a</th>\n",
       "      <th>diau b</th>\n",
       "      <th>diau c</th>\n",
       "      <th>diau d</th>\n",
       "      <th>diau e</th>\n",
       "      <th>diau f</th>\n",
       "      <th>diau g</th>\n",
       "    </tr>\n",
       "  </thead>\n",
       "  <tbody>\n",
       "    <tr>\n",
       "      <th>0</th>\n",
       "      <td>YBR166C</td>\n",
       "      <td>TYR1   TYROSINE BIOSYNTHESIS    PREPHENATE DEH...</td>\n",
       "      <td>0.33</td>\n",
       "      <td>-0.17</td>\n",
       "      <td>0.04</td>\n",
       "      <td>-0.07</td>\n",
       "      <td>-0.09</td>\n",
       "      <td>-0.12</td>\n",
       "      <td>-0.03</td>\n",
       "      <td>-0.20</td>\n",
       "      <td>...</td>\n",
       "      <td>0.08</td>\n",
       "      <td>0.39</td>\n",
       "      <td>-0.17</td>\n",
       "      <td>0.23</td>\n",
       "      <td>0.20</td>\n",
       "      <td>0.20</td>\n",
       "      <td>-0.17</td>\n",
       "      <td>-0.69</td>\n",
       "      <td>0.14</td>\n",
       "      <td>-0.27</td>\n",
       "    </tr>\n",
       "    <tr>\n",
       "      <th>1</th>\n",
       "      <td>YOR357C</td>\n",
       "      <td>GRD19  SECRETION                GOLGI PROTEIN ...</td>\n",
       "      <td>-0.64</td>\n",
       "      <td>-0.38</td>\n",
       "      <td>-0.32</td>\n",
       "      <td>-0.29</td>\n",
       "      <td>-0.22</td>\n",
       "      <td>-0.01</td>\n",
       "      <td>-0.32</td>\n",
       "      <td>-0.27</td>\n",
       "      <td>...</td>\n",
       "      <td>0.36</td>\n",
       "      <td>-0.20</td>\n",
       "      <td>-0.34</td>\n",
       "      <td>-0.14</td>\n",
       "      <td>-0.09</td>\n",
       "      <td>0.06</td>\n",
       "      <td>-0.17</td>\n",
       "      <td>0.04</td>\n",
       "      <td>-0.97</td>\n",
       "      <td>-1.79</td>\n",
       "    </tr>\n",
       "    <tr>\n",
       "      <th>2</th>\n",
       "      <td>YLR292C</td>\n",
       "      <td>SEC72  SECRETION                ER PROTEIN TRA...</td>\n",
       "      <td>-0.23</td>\n",
       "      <td>0.19</td>\n",
       "      <td>-0.36</td>\n",
       "      <td>0.14</td>\n",
       "      <td>-0.40</td>\n",
       "      <td>0.16</td>\n",
       "      <td>-0.09</td>\n",
       "      <td>-0.12</td>\n",
       "      <td>...</td>\n",
       "      <td>0.21</td>\n",
       "      <td>-0.29</td>\n",
       "      <td>-0.36</td>\n",
       "      <td>-0.10</td>\n",
       "      <td>-0.29</td>\n",
       "      <td>-0.18</td>\n",
       "      <td>-0.34</td>\n",
       "      <td>-0.47</td>\n",
       "      <td>-0.43</td>\n",
       "      <td>-1.06</td>\n",
       "    </tr>\n",
       "    <tr>\n",
       "      <th>3</th>\n",
       "      <td>YGL112C</td>\n",
       "      <td>TAF60  TRANSCRIPTION            TFIID 60 KD SU...</td>\n",
       "      <td>-0.69</td>\n",
       "      <td>-0.89</td>\n",
       "      <td>-0.74</td>\n",
       "      <td>-0.56</td>\n",
       "      <td>-0.64</td>\n",
       "      <td>-0.18</td>\n",
       "      <td>-0.42</td>\n",
       "      <td>-0.34</td>\n",
       "      <td>...</td>\n",
       "      <td>-0.01</td>\n",
       "      <td>-0.29</td>\n",
       "      <td>0.31</td>\n",
       "      <td>0.21</td>\n",
       "      <td>0.07</td>\n",
       "      <td>0.18</td>\n",
       "      <td>-0.14</td>\n",
       "      <td>-0.20</td>\n",
       "      <td>-0.43</td>\n",
       "      <td>-1.51</td>\n",
       "    </tr>\n",
       "    <tr>\n",
       "      <th>4</th>\n",
       "      <td>YIL118W</td>\n",
       "      <td>RHO3   CYTOSKELETON             GTP-BINDING PR...</td>\n",
       "      <td>0.04</td>\n",
       "      <td>0.01</td>\n",
       "      <td>-0.81</td>\n",
       "      <td>NaN</td>\n",
       "      <td>-0.30</td>\n",
       "      <td>0.49</td>\n",
       "      <td>0.08</td>\n",
       "      <td>0.19</td>\n",
       "      <td>...</td>\n",
       "      <td>0.28</td>\n",
       "      <td>-0.17</td>\n",
       "      <td>0.26</td>\n",
       "      <td>0.07</td>\n",
       "      <td>-0.17</td>\n",
       "      <td>NaN</td>\n",
       "      <td>-0.10</td>\n",
       "      <td>-0.23</td>\n",
       "      <td>-0.51</td>\n",
       "      <td>-1.40</td>\n",
       "    </tr>\n",
       "  </tbody>\n",
       "</table>\n",
       "<p>5 rows × 81 columns</p>\n",
       "</div>"
      ],
      "text/plain": [
       "       ORF                                               NAME  alpha 0  \\\n",
       "0  YBR166C  TYR1   TYROSINE BIOSYNTHESIS    PREPHENATE DEH...     0.33   \n",
       "1  YOR357C  GRD19  SECRETION                GOLGI PROTEIN ...    -0.64   \n",
       "2  YLR292C  SEC72  SECRETION                ER PROTEIN TRA...    -0.23   \n",
       "3  YGL112C  TAF60  TRANSCRIPTION            TFIID 60 KD SU...    -0.69   \n",
       "4  YIL118W  RHO3   CYTOSKELETON             GTP-BINDING PR...     0.04   \n",
       "\n",
       "   alpha 7  alpha 14  alpha 21  alpha 28  alpha 35  alpha 42  alpha 49  ...  \\\n",
       "0    -0.17      0.04     -0.07     -0.09     -0.12     -0.03     -0.20  ...   \n",
       "1    -0.38     -0.32     -0.29     -0.22     -0.01     -0.32     -0.27  ...   \n",
       "2     0.19     -0.36      0.14     -0.40      0.16     -0.09     -0.12  ...   \n",
       "3    -0.89     -0.74     -0.56     -0.64     -0.18     -0.42     -0.34  ...   \n",
       "4     0.01     -0.81       NaN     -0.30      0.49      0.08      0.19  ...   \n",
       "\n",
       "   cold 20  cold 40  cold 160  diau a  diau b  diau c  diau d  diau e  diau f  \\\n",
       "0     0.08     0.39     -0.17    0.23    0.20    0.20   -0.17   -0.69    0.14   \n",
       "1     0.36    -0.20     -0.34   -0.14   -0.09    0.06   -0.17    0.04   -0.97   \n",
       "2     0.21    -0.29     -0.36   -0.10   -0.29   -0.18   -0.34   -0.47   -0.43   \n",
       "3    -0.01    -0.29      0.31    0.21    0.07    0.18   -0.14   -0.20   -0.43   \n",
       "4     0.28    -0.17      0.26    0.07   -0.17     NaN   -0.10   -0.23   -0.51   \n",
       "\n",
       "   diau g  \n",
       "0   -0.27  \n",
       "1   -1.79  \n",
       "2   -1.06  \n",
       "3   -1.51  \n",
       "4   -1.40  \n",
       "\n",
       "[5 rows x 81 columns]"
      ]
     },
     "execution_count": 78,
     "metadata": {},
     "output_type": "execute_result"
    }
   ],
   "source": [
    "data.head(5)"
   ]
  },
  {
   "cell_type": "code",
   "execution_count": 79,
   "metadata": {},
   "outputs": [
    {
     "data": {
      "text/html": [
       "<div>\n",
       "<style scoped>\n",
       "    .dataframe tbody tr th:only-of-type {\n",
       "        vertical-align: middle;\n",
       "    }\n",
       "\n",
       "    .dataframe tbody tr th {\n",
       "        vertical-align: top;\n",
       "    }\n",
       "\n",
       "    .dataframe thead th {\n",
       "        text-align: right;\n",
       "    }\n",
       "</style>\n",
       "<table border=\"1\" class=\"dataframe\">\n",
       "  <thead>\n",
       "    <tr style=\"text-align: right;\">\n",
       "      <th></th>\n",
       "      <th>gene</th>\n",
       "      <th>TCA</th>\n",
       "      <th>Resp</th>\n",
       "      <th>Ribo</th>\n",
       "      <th>Proteas</th>\n",
       "      <th>Hist</th>\n",
       "      <th>HTH</th>\n",
       "    </tr>\n",
       "  </thead>\n",
       "  <tbody>\n",
       "    <tr>\n",
       "      <th>1</th>\n",
       "      <td>YAL001C</td>\n",
       "      <td>-1.0</td>\n",
       "      <td>-1.0</td>\n",
       "      <td>-1.0</td>\n",
       "      <td>-1.0</td>\n",
       "      <td>-1.0</td>\n",
       "      <td>-1.0</td>\n",
       "    </tr>\n",
       "    <tr>\n",
       "      <th>3</th>\n",
       "      <td>YAL002W</td>\n",
       "      <td>-1.0</td>\n",
       "      <td>-1.0</td>\n",
       "      <td>-1.0</td>\n",
       "      <td>-1.0</td>\n",
       "      <td>-1.0</td>\n",
       "      <td>-1.0</td>\n",
       "    </tr>\n",
       "    <tr>\n",
       "      <th>5</th>\n",
       "      <td>YAL003W</td>\n",
       "      <td>-1.0</td>\n",
       "      <td>-1.0</td>\n",
       "      <td>-1.0</td>\n",
       "      <td>-1.0</td>\n",
       "      <td>-1.0</td>\n",
       "      <td>-1.0</td>\n",
       "    </tr>\n",
       "    <tr>\n",
       "      <th>7</th>\n",
       "      <td>YAL005C</td>\n",
       "      <td>-1.0</td>\n",
       "      <td>-1.0</td>\n",
       "      <td>-1.0</td>\n",
       "      <td>-1.0</td>\n",
       "      <td>-1.0</td>\n",
       "      <td>-1.0</td>\n",
       "    </tr>\n",
       "    <tr>\n",
       "      <th>9</th>\n",
       "      <td>YAL010C</td>\n",
       "      <td>-1.0</td>\n",
       "      <td>-1.0</td>\n",
       "      <td>-1.0</td>\n",
       "      <td>-1.0</td>\n",
       "      <td>-1.0</td>\n",
       "      <td>-1.0</td>\n",
       "    </tr>\n",
       "  </tbody>\n",
       "</table>\n",
       "</div>"
      ],
      "text/plain": [
       "      gene  TCA  Resp  Ribo  Proteas  Hist  HTH\n",
       "1  YAL001C -1.0  -1.0  -1.0     -1.0  -1.0 -1.0\n",
       "3  YAL002W -1.0  -1.0  -1.0     -1.0  -1.0 -1.0\n",
       "5  YAL003W -1.0  -1.0  -1.0     -1.0  -1.0 -1.0\n",
       "7  YAL005C -1.0  -1.0  -1.0     -1.0  -1.0 -1.0\n",
       "9  YAL010C -1.0  -1.0  -1.0     -1.0  -1.0 -1.0"
      ]
     },
     "execution_count": 79,
     "metadata": {},
     "output_type": "execute_result"
    }
   ],
   "source": [
    "labels.head(5)"
   ]
  },
  {
   "cell_type": "code",
   "execution_count": 80,
   "metadata": {},
   "outputs": [],
   "source": [
    "X=np.loadtxt('newdata.txt')\n",
    "Y=np.loadtxt('newlabels.txt')\n",
    "Y=Y.astype(int)"
   ]
  },
  {
   "cell_type": "code",
   "execution_count": 81,
   "metadata": {},
   "outputs": [
    {
     "name": "stdout",
     "output_type": "stream",
     "text": [
      "(2464, 81)\n",
      "(2464,)\n"
     ]
    }
   ],
   "source": [
    "print(X.shape)\n",
    "print(Y.shape)\n",
    "X,Y= shuffle(X,Y)"
   ]
  },
  {
   "cell_type": "code",
   "execution_count": 82,
   "metadata": {},
   "outputs": [
    {
     "name": "stdout",
     "output_type": "stream",
     "text": [
      "(2464, 7)\n"
     ]
    }
   ],
   "source": [
    "n_values = np.max(Y) + 1\n",
    "newY=np.eye(n_values)[Y] #one hot encoding for softmax\n",
    "print(newY.shape)"
   ]
  },
  {
   "cell_type": "code",
   "execution_count": 83,
   "metadata": {},
   "outputs": [],
   "source": [
    "n=int(X.shape[0]*0.80)\n",
    "length=X.shape[0]\n",
    "X_train=X[0:n,:]\n",
    "X_test=X[n:,:]\n",
    "\n",
    "Y_train=Y[0:n]\n",
    "Y_test=Y[n:]\n",
    "\n",
    "newY_train=newY[0:n]\n",
    "newY_test=newY[n:]"
   ]
  },
  {
   "cell_type": "code",
   "execution_count": 84,
   "metadata": {},
   "outputs": [
    {
     "name": "stdout",
     "output_type": "stream",
     "text": [
      "(1971, 81)\n",
      "(493, 81)\n"
     ]
    }
   ],
   "source": [
    "print(X_train.shape)\n",
    "print(X_test.shape)"
   ]
  },
  {
   "cell_type": "code",
   "execution_count": 85,
   "metadata": {},
   "outputs": [
    {
     "name": "stdout",
     "output_type": "stream",
     "text": [
      "(1971,)\n",
      "(493,)\n",
      "One hot encoded Y shape\n",
      "(1971, 7)\n",
      "(493, 7)\n"
     ]
    }
   ],
   "source": [
    "print(Y_train.shape)\n",
    "print(Y_test.shape)\n",
    "\n",
    "print(\"One hot encoded Y shape\")\n",
    "print(newY_train.shape)\n",
    "print(newY_test.shape)"
   ]
  },
  {
   "cell_type": "code",
   "execution_count": 86,
   "metadata": {},
   "outputs": [
    {
     "name": "stdout",
     "output_type": "stream",
     "text": [
      "(1971,)\n"
     ]
    }
   ],
   "source": [
    "#using the sklearn class weights to find find the weights of the balanced class\n",
    "Y_train=Y_train.reshape((Y_train.shape[0],))\n",
    "print(Y_train.shape)\n",
    "class_weights_values= class_weight.compute_class_weight('balanced',np.unique(Y_train), Y_train)\n",
    "Y_train=Y_train.reshape(-1, 1)"
   ]
  },
  {
   "cell_type": "code",
   "execution_count": 105,
   "metadata": {},
   "outputs": [
    {
     "name": "stdout",
     "output_type": "stream",
     "text": [
      "(1971, 81)\n",
      "(1478, 81)\n",
      "Epoch 1/10\n",
      "1478/1478 [==============================] - 2s 1ms/step - loss: 0.5022 - acc: 0.8924\n",
      "Epoch 2/10\n",
      "1478/1478 [==============================] - 0s 166us/step - loss: 0.2664 - acc: 0.9344\n",
      "Epoch 3/10\n",
      "1478/1478 [==============================] - 0s 164us/step - loss: 0.1905 - acc: 0.9472\n",
      "Epoch 4/10\n",
      "1478/1478 [==============================] - 0s 165us/step - loss: 0.1758 - acc: 0.9540\n",
      "Epoch 5/10\n",
      "1478/1478 [==============================] - 0s 171us/step - loss: 0.1525 - acc: 0.9608\n",
      "Epoch 6/10\n",
      "1478/1478 [==============================] - 0s 165us/step - loss: 0.1176 - acc: 0.9648\n",
      "Epoch 7/10\n",
      "1478/1478 [==============================] - 0s 165us/step - loss: 0.1131 - acc: 0.9702\n",
      "Epoch 8/10\n",
      "1478/1478 [==============================] - 0s 165us/step - loss: 0.1153 - acc: 0.9641\n",
      "Epoch 9/10\n",
      "1478/1478 [==============================] - 0s 168us/step - loss: 0.1063 - acc: 0.9716\n",
      "Epoch 10/10\n",
      "1478/1478 [==============================] - 0s 168us/step - loss: 0.1045 - acc: 0.9723\n"
     ]
    },
    {
     "name": "stderr",
     "output_type": "stream",
     "text": [
      "/Library/Frameworks/Python.framework/Versions/3.7/lib/python3.7/site-packages/sklearn/metrics/classification.py:1143: UndefinedMetricWarning: F-score is ill-defined and being set to 0.0 in labels with no predicted samples.\n",
      "  'precision', 'predicted', average, warn_for)\n",
      "/Library/Frameworks/Python.framework/Versions/3.7/lib/python3.7/site-packages/sklearn/metrics/classification.py:1143: UndefinedMetricWarning: Precision is ill-defined and being set to 0.0 in labels with no predicted samples.\n",
      "  'precision', 'predicted', average, warn_for)\n",
      "/Library/Frameworks/Python.framework/Versions/3.7/lib/python3.7/site-packages/sklearn/metrics/classification.py:1145: UndefinedMetricWarning: Recall is ill-defined and being set to 0.0 in labels with no true samples.\n",
      "  'recall', 'true', average, warn_for)\n"
     ]
    },
    {
     "name": "stdout",
     "output_type": "stream",
     "text": [
      "493/493 [==============================] - 1s 2ms/step\n",
      "(1971, 81)\n",
      "(1478, 81)\n",
      "Epoch 1/10\n",
      "1478/1478 [==============================] - 2s 2ms/step - loss: 0.4761 - acc: 0.8978\n",
      "Epoch 2/10\n",
      "1478/1478 [==============================] - 0s 162us/step - loss: 0.2345 - acc: 0.9445\n",
      "Epoch 3/10\n",
      "1478/1478 [==============================] - 0s 164us/step - loss: 0.1841 - acc: 0.9560\n",
      "Epoch 4/10\n",
      "1478/1478 [==============================] - 0s 162us/step - loss: 0.1726 - acc: 0.9581\n",
      "Epoch 5/10\n",
      "1478/1478 [==============================] - 0s 203us/step - loss: 0.1558 - acc: 0.9662\n",
      "Epoch 6/10\n",
      "1478/1478 [==============================] - 0s 162us/step - loss: 0.1376 - acc: 0.9635\n",
      "Epoch 7/10\n",
      "1478/1478 [==============================] - 0s 161us/step - loss: 0.1075 - acc: 0.9689\n",
      "Epoch 8/10\n",
      "1478/1478 [==============================] - 0s 161us/step - loss: 0.1143 - acc: 0.9668\n",
      "Epoch 9/10\n",
      "1478/1478 [==============================] - 0s 162us/step - loss: 0.1009 - acc: 0.9689\n",
      "Epoch 10/10\n",
      "1478/1478 [==============================] - 0s 163us/step - loss: 0.0994 - acc: 0.9709\n"
     ]
    },
    {
     "name": "stderr",
     "output_type": "stream",
     "text": [
      "/Library/Frameworks/Python.framework/Versions/3.7/lib/python3.7/site-packages/sklearn/metrics/classification.py:1145: UndefinedMetricWarning: F-score is ill-defined and being set to 0.0 in labels with no true samples.\n",
      "  'recall', 'true', average, warn_for)\n"
     ]
    },
    {
     "name": "stdout",
     "output_type": "stream",
     "text": [
      "493/493 [==============================] - 1s 1ms/step\n",
      "(1971, 81)\n",
      "(1478, 81)\n",
      "Epoch 1/10\n",
      "1478/1478 [==============================] - 2s 2ms/step - loss: 0.4557 - acc: 0.9019\n",
      "Epoch 2/10\n",
      "1478/1478 [==============================] - 0s 197us/step - loss: 0.2419 - acc: 0.9520\n",
      "Epoch 3/10\n",
      "1478/1478 [==============================] - 0s 166us/step - loss: 0.1893 - acc: 0.9547\n",
      "Epoch 4/10\n",
      "1478/1478 [==============================] - 0s 164us/step - loss: 0.1820 - acc: 0.9587\n",
      "Epoch 5/10\n",
      "1478/1478 [==============================] - 0s 161us/step - loss: 0.1524 - acc: 0.9608\n",
      "Epoch 6/10\n",
      "1478/1478 [==============================] - 0s 163us/step - loss: 0.1366 - acc: 0.9628\n",
      "Epoch 7/10\n",
      "1478/1478 [==============================] - 0s 164us/step - loss: 0.1111 - acc: 0.9675\n",
      "Epoch 8/10\n",
      "1478/1478 [==============================] - 0s 164us/step - loss: 0.1184 - acc: 0.9689\n",
      "Epoch 9/10\n",
      "1478/1478 [==============================] - 0s 186us/step - loss: 0.0995 - acc: 0.9743\n",
      "Epoch 10/10\n",
      "1478/1478 [==============================] - 0s 167us/step - loss: 0.1145 - acc: 0.9709\n",
      "493/493 [==============================] - 1s 1ms/step\n",
      "(1971, 81)\n",
      "(1479, 81)\n",
      "Epoch 1/10\n",
      "1479/1479 [==============================] - 2s 2ms/step - loss: 0.4281 - acc: 0.9162\n",
      "Epoch 2/10\n",
      "1479/1479 [==============================] - 0s 186us/step - loss: 0.2212 - acc: 0.9486\n",
      "Epoch 3/10\n",
      "1479/1479 [==============================] - 0s 209us/step - loss: 0.1768 - acc: 0.9581\n",
      "Epoch 4/10\n",
      "1479/1479 [==============================] - 0s 207us/step - loss: 0.1585 - acc: 0.9567\n",
      "Epoch 5/10\n",
      "1479/1479 [==============================] - 0s 192us/step - loss: 0.1283 - acc: 0.9662\n",
      "Epoch 6/10\n",
      "1479/1479 [==============================] - 0s 177us/step - loss: 0.1332 - acc: 0.9621\n",
      "Epoch 7/10\n",
      "1479/1479 [==============================] - 0s 175us/step - loss: 0.1217 - acc: 0.9716\n",
      "Epoch 8/10\n",
      "1479/1479 [==============================] - 0s 176us/step - loss: 0.1096 - acc: 0.9689\n",
      "Epoch 9/10\n",
      "1479/1479 [==============================] - 0s 172us/step - loss: 0.1159 - acc: 0.9648\n",
      "Epoch 10/10\n",
      "1479/1479 [==============================] - 0s 174us/step - loss: 0.0877 - acc: 0.9723\n",
      "492/492 [==============================] - 1s 2ms/step\n"
     ]
    }
   ],
   "source": [
    "seed = 7\n",
    "np.random.seed(seed)\n",
    "kfold=KFold(n_splits=4, shuffle=True, random_state=seed)\n",
    "accuracy=[]\n",
    "f1=[]\n",
    "precision=[]\n",
    "recall=[]\n",
    "\n",
    "f1_class=np.empty((0,7))\n",
    "precision_class=np.empty((0,7))\n",
    "recall_class=np.empty((0,7))\n",
    "for train, test in kfold.split(X_train, newY_train,Y_train):\n",
    "    # create model\n",
    "    model = Sequential()\n",
    "    model.add(Dense(175, input_dim=81, activation='relu'))\n",
    "    model.add(Dropout(0.5))\n",
    "    model.add(Dense(45, activation='relu'))\n",
    "    model.add(Dropout(0.3))\n",
    "    model.add(Dense(7, activation='softmax'))\n",
    "    adam=optimizers.Adam(lr=0.002, beta_1=0.9, beta_2=0.999, epsilon=1e-8)\n",
    "    model.compile(loss='categorical_crossentropy',optimizer=adam, metrics=['accuracy'])\n",
    "    \n",
    "    model.fit(X_train[train], newY_train[train], epochs=10, batch_size=10, verbose=1,class_weight=class_weights_values)\n",
    "    y_pred=model.predict(X_train[test])\n",
    "    predict_class = np.argmax(y_pred, axis=1)\n",
    "    \n",
    "    labels=[0,1,2,3,4,5,6]\n",
    "    #f1 values\n",
    "    f1_value=metrics.f1_score(Y_train[test],predict_class,labels,average='macro')\n",
    "    f1_class_value=metrics.f1_score(Y_train[test],predict_class,labels,average=None).reshape(1, -1)\n",
    "    \n",
    "    #precision values\n",
    "    precision_value=metrics.precision_score(Y_train[test],predict_class,labels,average='macro')\n",
    "    precision_class_value=metrics.precision_score(Y_train[test],predict_class,labels,average=None).reshape(1, -1)\n",
    "    \n",
    "    #recall values\n",
    "    recall_value=metrics.recall_score(predict_class,Y_train[test],labels,average='macro')\n",
    "    recall_class_value=metrics.recall_score(predict_class,Y_train[test],labels,average=None).reshape(1, -1)\n",
    "    \n",
    "    scores = model.evaluate(X_train[test], newY_train[test], verbose=1)\n",
    "    accuracy.append(scores[1])\n",
    "    f1.append(f1_value)\n",
    "    precision.append(precision_value)\n",
    "    recall.append(recall_value)\n",
    "    \n",
    "    f1_class=np.concatenate((f1_class,f1_class_value),axis=0)\n",
    "    precision_class=np.concatenate((precision_class,precision_class_value),axis=0)\n",
    "    recall_class=np.concatenate((recall_class,recall_class_value),axis=0)\n",
    "    \n",
    "average_f1=f1_class.mean(axis=0)\n",
    "average_precision=precision_class.mean(axis=0)\n",
    "average_recall=recall_class.mean(axis=0)"
   ]
  },
  {
   "cell_type": "code",
   "execution_count": 16,
   "metadata": {},
   "outputs": [
    {
     "name": "stdout",
     "output_type": "stream",
     "text": [
      "For training:\n",
      "Accuracy is :0.9685443774413445\n",
      "F1 is :0.6100011446573073\n",
      "Average F1 for all the classes is:[0.98363441 0.         0.69038462 0.96682232 0.72916667 0.9\n",
      " 0.        ]\n"
     ]
    }
   ],
   "source": [
    "print(\"For training:\")\n",
    "print(\"Accuracy is :\"+ str(np.mean(accuracy)))\n",
    "print(\"F1 is :\"+ str(np.mean(f1)))\n",
    "print(\"Average F1 for all the classes is:\" +str(average_f1))"
   ]
  },
  {
   "cell_type": "code",
   "execution_count": 17,
   "metadata": {},
   "outputs": [],
   "source": [
    "y_pred=model.predict(X_test)\n",
    "predict_class = np.argmax(y_pred, axis=1)\n",
    "    \n",
    "labels=[0,1,2,3,4,5,6]\n",
    "#f1 values\n",
    "f1_value=metrics.f1_score(Y_test,predict_class,labels,average='macro')"
   ]
  },
  {
   "cell_type": "code",
   "execution_count": 18,
   "metadata": {},
   "outputs": [
    {
     "name": "stdout",
     "output_type": "stream",
     "text": [
      "For test set\n",
      "F1 is :0.6100011446573073\n"
     ]
    }
   ],
   "source": [
    "print(\"For test set\")\n",
    "print(\"F1 is :\"+ str(np.mean(f1)))"
   ]
  },
  {
   "cell_type": "code",
   "execution_count": 99,
   "metadata": {},
   "outputs": [],
   "source": [
    "#Based on the other models, we will compare the score against the other models\n",
    "#and then see how well the model will generalise based on the test scores."
   ]
  },
  {
   "cell_type": "code",
   "execution_count": 21,
   "metadata": {},
   "outputs": [
    {
     "name": "stderr",
     "output_type": "stream",
     "text": [
      "/Library/Frameworks/Python.framework/Versions/3.7/lib/python3.7/site-packages/sklearn/utils/validation.py:761: DataConversionWarning: A column-vector y was passed when a 1d array was expected. Please change the shape of y to (n_samples, ), for example using ravel().\n",
      "  y = column_or_1d(y, warn=True)\n",
      "/Library/Frameworks/Python.framework/Versions/3.7/lib/python3.7/site-packages/ipykernel_launcher.py:26: UserWarning: Update your `PReLU` call to the Keras 2 API: `PReLU(weights=None, alpha_initializer=\"zero\")`\n",
      "/Library/Frameworks/Python.framework/Versions/3.7/lib/python3.7/site-packages/keras/activations.py:211: UserWarning: Do not pass a layer instance (such as PReLU) as the activation argument of another layer. Instead, advanced activation layers should be used just like any other layer in a model.\n",
      "  identifier=identifier.__class__.__name__))\n"
     ]
    },
    {
     "name": "stdout",
     "output_type": "stream",
     "text": [
      "Epoch 1/10\n",
      "9366/9366 [==============================] - 1s 83us/step - loss: 0.4017 - acc: 0.8805 - precision: 0.8780 - recall: 0.4626\n",
      "Epoch 2/10\n",
      "9366/9366 [==============================] - 1s 65us/step - loss: 0.0962 - acc: 0.9732 - precision: 0.9525 - recall: 0.8700\n",
      "Epoch 3/10\n",
      "9366/9366 [==============================] - 1s 59us/step - loss: 0.0577 - acc: 0.9824 - precision: 0.9653 - recall: 0.9148\n",
      "Epoch 4/10\n",
      "9366/9366 [==============================] - 1s 68us/step - loss: 0.0421 - acc: 0.9878 - precision: 0.9768 - recall: 0.9425\n",
      "Epoch 5/10\n",
      "9366/9366 [==============================] - 0s 52us/step - loss: 0.0288 - acc: 0.9927 - precision: 0.9862 - recall: 0.9619\n",
      "Epoch 6/10\n",
      "9366/9366 [==============================] - 0s 48us/step - loss: 0.0264 - acc: 0.9931 - precision: 0.9907 - recall: 0.9604\n",
      "Epoch 7/10\n",
      "9366/9366 [==============================] - 0s 48us/step - loss: 0.0209 - acc: 0.9935 - precision: 0.9871 - recall: 0.9701\n",
      "Epoch 8/10\n",
      "9366/9366 [==============================] - 1s 58us/step - loss: 0.0185 - acc: 0.9948 - precision: 0.9931 - recall: 0.9709\n",
      "Epoch 9/10\n",
      "9366/9366 [==============================] - 1s 95us/step - loss: 0.0169 - acc: 0.9951 - precision: 0.9916 - recall: 0.9746\n",
      "Epoch 10/10\n",
      "9366/9366 [==============================] - 1s 77us/step - loss: 0.0178 - acc: 0.9952 - precision: 0.9962 - recall: 0.9731\n"
     ]
    },
    {
     "name": "stderr",
     "output_type": "stream",
     "text": [
      "/Library/Frameworks/Python.framework/Versions/3.7/lib/python3.7/site-packages/sklearn/utils/validation.py:761: DataConversionWarning: A column-vector y was passed when a 1d array was expected. Please change the shape of y to (n_samples, ), for example using ravel().\n",
      "  y = column_or_1d(y, warn=True)\n",
      "/Library/Frameworks/Python.framework/Versions/3.7/lib/python3.7/site-packages/ipykernel_launcher.py:26: UserWarning: Update your `PReLU` call to the Keras 2 API: `PReLU(weights=None, alpha_initializer=\"zero\")`\n",
      "/Library/Frameworks/Python.framework/Versions/3.7/lib/python3.7/site-packages/keras/activations.py:211: UserWarning: Do not pass a layer instance (such as PReLU) as the activation argument of another layer. Instead, advanced activation layers should be used just like any other layer in a model.\n",
      "  identifier=identifier.__class__.__name__))\n"
     ]
    },
    {
     "name": "stdout",
     "output_type": "stream",
     "text": [
      "Epoch 1/10\n",
      "9373/9373 [==============================] - 1s 105us/step - loss: 0.4105 - acc: 0.8701 - precision: 0.8591 - recall: 0.4600\n",
      "Epoch 2/10\n",
      "9373/9373 [==============================] - 1s 64us/step - loss: 0.1048 - acc: 0.9691 - precision: 0.9389 - recall: 0.8491 0s - loss: 0.1150 - acc: 0.9668 - precision: 0.9313 - re\n",
      "Epoch 3/10\n",
      "9373/9373 [==============================] - 0s 51us/step - loss: 0.0631 - acc: 0.9824 - precision: 0.9667 - recall: 0.9119\n",
      "Epoch 4/10\n",
      "9373/9373 [==============================] - 0s 53us/step - loss: 0.0381 - acc: 0.9886 - precision: 0.9784 - recall: 0.9455\n",
      "Epoch 5/10\n",
      "9373/9373 [==============================] - 0s 53us/step - loss: 0.0292 - acc: 0.9914 - precision: 0.9891 - recall: 0.9529\n",
      "Epoch 6/10\n",
      "9373/9373 [==============================] - 0s 50us/step - loss: 0.0245 - acc: 0.9925 - precision: 0.9877 - recall: 0.9612 0s - loss: 0.0246 - acc: 0.9924 - precision: 0.9860 - recall: \n",
      "Epoch 7/10\n",
      "9373/9373 [==============================] - 1s 58us/step - loss: 0.0191 - acc: 0.9936 - precision: 0.9901 - recall: 0.9671\n",
      "Epoch 8/10\n",
      "9373/9373 [==============================] - 1s 59us/step - loss: 0.0176 - acc: 0.9954 - precision: 0.9939 - recall: 0.9754\n",
      "Epoch 9/10\n",
      "9373/9373 [==============================] - 1s 65us/step - loss: 0.0181 - acc: 0.9958 - precision: 0.9954 - recall: 0.9761\n",
      "Epoch 10/10\n",
      "9373/9373 [==============================] - 1s 62us/step - loss: 0.0132 - acc: 0.9964 - precision: 0.9947 - recall: 0.9806\n"
     ]
    },
    {
     "name": "stderr",
     "output_type": "stream",
     "text": [
      "/Library/Frameworks/Python.framework/Versions/3.7/lib/python3.7/site-packages/sklearn/utils/validation.py:761: DataConversionWarning: A column-vector y was passed when a 1d array was expected. Please change the shape of y to (n_samples, ), for example using ravel().\n",
      "  y = column_or_1d(y, warn=True)\n",
      "/Library/Frameworks/Python.framework/Versions/3.7/lib/python3.7/site-packages/ipykernel_launcher.py:26: UserWarning: Update your `PReLU` call to the Keras 2 API: `PReLU(weights=None, alpha_initializer=\"zero\")`\n",
      "/Library/Frameworks/Python.framework/Versions/3.7/lib/python3.7/site-packages/keras/activations.py:211: UserWarning: Do not pass a layer instance (such as PReLU) as the activation argument of another layer. Instead, advanced activation layers should be used just like any other layer in a model.\n",
      "  identifier=identifier.__class__.__name__))\n"
     ]
    },
    {
     "name": "stdout",
     "output_type": "stream",
     "text": [
      "Epoch 1/10\n",
      "9373/9373 [==============================] - 1s 84us/step - loss: 0.4435 - acc: 0.8591 - precision: 0.8078 - recall: 0.4175\n",
      "Epoch 2/10\n",
      "9373/9373 [==============================] - 0s 49us/step - loss: 0.1253 - acc: 0.9618 - precision: 0.9177 - recall: 0.8073\n",
      "Epoch 3/10\n",
      "9373/9373 [==============================] - 0s 52us/step - loss: 0.0654 - acc: 0.9804 - precision: 0.9626 - recall: 0.9044\n",
      "Epoch 4/10\n",
      "9373/9373 [==============================] - 1s 61us/step - loss: 0.0443 - acc: 0.9868 - precision: 0.9795 - recall: 0.9261\n",
      "Epoch 5/10\n",
      "9373/9373 [==============================] - 1s 62us/step - loss: 0.0307 - acc: 0.9913 - precision: 0.9861 - recall: 0.9529\n",
      "Epoch 6/10\n",
      "9373/9373 [==============================] - 1s 57us/step - loss: 0.0264 - acc: 0.9923 - precision: 0.9840 - recall: 0.9642\n",
      "Epoch 7/10\n",
      "9373/9373 [==============================] - 1s 61us/step - loss: 0.0204 - acc: 0.9942 - precision: 0.9916 - recall: 0.9671\n",
      "Epoch 8/10\n",
      "9373/9373 [==============================] - 1s 56us/step - loss: 0.0212 - acc: 0.9936 - precision: 0.9893 - recall: 0.9686\n",
      "Epoch 9/10\n",
      "9373/9373 [==============================] - 0s 53us/step - loss: 0.0156 - acc: 0.9959 - precision: 0.9917 - recall: 0.9806\n",
      "Epoch 10/10\n",
      "9373/9373 [==============================] - 0s 51us/step - loss: 0.0158 - acc: 0.9952 - precision: 0.9916 - recall: 0.9754\n"
     ]
    },
    {
     "name": "stderr",
     "output_type": "stream",
     "text": [
      "/Library/Frameworks/Python.framework/Versions/3.7/lib/python3.7/site-packages/sklearn/utils/validation.py:761: DataConversionWarning: A column-vector y was passed when a 1d array was expected. Please change the shape of y to (n_samples, ), for example using ravel().\n",
      "  y = column_or_1d(y, warn=True)\n",
      "/Library/Frameworks/Python.framework/Versions/3.7/lib/python3.7/site-packages/ipykernel_launcher.py:26: UserWarning: Update your `PReLU` call to the Keras 2 API: `PReLU(weights=None, alpha_initializer=\"zero\")`\n",
      "/Library/Frameworks/Python.framework/Versions/3.7/lib/python3.7/site-packages/keras/activations.py:211: UserWarning: Do not pass a layer instance (such as PReLU) as the activation argument of another layer. Instead, advanced activation layers should be used just like any other layer in a model.\n",
      "  identifier=identifier.__class__.__name__))\n"
     ]
    },
    {
     "name": "stdout",
     "output_type": "stream",
     "text": [
      "Epoch 1/10\n",
      "9373/9373 [==============================] - 1s 89us/step - loss: 0.4376 - acc: 0.8657 - precision: 0.8247 - recall: 0.4780\n",
      "Epoch 2/10\n",
      "9373/9373 [==============================] - 0s 49us/step - loss: 0.1102 - acc: 0.9675 - precision: 0.9291 - recall: 0.8417\n",
      "Epoch 3/10\n",
      "9373/9373 [==============================] - 0s 52us/step - loss: 0.0612 - acc: 0.9799 - precision: 0.9588 - recall: 0.9037\n",
      "Epoch 4/10\n",
      "9373/9373 [==============================] - 0s 49us/step - loss: 0.0393 - acc: 0.9886 - precision: 0.9783 - recall: 0.9447\n",
      "Epoch 5/10\n",
      "9373/9373 [==============================] - 0s 48us/step - loss: 0.0340 - acc: 0.9908 - precision: 0.9816 - recall: 0.9574\n",
      "Epoch 6/10\n",
      "9373/9373 [==============================] - 0s 53us/step - loss: 0.0278 - acc: 0.9922 - precision: 0.9862 - recall: 0.9582\n",
      "Epoch 7/10\n",
      "9373/9373 [==============================] - 0s 47us/step - loss: 0.0235 - acc: 0.9940 - precision: 0.9893 - recall: 0.9694\n",
      "Epoch 8/10\n",
      "9373/9373 [==============================] - 0s 47us/step - loss: 0.0218 - acc: 0.9941 - precision: 0.9916 - recall: 0.9664\n",
      "Epoch 9/10\n",
      "9373/9373 [==============================] - 1s 54us/step - loss: 0.0182 - acc: 0.9947 - precision: 0.9894 - recall: 0.9731\n",
      "Epoch 10/10\n",
      "9373/9373 [==============================] - 0s 51us/step - loss: 0.0152 - acc: 0.9951 - precision: 0.9931 - recall: 0.9724\n"
     ]
    }
   ],
   "source": [
    "seed =7\n",
    "np.random.seed(seed)\n",
    "kfold=StratifiedKFold(n_splits=4, shuffle=True,random_state=seed)\n",
    "accuracy=[]\n",
    "f1=[]\n",
    "precision=[]\n",
    "recall=[]\n",
    "\n",
    "f1_class=np.empty((0,7))\n",
    "precision_class=np.empty((0,7))\n",
    "recall_class=np.empty((0,7))\n",
    "\n",
    "for train, test in kfold.split(X_train, Y_train):\n",
    "    # create model\n",
    "    \n",
    "    #y_smote=np.argmax(newY_train[train], axis=1)\n",
    "    \n",
    "    #automatically balance all the classes of the training data\n",
    "    smote_tomek = SMOTETomek(random_state=0)\n",
    "    X_under, y_under=smote_tomek.fit_resample(X_train[train], Y_train[train]) #sampling on the trainng data only\n",
    "    X_under,y_under= shuffle(X_under,y_under)\n",
    "    \n",
    "    \n",
    "    n_values = np.max(y_under) + 1\n",
    "    y_under=np.eye(n_values)[y_under] #one hot encoding for softmax\n",
    "    act = PReLU(init='zero', weights=None)\n",
    "    model = Sequential()\n",
    "    model.add(Dense(175, input_dim=81, activation=PReLU()))\n",
    "    model.add(Dropout(0.5))\n",
    "    model.add(Dense(45, activation='relu'))\n",
    "    model.add(Dropout(0.3))\n",
    "    model.add(Dense(7, activation='softmax'))\n",
    "    adam=optimizers.Adam(lr=0.0025, beta_1=0.9, beta_2=0.999, epsilon=None, decay=0.0, amsgrad=False)\n",
    "    model.compile(loss='categorical_crossentropy',optimizer='rmsprop', metrics=['accuracy',keras_metrics.precision(), keras_metrics.recall()])\n",
    "    \n",
    "    model.fit(X_under, y_under, epochs=10, batch_size=32, verbose=1)\n",
    "    \n",
    "    y_pred=model.predict(X_train[test])\n",
    "    predict_class = np.argmax(y_pred, axis=1) #the predicted value\n",
    "    \n",
    "    labels=[0,1,2,3,4,5,6]\n",
    "    Ylabel= np.argmax(newY_train[test], axis=1) #the actual value\n",
    "    \n",
    "    #f1 values\n",
    "    f1_value=metrics.f1_score(Ylabel,predict_class,labels,average='macro')\n",
    "    f1_class_value=metrics.f1_score(Ylabel,predict_class,labels,average=None).reshape(1, -1)\n",
    "    \n",
    "    #precision values\n",
    "    precision_value=metrics.precision_score(Ylabel,predict_class,labels,average='macro')\n",
    "    precision_class_value=metrics.precision_score(Ylabel,predict_class,labels,average=None).reshape(1, -1)\n",
    "    \n",
    "    #recall values\n",
    "    recall_value=metrics.recall_score(Ylabel,predict_class,labels,average='macro')\n",
    "    recall_class_value=metrics.recall_score(Ylabel,predict_class,labels,average=None).reshape(1, -1)\n",
    "                                         \n",
    "    scores = model.evaluate(X_train[test], newY_train[test], verbose=2)\n",
    "    accuracy.append(scores[1])\n",
    "    f1.append(f1_value)\n",
    "    precision.append(precision_value)\n",
    "    recall.append(recall_value)\n",
    "    \n",
    "    f1_class=np.concatenate((f1_class,f1_class_value),axis=0)\n",
    "    precision_class=np.concatenate((precision_class,precision_class_value),axis=0)\n",
    "    recall_class=np.concatenate((recall_class,recall_class_value),axis=0)\n",
    "    \n",
    "average_f1=f1_class.mean(axis=0)\n",
    "average_precision=precision_class.mean(axis=0)\n",
    "average_recall=recall_class.mean(axis=0)"
   ]
  },
  {
   "cell_type": "code",
   "execution_count": 22,
   "metadata": {},
   "outputs": [
    {
     "name": "stdout",
     "output_type": "stream",
     "text": [
      "For training:\n",
      "Accuracy is :0.9644540860851787\n",
      "F1 is :0.692161034968916\n",
      "Average F1 for all the classes is:[0.98092171 0.43333333 0.702331   0.94536065 0.78318054 0.9\n",
      " 0.1       ]\n"
     ]
    }
   ],
   "source": [
    "print(\"For training:\")\n",
    "print(\"Accuracy is :\"+ str(np.mean(accuracy)))\n",
    "print(\"F1 is :\"+ str(np.mean(f1)))\n",
    "print(\"Average F1 for all the classes is:\" +str(average_f1))"
   ]
  },
  {
   "cell_type": "code",
   "execution_count": 23,
   "metadata": {},
   "outputs": [
    {
     "name": "stderr",
     "output_type": "stream",
     "text": [
      "/Library/Frameworks/Python.framework/Versions/3.7/lib/python3.7/site-packages/sklearn/metrics/classification.py:1143: UndefinedMetricWarning: F-score is ill-defined and being set to 0.0 in labels with no predicted samples.\n",
      "  'precision', 'predicted', average, warn_for)\n",
      "/Library/Frameworks/Python.framework/Versions/3.7/lib/python3.7/site-packages/sklearn/metrics/classification.py:1145: UndefinedMetricWarning: F-score is ill-defined and being set to 0.0 in labels with no true samples.\n",
      "  'recall', 'true', average, warn_for)\n"
     ]
    }
   ],
   "source": [
    "y_pred=model.predict(X_test)\n",
    "predict_class = np.argmax(y_pred, axis=1)\n",
    "    \n",
    "labels=[0,1,2,3,4,5,6]\n",
    "#f1 values\n",
    "f1_value=metrics.f1_score(Y_test,predict_class,labels,average='macro')"
   ]
  },
  {
   "cell_type": "code",
   "execution_count": 24,
   "metadata": {},
   "outputs": [
    {
     "name": "stdout",
     "output_type": "stream",
     "text": [
      "For test set\n",
      "F1 is :0.692161034968916\n"
     ]
    }
   ],
   "source": [
    "print(\"For test set\")\n",
    "print(\"F1 is :\"+ str(np.mean(f1)))"
   ]
  },
  {
   "cell_type": "code",
   "execution_count": 92,
   "metadata": {},
   "outputs": [
    {
     "name": "stdout",
     "output_type": "stream",
     "text": [
      "(1476, 41)\n",
      "(495, 41)\n"
     ]
    },
    {
     "name": "stderr",
     "output_type": "stream",
     "text": [
      "/Library/Frameworks/Python.framework/Versions/3.7/lib/python3.7/site-packages/sklearn/utils/validation.py:761: DataConversionWarning: A column-vector y was passed when a 1d array was expected. Please change the shape of y to (n_samples, ), for example using ravel().\n",
      "  y = column_or_1d(y, warn=True)\n",
      "/Library/Frameworks/Python.framework/Versions/3.7/lib/python3.7/site-packages/keras/activations.py:211: UserWarning: Do not pass a layer instance (such as PReLU) as the activation argument of another layer. Instead, advanced activation layers should be used just like any other layer in a model.\n",
      "  identifier=identifier.__class__.__name__))\n"
     ]
    },
    {
     "name": "stdout",
     "output_type": "stream",
     "text": [
      "Epoch 1/10\n",
      "9394/9394 [==============================] - 1s 143us/step - loss: 0.4358 - acc: 0.8586 - precision: 0.8545 - recall: 0.4419\n",
      "Epoch 2/10\n",
      "9394/9394 [==============================] - 1s 104us/step - loss: 0.1133 - acc: 0.9669 - precision: 0.9378 - recall: 0.8428\n",
      "Epoch 3/10\n",
      "9394/9394 [==============================] - 1s 106us/step - loss: 0.0686 - acc: 0.9787 - precision: 0.9599 - recall: 0.8927\n",
      "Epoch 4/10\n",
      "9394/9394 [==============================] - 1s 93us/step - loss: 0.0501 - acc: 0.9867 - precision: 0.9790 - recall: 0.9374\n",
      "Epoch 5/10\n",
      "9394/9394 [==============================] - 1s 81us/step - loss: 0.0407 - acc: 0.9901 - precision: 0.9876 - recall: 0.9478\n",
      "Epoch 6/10\n",
      "9394/9394 [==============================] - 1s 76us/step - loss: 0.0316 - acc: 0.9919 - precision: 0.9892 - recall: 0.9583\n",
      "Epoch 7/10\n",
      "9394/9394 [==============================] - 1s 77us/step - loss: 0.0296 - acc: 0.9924 - precision: 0.9892 - recall: 0.9598\n",
      "Epoch 8/10\n",
      "9394/9394 [==============================] - 1s 78us/step - loss: 0.0313 - acc: 0.9924 - precision: 0.9877 - recall: 0.9598\n",
      "Epoch 9/10\n",
      "9394/9394 [==============================] - 1s 79us/step - loss: 0.0225 - acc: 0.9943 - precision: 0.9954 - recall: 0.9657\n",
      "Epoch 10/10\n",
      "9394/9394 [==============================] - 1s 78us/step - loss: 0.0251 - acc: 0.9940 - precision: 0.9916 - recall: 0.9680\n",
      "(1478, 41)\n",
      "(493, 41)\n"
     ]
    },
    {
     "name": "stderr",
     "output_type": "stream",
     "text": [
      "/Library/Frameworks/Python.framework/Versions/3.7/lib/python3.7/site-packages/sklearn/utils/validation.py:761: DataConversionWarning: A column-vector y was passed when a 1d array was expected. Please change the shape of y to (n_samples, ), for example using ravel().\n",
      "  y = column_or_1d(y, warn=True)\n",
      "/Library/Frameworks/Python.framework/Versions/3.7/lib/python3.7/site-packages/keras/activations.py:211: UserWarning: Do not pass a layer instance (such as PReLU) as the activation argument of another layer. Instead, advanced activation layers should be used just like any other layer in a model.\n",
      "  identifier=identifier.__class__.__name__))\n"
     ]
    },
    {
     "name": "stdout",
     "output_type": "stream",
     "text": [
      "Epoch 1/10\n",
      "9394/9394 [==============================] - 1s 129us/step - loss: 0.4375 - acc: 0.8592 - precision: 0.8610 - recall: 0.4478\n",
      "Epoch 2/10\n",
      "9394/9394 [==============================] - 1s 82us/step - loss: 0.1087 - acc: 0.9694 - precision: 0.9486 - recall: 0.8525\n",
      "Epoch 3/10\n",
      "9394/9394 [==============================] - 1s 78us/step - loss: 0.0663 - acc: 0.9808 - precision: 0.9661 - recall: 0.9143\n",
      "Epoch 4/10\n",
      "9394/9394 [==============================] - 1s 78us/step - loss: 0.0541 - acc: 0.9849 - precision: 0.9756 - recall: 0.9225\n",
      "Epoch 5/10\n",
      "9394/9394 [==============================] - 1s 79us/step - loss: 0.0420 - acc: 0.9885 - precision: 0.9829 - recall: 0.9411\n",
      "Epoch 6/10\n",
      "9394/9394 [==============================] - 1s 78us/step - loss: 0.0333 - acc: 0.9910 - precision: 0.9869 - recall: 0.9516\n",
      "Epoch 7/10\n",
      "9394/9394 [==============================] - 1s 77us/step - loss: 0.0334 - acc: 0.9919 - precision: 0.9877 - recall: 0.9575\n",
      "Epoch 8/10\n",
      "9394/9394 [==============================] - 1s 78us/step - loss: 0.0252 - acc: 0.9937 - precision: 0.9916 - recall: 0.9650\n",
      "Epoch 9/10\n",
      "9394/9394 [==============================] - 1s 77us/step - loss: 0.0298 - acc: 0.9930 - precision: 0.9915 - recall: 0.9598\n",
      "Epoch 10/10\n",
      "9394/9394 [==============================] - 1s 78us/step - loss: 0.0229 - acc: 0.9939 - precision: 0.9946 - recall: 0.9642\n",
      "(1479, 41)\n",
      "(492, 41)\n"
     ]
    },
    {
     "name": "stderr",
     "output_type": "stream",
     "text": [
      "/Library/Frameworks/Python.framework/Versions/3.7/lib/python3.7/site-packages/sklearn/utils/validation.py:761: DataConversionWarning: A column-vector y was passed when a 1d array was expected. Please change the shape of y to (n_samples, ), for example using ravel().\n",
      "  y = column_or_1d(y, warn=True)\n",
      "/Library/Frameworks/Python.framework/Versions/3.7/lib/python3.7/site-packages/keras/activations.py:211: UserWarning: Do not pass a layer instance (such as PReLU) as the activation argument of another layer. Instead, advanced activation layers should be used just like any other layer in a model.\n",
      "  identifier=identifier.__class__.__name__))\n"
     ]
    },
    {
     "name": "stdout",
     "output_type": "stream",
     "text": [
      "Epoch 1/10\n",
      "9401/9401 [==============================] - 1s 133us/step - loss: 0.4264 - acc: 0.8633 - precision: 0.8560 - recall: 0.4646\n",
      "Epoch 2/10\n",
      "9401/9401 [==============================] - 1s 86us/step - loss: 0.1132 - acc: 0.9664 - precision: 0.9352 - recall: 0.8593\n",
      "Epoch 3/10\n",
      "9401/9401 [==============================] - 1s 85us/step - loss: 0.0703 - acc: 0.9797 - precision: 0.9671 - recall: 0.8987\n",
      "Epoch 4/10\n",
      "9401/9401 [==============================] - 1s 86us/step - loss: 0.0525 - acc: 0.9852 - precision: 0.9690 - recall: 0.9322\n",
      "Epoch 5/10\n",
      "9401/9401 [==============================] - 1s 86us/step - loss: 0.0423 - acc: 0.9879 - precision: 0.9791 - recall: 0.9404\n",
      "Epoch 6/10\n",
      "9401/9401 [==============================] - 1s 86us/step - loss: 0.0331 - acc: 0.9917 - precision: 0.9854 - recall: 0.9568\n",
      "Epoch 7/10\n",
      "9401/9401 [==============================] - 1s 85us/step - loss: 0.0315 - acc: 0.9922 - precision: 0.9892 - recall: 0.9561\n",
      "Epoch 8/10\n",
      "9401/9401 [==============================] - 1s 86us/step - loss: 0.0294 - acc: 0.9917 - precision: 0.9862 - recall: 0.9561\n",
      "Epoch 9/10\n",
      "9401/9401 [==============================] - 1s 86us/step - loss: 0.0199 - acc: 0.9950 - precision: 0.9947 - recall: 0.9717\n",
      "Epoch 10/10\n",
      "9401/9401 [==============================] - 1s 85us/step - loss: 0.0228 - acc: 0.9940 - precision: 0.9924 - recall: 0.9687\n"
     ]
    },
    {
     "name": "stderr",
     "output_type": "stream",
     "text": [
      "/Library/Frameworks/Python.framework/Versions/3.7/lib/python3.7/site-packages/sklearn/metrics/classification.py:1143: UndefinedMetricWarning: F-score is ill-defined and being set to 0.0 in labels with no predicted samples.\n",
      "  'precision', 'predicted', average, warn_for)\n",
      "/Library/Frameworks/Python.framework/Versions/3.7/lib/python3.7/site-packages/sklearn/metrics/classification.py:1143: UndefinedMetricWarning: Precision is ill-defined and being set to 0.0 in labels with no predicted samples.\n",
      "  'precision', 'predicted', average, warn_for)\n"
     ]
    },
    {
     "name": "stdout",
     "output_type": "stream",
     "text": [
      "(1480, 41)\n",
      "(491, 41)\n"
     ]
    },
    {
     "name": "stderr",
     "output_type": "stream",
     "text": [
      "/Library/Frameworks/Python.framework/Versions/3.7/lib/python3.7/site-packages/sklearn/utils/validation.py:761: DataConversionWarning: A column-vector y was passed when a 1d array was expected. Please change the shape of y to (n_samples, ), for example using ravel().\n",
      "  y = column_or_1d(y, warn=True)\n",
      "/Library/Frameworks/Python.framework/Versions/3.7/lib/python3.7/site-packages/keras/activations.py:211: UserWarning: Do not pass a layer instance (such as PReLU) as the activation argument of another layer. Instead, advanced activation layers should be used just like any other layer in a model.\n",
      "  identifier=identifier.__class__.__name__))\n"
     ]
    },
    {
     "name": "stdout",
     "output_type": "stream",
     "text": [
      "Epoch 1/10\n",
      "9401/9401 [==============================] - 1s 132us/step - loss: 0.3968 - acc: 0.8770 - precision: 0.8366 - recall: 0.4840\n",
      "Epoch 2/10\n",
      "9401/9401 [==============================] - 1s 86us/step - loss: 0.1062 - acc: 0.9693 - precision: 0.9350 - recall: 0.8466\n",
      "Epoch 3/10\n",
      "9401/9401 [==============================] - 1s 93us/step - loss: 0.0678 - acc: 0.9807 - precision: 0.9635 - recall: 0.9047\n",
      "Epoch 4/10\n",
      "9401/9401 [==============================] - 1s 108us/step - loss: 0.0576 - acc: 0.9859 - precision: 0.9810 - recall: 0.9218\n",
      "Epoch 5/10\n",
      "9401/9401 [==============================] - 1s 94us/step - loss: 0.0433 - acc: 0.9896 - precision: 0.9867 - recall: 0.9419\n",
      "Epoch 6/10\n",
      "9401/9401 [==============================] - 1s 99us/step - loss: 0.0408 - acc: 0.9902 - precision: 0.9831 - recall: 0.9501\n",
      "Epoch 7/10\n",
      "9401/9401 [==============================] - 1s 103us/step - loss: 0.0312 - acc: 0.9906 - precision: 0.9846 - recall: 0.9523\n",
      "Epoch 8/10\n",
      "9401/9401 [==============================] - 1s 118us/step - loss: 0.0278 - acc: 0.9928 - precision: 0.9908 - recall: 0.9605\n",
      "Epoch 9/10\n",
      "9401/9401 [==============================] - 1s 91us/step - loss: 0.0258 - acc: 0.9948 - precision: 0.9954 - recall: 0.9695\n",
      "Epoch 10/10\n",
      "9401/9401 [==============================] - 1s 102us/step - loss: 0.0233 - acc: 0.9938 - precision: 0.9886 - recall: 0.9702\n"
     ]
    }
   ],
   "source": [
    "seed = 7\n",
    "np.random.seed(seed)\n",
    "kfold=StratifiedKFold(n_splits=4, shuffle=True,random_state=seed)\n",
    "accuracy=[]\n",
    "f1=[]\n",
    "precision=[]\n",
    "recall=[]\n",
    "\n",
    "f1_class=np.empty((0,7))\n",
    "precision_class=np.empty((0,7))\n",
    "recall_class=np.empty((0,7))\n",
    "r=2\n",
    "\n",
    "for train, test in kfold.split(X_train, Y_train):\n",
    "    # create model\n",
    "    \n",
    "    #y_smote=np.argmax(newY_train[train], axis=1)\n",
    "    \n",
    "    #pca for all features\n",
    "    alphaX= X_train[train][:,0+r:18+r]\n",
    "    eluX= X_train[train][:,18+r:32+r]\n",
    "    edcX= X_train[train][:,32+r:47+r]\n",
    "    spotX= X_train[train][:,47+r:56+r]\n",
    "    spoX= X_train[train][:,56+r:58+r]\n",
    "    heatX= X_train[train][:,58+r:64+r]\n",
    "    dttX= X_train[train][:,64+r:68+r]\n",
    "    coldX= X_train[train][:,68+r:72+r]\n",
    "    diauX= X_train[train][:,72+r:79+r]\n",
    "\n",
    "    alphaX_test= X_train[test][:,0+r:18+r]\n",
    "    eluX_test= X_train[test][:,18+r:32+r]\n",
    "    edcX_test= X_train[test][:,32+r:47+r]\n",
    "    spotX_test= X_train[test][:,47+r:56+r]\n",
    "    spoX_test= X_train[test][:,56+r:58+r]\n",
    "    heatX_test= X_train[test][:,58+r:64+r]\n",
    "    dttX_test= X_train[test][:,64+r:68+r]\n",
    "    coldX_test= X_train[test][:,68+r:72+r]\n",
    "    diauX_test= X_train[test][:,72+r:79+r]\n",
    "    \n",
    "    \n",
    "    talphaX_test= X_test[:,0+r:18+r]\n",
    "    teluX_test= X_test[:,18+r:32+r]\n",
    "    tedcX_test= X_test[:,32+r:47+r]\n",
    "    tspotX_test= X_test[:,47+r:56+r]\n",
    "    tspoX_test= X_test[:,56+r:58+r]\n",
    "    theatX_test= X_test[:,58+r:64+r]\n",
    "    tdttX_test= X_test[:,64+r:68+r]\n",
    "    tcoldX_test= X_test[:,68+r:72+r]\n",
    "    tdiauX_test= X_test[:,72+r:79+r]\n",
    "    \n",
    "    pca= PCA(4)\n",
    "    pcaspo = PCA(2)\n",
    "    pcaed=PCA(7)\n",
    "    \n",
    "    alphaX= pcaed.fit_transform(alphaX)\n",
    "    alphaX_test=pcaed.transform(alphaX_test)\n",
    "    talphaX_test=pcaed.transform(talphaX_test)\n",
    "    \n",
    "    eluX= pcaed.fit_transform(eluX)\n",
    "    eluX_test=pcaed.transform(eluX_test)\n",
    "    teluX_test=pcaed.transform(teluX_test)\n",
    "    \n",
    "    edcX= pcaed.fit_transform(edcX)\n",
    "    edcX_test=pcaed.transform(edcX_test)\n",
    "    tedcX_test=pcaed.transform(tedcX_test)\n",
    "    \n",
    "    spotX= pca.fit_transform(spotX)\n",
    "    spotX_test=pca.transform(spotX_test)\n",
    "    tspotX_test=pca.transform(tspotX_test)\n",
    "    \n",
    "    spoX= pcaspo.fit_transform(spoX)\n",
    "    spoX_test=pcaspo.transform(spoX_test)\n",
    "    tspoX_test=pcaspo.transform(tspoX_test)\n",
    "    \n",
    "    heatX= pcaspo.fit_transform(heatX)\n",
    "    heatX_test=pcaspo.transform(heatX_test)\n",
    "    theatX_test=pcaspo.transform(theatX_test)\n",
    "    \n",
    "    dttX= pca.fit_transform(dttX)\n",
    "    dttX_test=pca.transform(dttX_test)\n",
    "    tdttX_test=pca.transform(tdttX_test)\n",
    "    \n",
    "    coldX= pcaspo.fit_transform(coldX)\n",
    "    coldX_test=pcaspo.transform(coldX_test)\n",
    "    tcoldX_test=pcaspo.transform(tcoldX_test)\n",
    "    \n",
    "    diauX= pca.fit_transform(diauX)\n",
    "    diauX_test=pca.transform(diauX_test)\n",
    "    tdiauX_test=pca.transform(tdiauX_test)\n",
    "    \n",
    "    name_train=X_train[train][:,0:r]\n",
    "    name_test=X_train[test][:,0:r]\n",
    "    final_test=X_test[:,0:r]\n",
    "    \n",
    "    x_train=np.concatenate([name_train,alphaX,eluX,edcX,spotX,spoX,heatX,dttX,coldX,diauX],axis=1)\n",
    "    x_test=np.concatenate([name_test,alphaX_test,eluX_test,edcX_test,spotX_test,spoX_test,heatX_test,dttX_test,coldX_test,diauX_test],axis=1)\n",
    "    final_test=np.concatenate([final_test,talphaX_test,teluX_test,tedcX_test,tspotX_test,tspoX_test,theatX_test,tdttX_test,tcoldX_test,tdiauX_test],axis=1)\n",
    "    print(x_train.shape)\n",
    "    print(x_test.shape)\n",
    "    \n",
    "    \n",
    "    #over and undersampling-balancing all the classes\n",
    "    smote_tomek = SMOTETomek(random_state=0)\n",
    "    X_under, y_under=smote_tomek.fit_resample(x_train, Y_train[train])\n",
    "    X_under,y_under= shuffle(X_under,y_under)\n",
    "    \n",
    "    n_values = np.max(y_under) + 1\n",
    "    y_under=np.eye(n_values)[y_under] #one hot encoding for softmax\n",
    "    \n",
    "    \"\"\"\n",
    "    pca= PCA(50)\n",
    "    X_under= pca.fit_transform(X_under)\n",
    "    newX_test=pca.transform(X_train[test])\n",
    "    \"\"\"\n",
    "    \n",
    "    model = Sequential()\n",
    "    model.add(Dense(175, input_dim=39+r, activation=PReLU()))\n",
    "    model.add(Dropout(0.5))\n",
    "    model.add(Dense(45,activation='relu'))\n",
    "    model.add(Dropout(0.3))\n",
    "    model.add(Dense(7, activation='softmax'))\n",
    "    adam=optimizers.Adam(lr=0.002, beta_1=0.9, beta_2=0.999, epsilon=1e-8)\n",
    "    model.compile(loss='categorical_crossentropy',optimizer='rmsprop', metrics=['accuracy',keras_metrics.precision(), keras_metrics.recall()])\n",
    "    \n",
    "    model.fit(X_under, y_under, epochs=10, batch_size=20, verbose=1)\n",
    "    \n",
    "    y_pred=model.predict(x_test)\n",
    "    predict_class = np.argmax(y_pred, axis=1) #the predicted value\n",
    "    \n",
    "    labels=[0,1,2,3,4,5,6]\n",
    "    Ylabel= np.argmax(newY_train[test], axis=1) #the actual value\n",
    "    \n",
    "    #f1 values\n",
    "    f1_value=metrics.f1_score(Ylabel,predict_class,labels,average='macro')\n",
    "    f1_class_value=metrics.f1_score(Ylabel,predict_class,labels,average=None).reshape(1, -1)\n",
    "    \n",
    "    #precision values\n",
    "    precision_value=metrics.precision_score(Ylabel,predict_class,labels,average='macro')\n",
    "    precision_class_value=metrics.precision_score(Ylabel,predict_class,labels,average=None).reshape(1, -1)\n",
    "    \n",
    "    #recall values\n",
    "    recall_value=metrics.recall_score(Ylabel,predict_class,labels,average='macro')\n",
    "    recall_class_value=metrics.recall_score(Ylabel,predict_class,labels,average=None).reshape(1, -1)\n",
    "                                         \n",
    "    scores = model.evaluate(x_test, newY_train[test], verbose=2)\n",
    "    accuracy.append(scores[1])\n",
    "    f1.append(f1_value)\n",
    "    precision.append(precision_value)\n",
    "    recall.append(recall_value)\n",
    "    \n",
    "    f1_class=np.concatenate((f1_class,f1_class_value),axis=0)\n",
    "    precision_class=np.concatenate((precision_class,precision_class_value),axis=0)\n",
    "    recall_class=np.concatenate((recall_class,recall_class_value),axis=0)\n",
    "    \n",
    "average_f1=f1_class.mean(axis=0)\n",
    "average_precision=precision_class.mean(axis=0)\n",
    "average_recall=recall_class.mean(axis=0)"
   ]
  },
  {
   "cell_type": "code",
   "execution_count": 100,
   "metadata": {},
   "outputs": [
    {
     "name": "stdout",
     "output_type": "stream",
     "text": [
      "For training:\n",
      "Accuracy is :0.9538432480121163\n",
      "F1 is :0.6517129711570377\n",
      "Average F1 for all the classes is:[0.9749487  0.28733766 0.71212121 0.95035256 0.77056399 0.86666667\n",
      " 0.        ]\n"
     ]
    }
   ],
   "source": [
    "print(\"For training:\")\n",
    "print(\"Accuracy is :\"+ str(np.mean(accuracy)))\n",
    "print(\"F1 is :\"+ str(np.mean(f1)))\n",
    "print(\"Average F1 for all the classes is:\" +str(average_f1))"
   ]
  },
  {
   "cell_type": "code",
   "execution_count": 103,
   "metadata": {},
   "outputs": [],
   "source": [
    "y_pred=model.predict(final_test)\n",
    "predict_class = np.argmax(y_pred, axis=1)\n",
    "labels=[0,1,2,3,4,5,6]\n",
    "#f1 values\n",
    "f1_value=metrics.f1_score(Y_test,predict_class,average='macro')"
   ]
  },
  {
   "cell_type": "code",
   "execution_count": 104,
   "metadata": {},
   "outputs": [
    {
     "name": "stdout",
     "output_type": "stream",
     "text": [
      "For test set\n",
      "F1 is :0.6517129711570377\n"
     ]
    }
   ],
   "source": [
    "print(\"For test set\")\n",
    "print(\"F1 is :\"+ str(np.mean(f1)))"
   ]
  },
  {
   "cell_type": "code",
   "execution_count": null,
   "metadata": {},
   "outputs": [],
   "source": []
  }
 ],
 "metadata": {
  "kernelspec": {
   "display_name": "Python 3",
   "language": "python",
   "name": "python3"
  },
  "language_info": {
   "codemirror_mode": {
    "name": "ipython",
    "version": 3
   },
   "file_extension": ".py",
   "mimetype": "text/x-python",
   "name": "python",
   "nbconvert_exporter": "python",
   "pygments_lexer": "ipython3",
   "version": "3.7.0"
  }
 },
 "nbformat": 4,
 "nbformat_minor": 2
}
